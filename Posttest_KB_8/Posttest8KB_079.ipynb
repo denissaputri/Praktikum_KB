{
 "cells": [
  {
   "cell_type": "markdown",
   "id": "31e4ba6a",
   "metadata": {},
   "source": [
    "# POSTTEST 8 KB"
   ]
  },
  {
   "cell_type": "markdown",
   "id": "392915b8",
   "metadata": {},
   "source": [
    "<ul>\n",
    "    <li> Nama : Denissa Putri Maha Rani\n",
    "    <li> NIM : 2009106079\n",
    "    <li> dataset : <a href='https://www.kaggle.com/datasets/fedesoriano/heart-failure-prediction'> Heart Failure Prediction\n",
    "<ul>"
   ]
  },
  {
   "cell_type": "markdown",
   "id": "115e4b75",
   "metadata": {},
   "source": [
    "## Deep learning\n",
    "Deep learning merupakan subbidang machine learning yang algoritmatnya terinspirasi dari struktur syaraf manusia.Struktur tersebut dinamakan Artificial Neural Network(ANN).<br>\n",
    "ANN terdiri dari 3 layer:\n",
    "<li>Input layer → berisi variabel data input\n",
    "<li>Hidden layer/processing layer → berisi Langkah pengenalan objek\n",
    "<li>Output layer → berisi hasil pengenalan suatu objek"
   ]
  },
  {
   "cell_type": "markdown",
   "id": "c5c1615d",
   "metadata": {},
   "source": [
    "### Sequential model\n",
    "Model yang bekerja dengan membuat tumpukan lapisan/layer dimana setiap layer memiliki input dan output. <br>\n",
    "tf.keras.Sequential()"
   ]
  },
  {
   "cell_type": "markdown",
   "id": "c515d6b3",
   "metadata": {},
   "source": [
    "### DNN\n",
    "<li>Membangung layer yang saling terhubung.<br>\n",
    "tf.keras.layers.Dense() <br>\n",
    "<li>setelah menyusun layer detail parameter setiap layer yang telah\n",
    "disusun pada model dapat dilihat dengan : <br>\n",
    "model.summary()"
   ]
  },
  {
   "cell_type": "markdown",
   "id": "36d719b7",
   "metadata": {},
   "source": [
    "### Training model\n",
    "<ol>\n",
    "    <li> model compile : konfigurasi model\n",
    "    <li> optimizer : class atau metode yang digunakan untuk mengubah atribut model seperti weight dan learning rate untuk mengurangi loss. yg sering digunakan yaitu adam, RMSprop dan SGD\n",
    "    <li> Fungsi loss : bertujuan menghitung kuantitas yang harus diminimalkan model dalam training.\n",
    "    <li> model fit : modeling data training dengan model.fit()\n",
    "    <li> callback function : fungsi tambahan yang dijalankan saat proses training dan biasanya fungsi ini akan dijalankan ketika proses training memenuhi kondisi tertentu."
   ]
  },
  {
   "cell_type": "markdown",
   "id": "7710fbee",
   "metadata": {},
   "source": [
    "### Mdel evaluation\n",
    "\n",
    "untuk melihat akurasi pada data testing. Evaluasi dilakukan menggunakan input testing set(x) dan target testing set(y)"
   ]
  },
  {
   "cell_type": "markdown",
   "id": "75088e84",
   "metadata": {},
   "source": [
    "### Model prediction\n",
    "Prediksi dilakukan hanya menggunakan input testing set."
   ]
  },
  {
   "cell_type": "markdown",
   "id": "571a61eb",
   "metadata": {},
   "source": [
    "### Model saving\n",
    "Model dapat disimpan dalam bentuk JSON, YAML, atau HDF5"
   ]
  },
  {
   "cell_type": "markdown",
   "id": "e9e98fee",
   "metadata": {},
   "source": [
    "### Model loading\n",
    "File model yang ada dapat digunakan dengan menggunakan model loading."
   ]
  },
  {
   "cell_type": "code",
   "execution_count": 269,
   "id": "f7fc31fe",
   "metadata": {},
   "outputs": [],
   "source": [
    "#import library yang dibutuhkan\n",
    "import numpy as np\n",
    "import pandas as pd\n",
    "\n",
    "import tensorflow as tf\n",
    "from tensorflow import keras\n",
    "from tensorflow.keras.layers import Dense\n",
    "from tensorflow.keras.utils import to_categorical\n",
    "\n",
    "import matplotlib.pyplot as plt\n",
    "from sklearn.model_selection import train_test_split\n",
    "from sklearn.preprocessing import StandardScaler"
   ]
  },
  {
   "cell_type": "code",
   "execution_count": 272,
   "id": "c08eea0e",
   "metadata": {},
   "outputs": [],
   "source": [
    "# Baca dataset \n",
    "dataset_Diabet = pd.read_csv(\"diabetes.csv\")"
   ]
  },
  {
   "cell_type": "code",
   "execution_count": 380,
   "id": "ac1aae02",
   "metadata": {},
   "outputs": [
    {
     "data": {
      "text/html": [
       "<div>\n",
       "<style scoped>\n",
       "    .dataframe tbody tr th:only-of-type {\n",
       "        vertical-align: middle;\n",
       "    }\n",
       "\n",
       "    .dataframe tbody tr th {\n",
       "        vertical-align: top;\n",
       "    }\n",
       "\n",
       "    .dataframe thead th {\n",
       "        text-align: right;\n",
       "    }\n",
       "</style>\n",
       "<table border=\"1\" class=\"dataframe\">\n",
       "  <thead>\n",
       "    <tr style=\"text-align: right;\">\n",
       "      <th></th>\n",
       "      <th>Pregnancies</th>\n",
       "      <th>Glucose</th>\n",
       "      <th>BloodPressure</th>\n",
       "      <th>SkinThickness</th>\n",
       "      <th>Insulin</th>\n",
       "      <th>BMI</th>\n",
       "      <th>DiabetesPedigreeFunction</th>\n",
       "      <th>Age</th>\n",
       "      <th>Outcome</th>\n",
       "    </tr>\n",
       "  </thead>\n",
       "  <tbody>\n",
       "    <tr>\n",
       "      <th>0</th>\n",
       "      <td>6</td>\n",
       "      <td>148</td>\n",
       "      <td>72</td>\n",
       "      <td>35</td>\n",
       "      <td>0</td>\n",
       "      <td>33.6</td>\n",
       "      <td>0.627</td>\n",
       "      <td>50</td>\n",
       "      <td>1</td>\n",
       "    </tr>\n",
       "    <tr>\n",
       "      <th>1</th>\n",
       "      <td>1</td>\n",
       "      <td>85</td>\n",
       "      <td>66</td>\n",
       "      <td>29</td>\n",
       "      <td>0</td>\n",
       "      <td>26.6</td>\n",
       "      <td>0.351</td>\n",
       "      <td>31</td>\n",
       "      <td>0</td>\n",
       "    </tr>\n",
       "    <tr>\n",
       "      <th>2</th>\n",
       "      <td>8</td>\n",
       "      <td>183</td>\n",
       "      <td>64</td>\n",
       "      <td>0</td>\n",
       "      <td>0</td>\n",
       "      <td>23.3</td>\n",
       "      <td>0.672</td>\n",
       "      <td>32</td>\n",
       "      <td>1</td>\n",
       "    </tr>\n",
       "    <tr>\n",
       "      <th>3</th>\n",
       "      <td>1</td>\n",
       "      <td>89</td>\n",
       "      <td>66</td>\n",
       "      <td>23</td>\n",
       "      <td>94</td>\n",
       "      <td>28.1</td>\n",
       "      <td>0.167</td>\n",
       "      <td>21</td>\n",
       "      <td>0</td>\n",
       "    </tr>\n",
       "    <tr>\n",
       "      <th>4</th>\n",
       "      <td>0</td>\n",
       "      <td>137</td>\n",
       "      <td>40</td>\n",
       "      <td>35</td>\n",
       "      <td>168</td>\n",
       "      <td>43.1</td>\n",
       "      <td>2.288</td>\n",
       "      <td>33</td>\n",
       "      <td>1</td>\n",
       "    </tr>\n",
       "  </tbody>\n",
       "</table>\n",
       "</div>"
      ],
      "text/plain": [
       "   Pregnancies  Glucose  BloodPressure  SkinThickness  Insulin   BMI  \\\n",
       "0            6      148             72             35        0  33.6   \n",
       "1            1       85             66             29        0  26.6   \n",
       "2            8      183             64              0        0  23.3   \n",
       "3            1       89             66             23       94  28.1   \n",
       "4            0      137             40             35      168  43.1   \n",
       "\n",
       "   DiabetesPedigreeFunction  Age  Outcome  \n",
       "0                     0.627   50        1  \n",
       "1                     0.351   31        0  \n",
       "2                     0.672   32        1  \n",
       "3                     0.167   21        0  \n",
       "4                     2.288   33        1  "
      ]
     },
     "execution_count": 380,
     "metadata": {},
     "output_type": "execute_result"
    }
   ],
   "source": [
    "# Tampilkan 5 data teratas dari dataset\n",
    "dataset_Diabet.head()"
   ]
  },
  {
   "cell_type": "code",
   "execution_count": 381,
   "id": "5d6cfb7c",
   "metadata": {},
   "outputs": [
    {
     "data": {
      "text/plain": [
       "Index(['Pregnancies', 'Glucose', 'BloodPressure', 'SkinThickness', 'Insulin',\n",
       "       'BMI', 'DiabetesPedigreeFunction', 'Age', 'Outcome'],\n",
       "      dtype='object')"
      ]
     },
     "execution_count": 381,
     "metadata": {},
     "output_type": "execute_result"
    }
   ],
   "source": [
    "# Melihat kolom dataframe\n",
    "dataset_Diabet.columns"
   ]
  },
  {
   "cell_type": "code",
   "execution_count": 382,
   "id": "12d3330c",
   "metadata": {},
   "outputs": [
    {
     "data": {
      "text/plain": [
       "Pregnancies                   int64\n",
       "Glucose                       int64\n",
       "BloodPressure                 int64\n",
       "SkinThickness                 int64\n",
       "Insulin                       int64\n",
       "BMI                         float64\n",
       "DiabetesPedigreeFunction    float64\n",
       "Age                           int64\n",
       "Outcome                       int64\n",
       "dtype: object"
      ]
     },
     "execution_count": 382,
     "metadata": {},
     "output_type": "execute_result"
    }
   ],
   "source": [
    "# Melihat tipe data pada dataframe\n",
    "dataset_Diabet.dtypes"
   ]
  },
  {
   "cell_type": "code",
   "execution_count": 383,
   "id": "1417b038",
   "metadata": {},
   "outputs": [],
   "source": [
    "# Split data dengan fungsi dari sklearn\n",
    "X  = dataset_Diabet[['Pregnancies','Glucose','BloodPressure','SkinThickness','Insulin', 'BMI','DiabetesPedigreeFunction','Age']]\n",
    "Y  = dataset_Diabet[['Outcome']]"
   ]
  },
  {
   "cell_type": "code",
   "execution_count": 384,
   "id": "234e79f0",
   "metadata": {},
   "outputs": [],
   "source": [
    "# Membagi data testing sebanyak 20%\n",
    "x_train, x_test, y_train, y_test = train_test_split(X, Y, test_size=.2)"
   ]
  },
  {
   "cell_type": "code",
   "execution_count": 385,
   "id": "f0d2b3f9",
   "metadata": {},
   "outputs": [
    {
     "data": {
      "text/plain": [
       "(614, 8)"
      ]
     },
     "execution_count": 385,
     "metadata": {},
     "output_type": "execute_result"
    }
   ],
   "source": [
    "# melihat dimensi dari x_train\n",
    "x_train.shape"
   ]
  },
  {
   "cell_type": "code",
   "execution_count": 386,
   "id": "9be5ee78",
   "metadata": {},
   "outputs": [
    {
     "data": {
      "text/plain": [
       "(154, 8)"
      ]
     },
     "execution_count": 386,
     "metadata": {},
     "output_type": "execute_result"
    }
   ],
   "source": [
    "# melihat dimensi dari x_test\n",
    "x_test.shape"
   ]
  },
  {
   "cell_type": "code",
   "execution_count": 387,
   "id": "dff12559",
   "metadata": {},
   "outputs": [
    {
     "data": {
      "text/plain": [
       "array([0, 1], dtype=int64)"
      ]
     },
     "execution_count": 387,
     "metadata": {},
     "output_type": "execute_result"
    }
   ],
   "source": [
    "# Menampilkan nilai unik dari y_test\n",
    "np.unique(y_test)"
   ]
  },
  {
   "cell_type": "code",
   "execution_count": 388,
   "id": "27305e4f",
   "metadata": {},
   "outputs": [],
   "source": [
    "num_class = 7\n",
    "y_train = tf.keras.utils.to_categorical(y_train, num_class)\n",
    "y_test = tf.keras.utils.to_categorical(y_test, num_class)"
   ]
  },
  {
   "cell_type": "code",
   "execution_count": 389,
   "id": "f144b5dd",
   "metadata": {},
   "outputs": [],
   "source": [
    "x_train = tf.reshape(x_train, [614, 8])\n",
    "x_test = tf.reshape(x_test, [154, 8])"
   ]
  },
  {
   "cell_type": "code",
   "execution_count": 390,
   "id": "a41e312a",
   "metadata": {},
   "outputs": [
    {
     "data": {
      "text/plain": [
       "tf.float64"
      ]
     },
     "execution_count": 390,
     "metadata": {},
     "output_type": "execute_result"
    }
   ],
   "source": [
    "# Lihat tipe data x_train\n",
    "x_train.dtype"
   ]
  },
  {
   "cell_type": "code",
   "execution_count": 403,
   "id": "481f6850",
   "metadata": {},
   "outputs": [],
   "source": [
    "# Buat model\n",
    "modelDiabet = tf.keras.Sequential([\n",
    "    tf.keras.layers.Dense(32, activation='relu', input_dim=8),\n",
    "    tf.keras.layers.Dense(64, activation='relu'),\n",
    "    tf.keras.layers.Dense(num_class, activation='softmax')\n",
    "])"
   ]
  },
  {
   "cell_type": "code",
   "execution_count": 404,
   "id": "356b3d08",
   "metadata": {},
   "outputs": [
    {
     "name": "stdout",
     "output_type": "stream",
     "text": [
      "Model: \"sequential_25\"\n",
      "_________________________________________________________________\n",
      " Layer (type)                Output Shape              Param #   \n",
      "=================================================================\n",
      " dense_75 (Dense)            (None, 32)                288       \n",
      "                                                                 \n",
      " dense_76 (Dense)            (None, 64)                2112      \n",
      "                                                                 \n",
      " dense_77 (Dense)            (None, 7)                 455       \n",
      "                                                                 \n",
      "=================================================================\n",
      "Total params: 2,855\n",
      "Trainable params: 2,855\n",
      "Non-trainable params: 0\n",
      "_________________________________________________________________\n"
     ]
    }
   ],
   "source": [
    "modelDiabet.summary()"
   ]
  },
  {
   "cell_type": "code",
   "execution_count": 405,
   "id": "56aeea13",
   "metadata": {},
   "outputs": [],
   "source": [
    "# Konfigurasi model\n",
    "modelDiabet.compile(\n",
    "    optimizer=tf.keras.optimizers.Adam(),\n",
    "    loss=tf.keras.losses.categorical_crossentropy,\n",
    "    metrics=['accuracy']\n",
    ")"
   ]
  },
  {
   "cell_type": "code",
   "execution_count": 408,
   "id": "72592111",
   "metadata": {},
   "outputs": [
    {
     "name": "stdout",
     "output_type": "stream",
     "text": [
      "Epoch 1/10\n",
      "20/20 - 0s - loss: 0.6147 - accuracy: 0.6889 - val_loss: 0.5697 - val_accuracy: 0.7143 - 150ms/epoch - 8ms/step\n",
      "Epoch 2/10\n",
      "20/20 - 0s - loss: 0.5608 - accuracy: 0.7345 - val_loss: 0.5475 - val_accuracy: 0.7403 - 141ms/epoch - 7ms/step\n",
      "Epoch 3/10\n",
      "20/20 - 0s - loss: 0.5755 - accuracy: 0.7248 - val_loss: 0.5819 - val_accuracy: 0.7013 - 139ms/epoch - 7ms/step\n",
      "Epoch 4/10\n",
      "20/20 - 0s - loss: 0.5948 - accuracy: 0.7036 - val_loss: 0.6901 - val_accuracy: 0.6169 - 107ms/epoch - 5ms/step\n",
      "Epoch 5/10\n",
      "20/20 - 0s - loss: 0.6068 - accuracy: 0.7068 - val_loss: 0.6039 - val_accuracy: 0.6948 - 97ms/epoch - 5ms/step\n",
      "Epoch 6/10\n",
      "20/20 - 0s - loss: 0.5838 - accuracy: 0.7199 - val_loss: 0.5892 - val_accuracy: 0.7403 - 79ms/epoch - 4ms/step\n",
      "Epoch 7/10\n",
      "20/20 - 0s - loss: 0.5542 - accuracy: 0.7313 - val_loss: 0.6883 - val_accuracy: 0.6364 - 103ms/epoch - 5ms/step\n",
      "Epoch 8/10\n",
      "20/20 - 0s - loss: 0.5415 - accuracy: 0.7459 - val_loss: 0.6524 - val_accuracy: 0.6753 - 125ms/epoch - 6ms/step\n",
      "Epoch 9/10\n",
      "20/20 - 0s - loss: 0.5418 - accuracy: 0.7248 - val_loss: 0.6229 - val_accuracy: 0.6948 - 114ms/epoch - 6ms/step\n",
      "Epoch 10/10\n",
      "20/20 - 0s - loss: 0.6084 - accuracy: 0.7134 - val_loss: 0.5822 - val_accuracy: 0.7403 - 123ms/epoch - 6ms/step\n"
     ]
    }
   ],
   "source": [
    "# Model fit\n",
    "from matplotlib.pyplot import step\n",
    "\n",
    "trackModel = modelDiabet.fit(\n",
    "        x_train, y_train,\n",
    "        epochs=10, steps_per_epoch=20,\n",
    "        verbose=2,\n",
    "        validation_data=(x_test, y_test)\n",
    ")"
   ]
  },
  {
   "cell_type": "code",
   "execution_count": 410,
   "id": "ec2591ea",
   "metadata": {},
   "outputs": [
    {
     "data": {
      "image/png": "[encoded data removed]",
      "text/plain": [
       "<Figure size 500x500 with 1 Axes>"
      ]
     },
     "metadata": {},
     "output_type": "display_data"
    }
   ],
   "source": [
    "plt.figure(1, figsize=(5,5))\n",
    "plt.plot(range(len(trackModel.history['accuracy'])),\n",
    "         trackModel.history['accuracy'],\n",
    "         color='yellow',\n",
    "         label='Data Train'\n",
    ")\n",
    "plt.plot(range(len(trackModel.history['val_accuracy'])),\n",
    "         trackModel.history['val_accuracy'],\n",
    "         color='red',\n",
    "         label='Data Validasi',\n",
    "         \n",
    ")\n",
    "plt.legend(bbox_to_anchor=(1, 1.02), loc='lower right')\n",
    "plt.show()"
   ]
  },
  {
   "cell_type": "code",
   "execution_count": null,
   "id": "2b034fd7",
   "metadata": {},
   "outputs": [],
   "source": []
  }
 ],
 "metadata": {
  "kernelspec": {
   "display_name": "Python 3 (ipykernel)",
   "language": "python",
   "name": "python3"
  },
  "language_info": {
   "codemirror_mode": {
    "name": "ipython",
    "version": 3
   },
   "file_extension": ".py",
   "mimetype": "text/x-python",
   "name": "python",
   "nbconvert_exporter": "python",
   "pygments_lexer": "ipython3",
   "version": "3.10.7"
  }
 },
 "nbformat": 4,
 "nbformat_minor": 5
}
