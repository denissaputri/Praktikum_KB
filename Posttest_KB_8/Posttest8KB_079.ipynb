{
 "cells": [
  {
   "cell_type": "markdown",
   "id": "31e4ba6a",
   "metadata": {},
   "source": [
    "# POSTTEST 8 KB"
   ]
  },
  {
   "cell_type": "markdown",
   "id": "392915b8",
   "metadata": {},
   "source": [
    "<ul>\n",
    "    <li> Nama : Denissa Putri Maha Rani\n",
    "    <li> NIM : 2009106079\n",
    "    <li> dataset : <a href='https://www.kaggle.com/datasets/fedesoriano/heart-failure-prediction'> Heart Failure Prediction\n",
    "<ul>"
   ]
  },
  {
   "cell_type": "markdown",
   "id": "115e4b75",
   "metadata": {},
   "source": [
    "## Deep learning\n",
    "Deep learning merupakan subbidang machine learning yang algoritmatnya terinspirasi dari struktur syaraf manusia.Struktur tersebut dinamakan Artificial Neural Network(ANN).<br>\n",
    "ANN terdiri dari 3 layer:\n",
    "<li>Input layer → berisi variabel data input\n",
    "<li>Hidden layer/processing layer → berisi Langkah pengenalan objek\n",
    "<li>Output layer → berisi hasil pengenalan suatu objek"
   ]
  },
  {
   "cell_type": "markdown",
   "id": "c5c1615d",
   "metadata": {},
   "source": [
    "### Sequential model\n",
    "Model yang bekerja dengan membuat tumpukan lapisan/layer dimana setiap layer memiliki input dan output. <br>\n",
    "tf.keras.Sequential()"
   ]
  },
  {
   "cell_type": "markdown",
   "id": "c515d6b3",
   "metadata": {},
   "source": [
    "### DNN\n",
    "<li>Membangung layer yang saling terhubung.<br>\n",
    "tf.keras.layers.Dense() <br>\n",
    "<li>setelah menyusun layer detail parameter setiap layer yang telah\n",
    "disusun pada model dapat dilihat dengan : <br>\n",
    "model.summary()"
   ]
  },
  {
   "cell_type": "markdown",
   "id": "36d719b7",
   "metadata": {},
   "source": [
    "### Training model\n",
    "<ol>\n",
    "    <li> model compile : konfigurasi model\n",
    "    <li> optimizer : class atau metode yang digunakan untuk mengubah atribut model seperti weight dan learning rate untuk mengurangi loss. yg sering digunakan yaitu adam, RMSprop dan SGD\n",
    "    <li> Fungsi loss : bertujuan menghitung kuantitas yang harus diminimalkan model dalam training.\n",
    "    <li> model fit : modeling data training dengan model.fit()\n",
    "    <li> callback function : fungsi tambahan yang dijalankan saat proses training dan biasanya fungsi ini akan dijalankan ketika proses training memenuhi kondisi tertentu."
   ]
  },
  {
   "cell_type": "markdown",
   "id": "7710fbee",
   "metadata": {},
   "source": [
    "### Mdel evaluation\n",
    "\n",
    "untuk melihat akurasi pada data testing. Evaluasi dilakukan menggunakan input testing set(x) dan target testing set(y)"
   ]
  },
  {
   "cell_type": "markdown",
   "id": "75088e84",
   "metadata": {},
   "source": [
    "### Model prediction\n",
    "Prediksi dilakukan hanya menggunakan input testing set."
   ]
  },
  {
   "cell_type": "markdown",
   "id": "571a61eb",
   "metadata": {},
   "source": [
    "### Model saving\n",
    "Model dapat disimpan dalam bentuk JSON, YAML, atau HDF5"
   ]
  },
  {
   "cell_type": "markdown",
   "id": "e9e98fee",
   "metadata": {},
   "source": [
    "### Model loading\n",
    "File model yang ada dapat digunakan dengan menggunakan model loading."
   ]
  },
  {
   "cell_type": "code",
   "execution_count": 60,
   "id": "f7fc31fe",
   "metadata": {},
   "outputs": [],
   "source": [
    "#import library yang dibutuhkan\n",
    "import numpy as np\n",
    "import pandas as pd\n",
    "\n",
    "import tensorflow as tf\n",
    "from tensorflow import keras\n",
    "from tensorflow.keras.layers import Dense\n",
    "from tensorflow.keras.utils import to_categorical\n",
    "\n",
    "import matplotlib.pyplot as plt\n",
    "from sklearn.model_selection import train_test_split\n",
    "from sklearn.preprocessing import StandardScaler"
   ]
  },
  {
   "cell_type": "code",
   "execution_count": 123,
   "id": "eb9d0b12",
   "metadata": {},
   "outputs": [],
   "source": [
    "from sklearn.datasets import load_boston\n",
    "\n",
    "# Load \"House Prices in Boston\" dataset\n",
    "boston = load_boston()"
   ]
  },
  {
   "cell_type": "code",
   "execution_count": 125,
   "id": "f552e862",
   "metadata": {},
   "outputs": [
    {
     "data": {
      "text/html": [
       "<div>\n",
       "<style scoped>\n",
       "    .dataframe tbody tr th:only-of-type {\n",
       "        vertical-align: middle;\n",
       "    }\n",
       "\n",
       "    .dataframe tbody tr th {\n",
       "        vertical-align: top;\n",
       "    }\n",
       "\n",
       "    .dataframe thead th {\n",
       "        text-align: right;\n",
       "    }\n",
       "</style>\n",
       "<table border=\"1\" class=\"dataframe\">\n",
       "  <thead>\n",
       "    <tr style=\"text-align: right;\">\n",
       "      <th></th>\n",
       "      <th>CRIM</th>\n",
       "      <th>ZN</th>\n",
       "      <th>INDUS</th>\n",
       "      <th>CHAS</th>\n",
       "      <th>NOX</th>\n",
       "      <th>RM</th>\n",
       "      <th>AGE</th>\n",
       "      <th>DIS</th>\n",
       "      <th>RAD</th>\n",
       "      <th>TAX</th>\n",
       "      <th>PTRATIO</th>\n",
       "      <th>B</th>\n",
       "      <th>LSTAT</th>\n",
       "    </tr>\n",
       "  </thead>\n",
       "  <tbody>\n",
       "    <tr>\n",
       "      <th>0</th>\n",
       "      <td>0.00632</td>\n",
       "      <td>18.0</td>\n",
       "      <td>2.31</td>\n",
       "      <td>0.0</td>\n",
       "      <td>0.538</td>\n",
       "      <td>6.575</td>\n",
       "      <td>65.2</td>\n",
       "      <td>4.0900</td>\n",
       "      <td>1.0</td>\n",
       "      <td>296.0</td>\n",
       "      <td>15.3</td>\n",
       "      <td>396.90</td>\n",
       "      <td>4.98</td>\n",
       "    </tr>\n",
       "    <tr>\n",
       "      <th>1</th>\n",
       "      <td>0.02731</td>\n",
       "      <td>0.0</td>\n",
       "      <td>7.07</td>\n",
       "      <td>0.0</td>\n",
       "      <td>0.469</td>\n",
       "      <td>6.421</td>\n",
       "      <td>78.9</td>\n",
       "      <td>4.9671</td>\n",
       "      <td>2.0</td>\n",
       "      <td>242.0</td>\n",
       "      <td>17.8</td>\n",
       "      <td>396.90</td>\n",
       "      <td>9.14</td>\n",
       "    </tr>\n",
       "    <tr>\n",
       "      <th>2</th>\n",
       "      <td>0.02729</td>\n",
       "      <td>0.0</td>\n",
       "      <td>7.07</td>\n",
       "      <td>0.0</td>\n",
       "      <td>0.469</td>\n",
       "      <td>7.185</td>\n",
       "      <td>61.1</td>\n",
       "      <td>4.9671</td>\n",
       "      <td>2.0</td>\n",
       "      <td>242.0</td>\n",
       "      <td>17.8</td>\n",
       "      <td>392.83</td>\n",
       "      <td>4.03</td>\n",
       "    </tr>\n",
       "    <tr>\n",
       "      <th>3</th>\n",
       "      <td>0.03237</td>\n",
       "      <td>0.0</td>\n",
       "      <td>2.18</td>\n",
       "      <td>0.0</td>\n",
       "      <td>0.458</td>\n",
       "      <td>6.998</td>\n",
       "      <td>45.8</td>\n",
       "      <td>6.0622</td>\n",
       "      <td>3.0</td>\n",
       "      <td>222.0</td>\n",
       "      <td>18.7</td>\n",
       "      <td>394.63</td>\n",
       "      <td>2.94</td>\n",
       "    </tr>\n",
       "    <tr>\n",
       "      <th>4</th>\n",
       "      <td>0.06905</td>\n",
       "      <td>0.0</td>\n",
       "      <td>2.18</td>\n",
       "      <td>0.0</td>\n",
       "      <td>0.458</td>\n",
       "      <td>7.147</td>\n",
       "      <td>54.2</td>\n",
       "      <td>6.0622</td>\n",
       "      <td>3.0</td>\n",
       "      <td>222.0</td>\n",
       "      <td>18.7</td>\n",
       "      <td>396.90</td>\n",
       "      <td>5.33</td>\n",
       "    </tr>\n",
       "  </tbody>\n",
       "</table>\n",
       "</div>"
      ],
      "text/plain": [
       "      CRIM    ZN  INDUS  CHAS    NOX     RM   AGE     DIS  RAD    TAX  \\\n",
       "0  0.00632  18.0   2.31   0.0  0.538  6.575  65.2  4.0900  1.0  296.0   \n",
       "1  0.02731   0.0   7.07   0.0  0.469  6.421  78.9  4.9671  2.0  242.0   \n",
       "2  0.02729   0.0   7.07   0.0  0.469  7.185  61.1  4.9671  2.0  242.0   \n",
       "3  0.03237   0.0   2.18   0.0  0.458  6.998  45.8  6.0622  3.0  222.0   \n",
       "4  0.06905   0.0   2.18   0.0  0.458  7.147  54.2  6.0622  3.0  222.0   \n",
       "\n",
       "   PTRATIO       B  LSTAT  \n",
       "0     15.3  396.90   4.98  \n",
       "1     17.8  396.90   9.14  \n",
       "2     17.8  392.83   4.03  \n",
       "3     18.7  394.63   2.94  \n",
       "4     18.7  396.90   5.33  "
      ]
     },
     "execution_count": 125,
     "metadata": {},
     "output_type": "execute_result"
    }
   ],
   "source": [
    "# ubah dataset ke bentuk Dataframe\n",
    "bostonDataset = DataFrame(boston.data)\n",
    "bostonDataset.columns = boston.feature_names\n",
    "bostonDataset.head()"
   ]
  },
  {
   "cell_type": "code",
   "execution_count": 126,
   "id": "02d43d62",
   "metadata": {},
   "outputs": [
    {
     "data": {
      "text/html": [
       "<div>\n",
       "<style scoped>\n",
       "    .dataframe tbody tr th:only-of-type {\n",
       "        vertical-align: middle;\n",
       "    }\n",
       "\n",
       "    .dataframe tbody tr th {\n",
       "        vertical-align: top;\n",
       "    }\n",
       "\n",
       "    .dataframe thead th {\n",
       "        text-align: right;\n",
       "    }\n",
       "</style>\n",
       "<table border=\"1\" class=\"dataframe\">\n",
       "  <thead>\n",
       "    <tr style=\"text-align: right;\">\n",
       "      <th></th>\n",
       "      <th>CRIM</th>\n",
       "      <th>ZN</th>\n",
       "      <th>INDUS</th>\n",
       "      <th>CHAS</th>\n",
       "      <th>NOX</th>\n",
       "      <th>RM</th>\n",
       "      <th>AGE</th>\n",
       "      <th>DIS</th>\n",
       "      <th>RAD</th>\n",
       "      <th>TAX</th>\n",
       "      <th>PTRATIO</th>\n",
       "      <th>B</th>\n",
       "      <th>LSTAT</th>\n",
       "      <th>Price</th>\n",
       "    </tr>\n",
       "  </thead>\n",
       "  <tbody>\n",
       "    <tr>\n",
       "      <th>0</th>\n",
       "      <td>0.00632</td>\n",
       "      <td>18.0</td>\n",
       "      <td>2.31</td>\n",
       "      <td>0.0</td>\n",
       "      <td>0.538</td>\n",
       "      <td>6.575</td>\n",
       "      <td>65.2</td>\n",
       "      <td>4.0900</td>\n",
       "      <td>1.0</td>\n",
       "      <td>296.0</td>\n",
       "      <td>15.3</td>\n",
       "      <td>396.90</td>\n",
       "      <td>4.98</td>\n",
       "      <td>24.0</td>\n",
       "    </tr>\n",
       "    <tr>\n",
       "      <th>1</th>\n",
       "      <td>0.02731</td>\n",
       "      <td>0.0</td>\n",
       "      <td>7.07</td>\n",
       "      <td>0.0</td>\n",
       "      <td>0.469</td>\n",
       "      <td>6.421</td>\n",
       "      <td>78.9</td>\n",
       "      <td>4.9671</td>\n",
       "      <td>2.0</td>\n",
       "      <td>242.0</td>\n",
       "      <td>17.8</td>\n",
       "      <td>396.90</td>\n",
       "      <td>9.14</td>\n",
       "      <td>21.6</td>\n",
       "    </tr>\n",
       "    <tr>\n",
       "      <th>2</th>\n",
       "      <td>0.02729</td>\n",
       "      <td>0.0</td>\n",
       "      <td>7.07</td>\n",
       "      <td>0.0</td>\n",
       "      <td>0.469</td>\n",
       "      <td>7.185</td>\n",
       "      <td>61.1</td>\n",
       "      <td>4.9671</td>\n",
       "      <td>2.0</td>\n",
       "      <td>242.0</td>\n",
       "      <td>17.8</td>\n",
       "      <td>392.83</td>\n",
       "      <td>4.03</td>\n",
       "      <td>34.7</td>\n",
       "    </tr>\n",
       "    <tr>\n",
       "      <th>3</th>\n",
       "      <td>0.03237</td>\n",
       "      <td>0.0</td>\n",
       "      <td>2.18</td>\n",
       "      <td>0.0</td>\n",
       "      <td>0.458</td>\n",
       "      <td>6.998</td>\n",
       "      <td>45.8</td>\n",
       "      <td>6.0622</td>\n",
       "      <td>3.0</td>\n",
       "      <td>222.0</td>\n",
       "      <td>18.7</td>\n",
       "      <td>394.63</td>\n",
       "      <td>2.94</td>\n",
       "      <td>33.4</td>\n",
       "    </tr>\n",
       "    <tr>\n",
       "      <th>4</th>\n",
       "      <td>0.06905</td>\n",
       "      <td>0.0</td>\n",
       "      <td>2.18</td>\n",
       "      <td>0.0</td>\n",
       "      <td>0.458</td>\n",
       "      <td>7.147</td>\n",
       "      <td>54.2</td>\n",
       "      <td>6.0622</td>\n",
       "      <td>3.0</td>\n",
       "      <td>222.0</td>\n",
       "      <td>18.7</td>\n",
       "      <td>396.90</td>\n",
       "      <td>5.33</td>\n",
       "      <td>36.2</td>\n",
       "    </tr>\n",
       "  </tbody>\n",
       "</table>\n",
       "</div>"
      ],
      "text/plain": [
       "      CRIM    ZN  INDUS  CHAS    NOX     RM   AGE     DIS  RAD    TAX  \\\n",
       "0  0.00632  18.0   2.31   0.0  0.538  6.575  65.2  4.0900  1.0  296.0   \n",
       "1  0.02731   0.0   7.07   0.0  0.469  6.421  78.9  4.9671  2.0  242.0   \n",
       "2  0.02729   0.0   7.07   0.0  0.469  7.185  61.1  4.9671  2.0  242.0   \n",
       "3  0.03237   0.0   2.18   0.0  0.458  6.998  45.8  6.0622  3.0  222.0   \n",
       "4  0.06905   0.0   2.18   0.0  0.458  7.147  54.2  6.0622  3.0  222.0   \n",
       "\n",
       "   PTRATIO       B  LSTAT  Price  \n",
       "0     15.3  396.90   4.98   24.0  \n",
       "1     17.8  396.90   9.14   21.6  \n",
       "2     17.8  392.83   4.03   34.7  \n",
       "3     18.7  394.63   2.94   33.4  \n",
       "4     18.7  396.90   5.33   36.2  "
      ]
     },
     "execution_count": 126,
     "metadata": {},
     "output_type": "execute_result"
    }
   ],
   "source": [
    "# Tambahkan klolom target \"Harga\"\n",
    "bostonDataset['Price'] = boston.target\n",
    "bostonDataset.head()"
   ]
  },
  {
   "cell_type": "code",
   "execution_count": 133,
   "id": "624a840d",
   "metadata": {},
   "outputs": [
    {
     "data": {
      "text/plain": [
       "(506, 14)"
      ]
     },
     "execution_count": 133,
     "metadata": {},
     "output_type": "execute_result"
    }
   ],
   "source": [
    "bostonDataset.shape"
   ]
  },
  {
   "cell_type": "code",
   "execution_count": 135,
   "id": "f835e637",
   "metadata": {},
   "outputs": [
    {
     "data": {
      "text/plain": [
       "Index(['CRIM', 'ZN', 'INDUS', 'CHAS', 'NOX', 'RM', 'AGE', 'DIS', 'RAD', 'TAX',\n",
       "       'PTRATIO', 'B', 'LSTAT', 'Price'],\n",
       "      dtype='object')"
      ]
     },
     "execution_count": 135,
     "metadata": {},
     "output_type": "execute_result"
    }
   ],
   "source": [
    "bostonDataset.columns"
   ]
  },
  {
   "cell_type": "code",
   "execution_count": 136,
   "id": "f660f1a9",
   "metadata": {},
   "outputs": [
    {
     "data": {
      "text/plain": [
       "CRIM       float64\n",
       "ZN         float64\n",
       "INDUS      float64\n",
       "CHAS       float64\n",
       "NOX        float64\n",
       "RM         float64\n",
       "AGE        float64\n",
       "DIS        float64\n",
       "RAD        float64\n",
       "TAX        float64\n",
       "PTRATIO    float64\n",
       "B          float64\n",
       "LSTAT      float64\n",
       "Price      float64\n",
       "dtype: object"
      ]
     },
     "execution_count": 136,
     "metadata": {},
     "output_type": "execute_result"
    }
   ],
   "source": [
    "bostonDataset.dtypes"
   ]
  },
  {
   "cell_type": "code",
   "execution_count": 137,
   "id": "687ef42f",
   "metadata": {},
   "outputs": [
    {
     "data": {
      "text/plain": [
       "CRIM       0\n",
       "ZN         0\n",
       "INDUS      0\n",
       "CHAS       0\n",
       "NOX        0\n",
       "RM         0\n",
       "AGE        0\n",
       "DIS        0\n",
       "RAD        0\n",
       "TAX        0\n",
       "PTRATIO    0\n",
       "B          0\n",
       "LSTAT      0\n",
       "Price      0\n",
       "dtype: int64"
      ]
     },
     "execution_count": 137,
     "metadata": {},
     "output_type": "execute_result"
    }
   ],
   "source": [
    "bostonDataset.isna().sum()"
   ]
  },
  {
   "cell_type": "code",
   "execution_count": 140,
   "id": "f2a9cd7e",
   "metadata": {},
   "outputs": [
    {
     "ename": "TypeError",
     "evalue": "'DataFrame' object is not callable",
     "output_type": "error",
     "traceback": [
      "\u001b[1;31m---------------------------------------------------------------------------\u001b[0m",
      "\u001b[1;31mTypeError\u001b[0m                                 Traceback (most recent call last)",
      "Cell \u001b[1;32mIn [140], line 1\u001b[0m\n\u001b[1;32m----> 1\u001b[0m (x_train_raw, y_train_raw),(x_test_raw, y_test_raw) \u001b[38;5;241m=\u001b[39m \u001b[43mbostonDataset\u001b[49m\u001b[43m(\u001b[49m\u001b[43m)\u001b[49m\n",
      "\u001b[1;31mTypeError\u001b[0m: 'DataFrame' object is not callable"
     ]
    }
   ],
   "source": [
    "(x_train, y_train),(x_test, y_test) = bostonDataset()"
   ]
  },
  {
   "cell_type": "code",
   "execution_count": 42,
   "id": "ff061d4e",
   "metadata": {},
   "outputs": [],
   "source": [
    "from keras.datasets import boston_housing\n",
    "\n",
    "(x_train, y_train),(x_test, y_test) = boston_housing.load_data()"
   ]
  },
  {
   "cell_type": "code",
   "execution_count": null,
   "id": "9916648a",
   "metadata": {},
   "outputs": [],
   "source": []
  },
  {
   "cell_type": "code",
   "execution_count": null,
   "id": "430abf5c",
   "metadata": {},
   "outputs": [],
   "source": []
  },
  {
   "cell_type": "code",
   "execution_count": null,
   "id": "5916dfe9",
   "metadata": {},
   "outputs": [],
   "source": []
  },
  {
   "cell_type": "code",
   "execution_count": 43,
   "id": "c08eea0e",
   "metadata": {},
   "outputs": [],
   "source": [
    "# Baca dataset \n",
    "dataset_Diabet = pd.read_csv(\"diabetes.csv\")"
   ]
  },
  {
   "cell_type": "code",
   "execution_count": 44,
   "id": "ac1aae02",
   "metadata": {},
   "outputs": [
    {
     "data": {
      "text/html": [
       "<div>\n",
       "<style scoped>\n",
       "    .dataframe tbody tr th:only-of-type {\n",
       "        vertical-align: middle;\n",
       "    }\n",
       "\n",
       "    .dataframe tbody tr th {\n",
       "        vertical-align: top;\n",
       "    }\n",
       "\n",
       "    .dataframe thead th {\n",
       "        text-align: right;\n",
       "    }\n",
       "</style>\n",
       "<table border=\"1\" class=\"dataframe\">\n",
       "  <thead>\n",
       "    <tr style=\"text-align: right;\">\n",
       "      <th></th>\n",
       "      <th>Pregnancies</th>\n",
       "      <th>Glucose</th>\n",
       "      <th>BloodPressure</th>\n",
       "      <th>SkinThickness</th>\n",
       "      <th>Insulin</th>\n",
       "      <th>BMI</th>\n",
       "      <th>DiabetesPedigreeFunction</th>\n",
       "      <th>Age</th>\n",
       "      <th>Outcome</th>\n",
       "    </tr>\n",
       "  </thead>\n",
       "  <tbody>\n",
       "    <tr>\n",
       "      <th>0</th>\n",
       "      <td>6</td>\n",
       "      <td>148</td>\n",
       "      <td>72</td>\n",
       "      <td>35</td>\n",
       "      <td>0</td>\n",
       "      <td>33.6</td>\n",
       "      <td>0.627</td>\n",
       "      <td>50</td>\n",
       "      <td>1</td>\n",
       "    </tr>\n",
       "    <tr>\n",
       "      <th>1</th>\n",
       "      <td>1</td>\n",
       "      <td>85</td>\n",
       "      <td>66</td>\n",
       "      <td>29</td>\n",
       "      <td>0</td>\n",
       "      <td>26.6</td>\n",
       "      <td>0.351</td>\n",
       "      <td>31</td>\n",
       "      <td>0</td>\n",
       "    </tr>\n",
       "    <tr>\n",
       "      <th>2</th>\n",
       "      <td>8</td>\n",
       "      <td>183</td>\n",
       "      <td>64</td>\n",
       "      <td>0</td>\n",
       "      <td>0</td>\n",
       "      <td>23.3</td>\n",
       "      <td>0.672</td>\n",
       "      <td>32</td>\n",
       "      <td>1</td>\n",
       "    </tr>\n",
       "    <tr>\n",
       "      <th>3</th>\n",
       "      <td>1</td>\n",
       "      <td>89</td>\n",
       "      <td>66</td>\n",
       "      <td>23</td>\n",
       "      <td>94</td>\n",
       "      <td>28.1</td>\n",
       "      <td>0.167</td>\n",
       "      <td>21</td>\n",
       "      <td>0</td>\n",
       "    </tr>\n",
       "    <tr>\n",
       "      <th>4</th>\n",
       "      <td>0</td>\n",
       "      <td>137</td>\n",
       "      <td>40</td>\n",
       "      <td>35</td>\n",
       "      <td>168</td>\n",
       "      <td>43.1</td>\n",
       "      <td>2.288</td>\n",
       "      <td>33</td>\n",
       "      <td>1</td>\n",
       "    </tr>\n",
       "  </tbody>\n",
       "</table>\n",
       "</div>"
      ],
      "text/plain": [
       "   Pregnancies  Glucose  BloodPressure  SkinThickness  Insulin   BMI  \\\n",
       "0            6      148             72             35        0  33.6   \n",
       "1            1       85             66             29        0  26.6   \n",
       "2            8      183             64              0        0  23.3   \n",
       "3            1       89             66             23       94  28.1   \n",
       "4            0      137             40             35      168  43.1   \n",
       "\n",
       "   DiabetesPedigreeFunction  Age  Outcome  \n",
       "0                     0.627   50        1  \n",
       "1                     0.351   31        0  \n",
       "2                     0.672   32        1  \n",
       "3                     0.167   21        0  \n",
       "4                     2.288   33        1  "
      ]
     },
     "execution_count": 44,
     "metadata": {},
     "output_type": "execute_result"
    }
   ],
   "source": [
    "# Tampilkan 5 data teratas dari dataset\n",
    "dataset_Diabet.head()"
   ]
  },
  {
   "cell_type": "code",
   "execution_count": 168,
   "id": "1a1b22a8",
   "metadata": {},
   "outputs": [
    {
     "data": {
      "text/plain": [
       "Index(['Pregnancies', 'Glucose', 'BloodPressure', 'SkinThickness', 'Insulin',\n",
       "       'BMI', 'DiabetesPedigreeFunction', 'Age', 'Outcome'],\n",
       "      dtype='object')"
      ]
     },
     "execution_count": 168,
     "metadata": {},
     "output_type": "execute_result"
    }
   ],
   "source": [
    "# Melihat kolom dataframe\n",
    "dataset_Diabet.columns"
   ]
  },
  {
   "cell_type": "code",
   "execution_count": 169,
   "id": "02cba729",
   "metadata": {},
   "outputs": [
    {
     "data": {
      "text/plain": [
       "Pregnancies                   int64\n",
       "Glucose                       int64\n",
       "BloodPressure                 int64\n",
       "SkinThickness                 int64\n",
       "Insulin                       int64\n",
       "BMI                         float64\n",
       "DiabetesPedigreeFunction    float64\n",
       "Age                           int64\n",
       "Outcome                       int64\n",
       "dtype: object"
      ]
     },
     "execution_count": 169,
     "metadata": {},
     "output_type": "execute_result"
    }
   ],
   "source": [
    "# Melihat tipe data pada dataframe\n",
    "dataset_Diabet.dtypes"
   ]
  },
  {
   "cell_type": "code",
   "execution_count": 170,
   "id": "1417b038",
   "metadata": {},
   "outputs": [],
   "source": [
    "# Split data dengan fungsi dari sklearn\n",
    "X  = dataset_Diabet[['Pregnancies','Glucose','BloodPressure','SkinThickness','Insulin', 'BMI','DiabetesPedigreeFunction','Age']]\n",
    "Y  = dataset_Diabet[['Outcome']]"
   ]
  },
  {
   "cell_type": "code",
   "execution_count": 171,
   "id": "234e79f0",
   "metadata": {},
   "outputs": [],
   "source": [
    "# Membagi data testing sebanyak 20%\n",
    "x_train, x_test, y_train, y_test = train_test_split(X, Y, test_size=.2)"
   ]
  },
  {
   "cell_type": "code",
   "execution_count": 172,
   "id": "f0d2b3f9",
   "metadata": {},
   "outputs": [
    {
     "data": {
      "text/plain": [
       "(614, 8)"
      ]
     },
     "execution_count": 172,
     "metadata": {},
     "output_type": "execute_result"
    }
   ],
   "source": [
    "# melihat dimensi dari x_train\n",
    "x_train.shape"
   ]
  },
  {
   "cell_type": "code",
   "execution_count": 173,
   "id": "9be5ee78",
   "metadata": {},
   "outputs": [
    {
     "data": {
      "text/plain": [
       "(154, 8)"
      ]
     },
     "execution_count": 173,
     "metadata": {},
     "output_type": "execute_result"
    }
   ],
   "source": [
    "# melihat dimensi dari x_test\n",
    "x_test.shape"
   ]
  },
  {
   "cell_type": "code",
   "execution_count": 174,
   "id": "9e889114",
   "metadata": {},
   "outputs": [
    {
     "data": {
      "text/plain": [
       "array([0, 1], dtype=int64)"
      ]
     },
     "execution_count": 174,
     "metadata": {},
     "output_type": "execute_result"
    }
   ],
   "source": [
    "# Menampilkan nilai unik dari y_test\n",
    "np.unique(y_test)"
   ]
  },
  {
   "cell_type": "code",
   "execution_count": 175,
   "id": "27305e4f",
   "metadata": {},
   "outputs": [],
   "source": [
    "num_class = 7\n",
    "y_train = tf.keras.utils.to_categorical(y_train, num_class)\n",
    "y_test = tf.keras.utils.to_categorical(y_test, num_class)"
   ]
  },
  {
   "cell_type": "code",
   "execution_count": 176,
   "id": "f144b5dd",
   "metadata": {},
   "outputs": [],
   "source": [
    "x_train = tf.reshape(x_train, [614, 8])\n",
    "x_test = tf.reshape(x_test, [154, 8])"
   ]
  },
  {
   "cell_type": "code",
   "execution_count": 177,
   "id": "a41e312a",
   "metadata": {},
   "outputs": [
    {
     "data": {
      "text/plain": [
       "tf.float64"
      ]
     },
     "execution_count": 177,
     "metadata": {},
     "output_type": "execute_result"
    }
   ],
   "source": [
    "x_train.dtype"
   ]
  },
  {
   "cell_type": "code",
   "execution_count": 255,
   "id": "481f6850",
   "metadata": {},
   "outputs": [],
   "source": [
    "# Buat model\n",
    "modelDiabet = tf.keras.Sequential([\n",
    "    tf.keras.layers.Dense(32, activation='relu', input_dim=8),\n",
    "    tf.keras.layers.Dense(64, activation='relu'),\n",
    "    tf.keras.layers.Dense(num_class, activation='softmax')\n",
    "])"
   ]
  },
  {
   "cell_type": "code",
   "execution_count": 258,
   "id": "356b3d08",
   "metadata": {},
   "outputs": [
    {
     "name": "stdout",
     "output_type": "stream",
     "text": [
      "Model: \"sequential_11\"\n",
      "_________________________________________________________________\n",
      " Layer (type)                Output Shape              Param #   \n",
      "=================================================================\n",
      " dense_31 (Dense)            (None, 32)                288       \n",
      "                                                                 \n",
      " dense_32 (Dense)            (None, 64)                2112      \n",
      "                                                                 \n",
      " dense_33 (Dense)            (None, 7)                 455       \n",
      "                                                                 \n",
      "=================================================================\n",
      "Total params: 2,855\n",
      "Trainable params: 2,855\n",
      "Non-trainable params: 0\n",
      "_________________________________________________________________\n"
     ]
    }
   ],
   "source": [
    "modelDiabet.summary()"
   ]
  },
  {
   "cell_type": "code",
   "execution_count": 262,
   "id": "5a37cf19",
   "metadata": {},
   "outputs": [],
   "source": [
    "# Konfigurasi model\n",
    "modelDiabet.compile(\n",
    "    optimizer=tf.keras.optimizers.Adam(),\n",
    "    loss=tf.keras.losses.categorical_crossentropy,\n",
    "    metrics=['accuracy']\n",
    ")"
   ]
  },
  {
   "cell_type": "code",
   "execution_count": 266,
   "id": "784512b3",
   "metadata": {},
   "outputs": [
    {
     "name": "stdout",
     "output_type": "stream",
     "text": [
      "Epoch 1/10\n",
      "25/25 - 0s - loss: 0.4642 - accuracy: 0.7687 - val_loss: 0.6304 - val_accuracy: 0.7208 - 143ms/epoch - 6ms/step\n",
      "Epoch 2/10\n",
      "25/25 - 0s - loss: 0.4804 - accuracy: 0.7606 - val_loss: 0.6930 - val_accuracy: 0.6948 - 127ms/epoch - 5ms/step\n",
      "Epoch 3/10\n",
      "25/25 - 0s - loss: 0.5067 - accuracy: 0.7720 - val_loss: 0.6243 - val_accuracy: 0.7143 - 145ms/epoch - 6ms/step\n",
      "Epoch 4/10\n",
      "25/25 - 0s - loss: 0.4605 - accuracy: 0.7801 - val_loss: 0.6104 - val_accuracy: 0.7208 - 132ms/epoch - 5ms/step\n",
      "Epoch 5/10\n",
      "25/25 - 0s - loss: 0.4924 - accuracy: 0.7704 - val_loss: 0.5936 - val_accuracy: 0.7208 - 118ms/epoch - 5ms/step\n",
      "Epoch 6/10\n",
      "25/25 - 0s - loss: 0.5742 - accuracy: 0.7394 - val_loss: 0.7384 - val_accuracy: 0.6818 - 112ms/epoch - 4ms/step\n",
      "Epoch 7/10\n",
      "25/25 - 0s - loss: 0.5256 - accuracy: 0.7427 - val_loss: 0.6469 - val_accuracy: 0.7143 - 161ms/epoch - 6ms/step\n",
      "Epoch 8/10\n",
      "25/25 - 0s - loss: 0.4820 - accuracy: 0.7834 - val_loss: 0.6751 - val_accuracy: 0.7143 - 92ms/epoch - 4ms/step\n",
      "Epoch 9/10\n",
      "25/25 - 0s - loss: 0.5663 - accuracy: 0.7296 - val_loss: 0.7773 - val_accuracy: 0.6429 - 124ms/epoch - 5ms/step\n",
      "Epoch 10/10\n",
      "25/25 - 0s - loss: 0.5093 - accuracy: 0.7573 - val_loss: 0.6039 - val_accuracy: 0.7403 - 124ms/epoch - 5ms/step\n"
     ]
    }
   ],
   "source": [
    "# Model fit\n",
    "from matplotlib.pyplot import step\n",
    "\n",
    "trackModel = modelDiabet.fit(\n",
    "        x_train, y_train,\n",
    "        epochs=10, steps_per_epoch=25,\n",
    "        verbose=2,\n",
    "        validation_data=(x_test, y_test)\n",
    ")"
   ]
  },
  {
   "cell_type": "code",
   "execution_count": 264,
   "id": "ec2591ea",
   "metadata": {},
   "outputs": [
    {
     "data": {
      "image/png": "[encoded data removed]",
      "text/plain": [
       "<Figure size 500x500 with 1 Axes>"
      ]
     },
     "metadata": {},
     "output_type": "display_data"
    }
   ],
   "source": [
    "plt.figure(1, figsize=(5,5))\n",
    "plt.plot(range(len(trackModel.history['accuracy'])),\n",
    "         trackModel.history['accuracy'],\n",
    "         color='yellow',\n",
    "         label='Data Train'\n",
    ")\n",
    "plt.plot(range(len(trackModel.history['val_accuracy'])),\n",
    "         trackModel.history['val_accuracy'],\n",
    "         color='green',\n",
    "         label='Data Validasi',\n",
    "         \n",
    ")\n",
    "plt.legend(bbox_to_anchor=(1, 1.02), loc='lower right')\n",
    "plt.show()"
   ]
  },
  {
   "cell_type": "code",
   "execution_count": null,
   "id": "2f789b3f",
   "metadata": {},
   "outputs": [],
   "source": []
  }
 ],
 "metadata": {
  "kernelspec": {
   "display_name": "Python 3 (ipykernel)",
   "language": "python",
   "name": "python3"
  },
  "language_info": {
   "codemirror_mode": {
    "name": "ipython",
    "version": 3
   },
   "file_extension": ".py",
   "mimetype": "text/x-python",
   "name": "python",
   "nbconvert_exporter": "python",
   "pygments_lexer": "ipython3",
   "version": "3.10.7"
  }
 },
 "nbformat": 4,
 "nbformat_minor": 5
}
