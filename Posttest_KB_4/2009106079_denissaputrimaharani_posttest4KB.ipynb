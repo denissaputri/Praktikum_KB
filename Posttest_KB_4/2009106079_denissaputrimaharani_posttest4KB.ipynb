{
 "cells": [
  {
   "cell_type": "markdown",
   "id": "73966ca6",
   "metadata": {},
   "source": [
    "# POSTTEST 4 KECERDASAN BUATAN "
   ]
  },
  {
   "cell_type": "markdown",
   "id": "aa05d0a8",
   "metadata": {},
   "source": [
    "<ul>\n",
    "    <li>Nama : denissa putri maha rani <br>\n",
    "    <li>NIM : 2009106079\n",
    "</ul>"
   ]
  },
  {
   "cell_type": "markdown",
   "id": "b98d1c46",
   "metadata": {},
   "source": [
    "dataset : <a href=\"https://www.kaggle.com/datasets/fedesoriano/heart-failure-prediction\"> **Heart Failure Prediction**"
   ]
  },
  {
   "cell_type": "markdown",
   "id": "f3e6d2a0",
   "metadata": {},
   "source": [
    "<ul>\n",
    "    library yg digunakan :\n",
    "    <li> pandas         ==> 1.5.0\n",
    "    <li> numpy          ==> 1.23.3\n",
    "    <li> seaborn        ==> 0.12.0\n",
    "    <li> matplotlib     ==> 3.5.3\n",
    "    <li> scikit-learn   ==> 1.1.2\n",
    "</ul>"
   ]
  },
  {
   "cell_type": "markdown",
   "id": "df4744bb",
   "metadata": {},
   "source": [
    "# Data preprocessing"
   ]
  },
  {
   "cell_type": "markdown",
   "id": "766917e5",
   "metadata": {},
   "source": [
    "<ol>\n",
    "<li> Data Split <br>\n",
    "    membagi dataset menjadi beberapa bagian yaitu training set, validation set, dan testing set <br><br>\n",
    "<li> Data Transformation <br>\n",
    "    merubah skala data ke dalam bentuk lain sehingga memiliki distribusi yang diharapkan\n",
    "    <ul>\n",
    "        <li> normalisasi <br>\n",
    "        <li> standarisasi <br><br>\n",
    "    </ul>\n",
    "<li> Data Cleaning <br>\n",
    "    <ul>\n",
    "        <li> menangani nilai null<br>\n",
    "        <li> menangani format yang salah <br>\n",
    "        <li> menangani nilai duplikat <br><br>\n",
    "    </ul>\n",
    "<li> Encoding <br>\n",
    "    <ul>\n",
    "        <li> ordinal encoding <br>\n",
    "        <li> one hot encoding <br><br>\n",
    "    </ul>\n",
    "</ol>"
   ]
  },
  {
   "cell_type": "markdown",
   "id": "92cf6d9b",
   "metadata": {},
   "source": [
    "### **1. Data Splitting**\n",
    "Data dibagi menjadi data train dan data testing dengan proporsi data training dan data testing sebesar 70:30."
   ]
  },
  {
   "cell_type": "code",
   "execution_count": 1,
   "id": "1c46858f",
   "metadata": {},
   "outputs": [],
   "source": [
    "#import library yg digunakan\n",
    "import pandas as pd\n",
    "import numpy as np\n",
    "from sklearn.model_selection import train_test_split"
   ]
  },
  {
   "cell_type": "code",
   "execution_count": 4,
   "id": "2f23abcc",
   "metadata": {},
   "outputs": [
    {
     "data": {
      "text/html": [
       "<div>\n",
       "<style scoped>\n",
       "    .dataframe tbody tr th:only-of-type {\n",
       "        vertical-align: middle;\n",
       "    }\n",
       "\n",
       "    .dataframe tbody tr th {\n",
       "        vertical-align: top;\n",
       "    }\n",
       "\n",
       "    .dataframe thead th {\n",
       "        text-align: right;\n",
       "    }\n",
       "</style>\n",
       "<table border=\"1\" class=\"dataframe\">\n",
       "  <thead>\n",
       "    <tr style=\"text-align: right;\">\n",
       "      <th></th>\n",
       "      <th>Age</th>\n",
       "      <th>Sex</th>\n",
       "      <th>ChestPainType</th>\n",
       "      <th>RestingBP</th>\n",
       "      <th>Cholesterol</th>\n",
       "      <th>FastingBS</th>\n",
       "      <th>RestingECG</th>\n",
       "      <th>MaxHR</th>\n",
       "      <th>ExerciseAngina</th>\n",
       "      <th>Oldpeak</th>\n",
       "      <th>ST_Slope</th>\n",
       "      <th>HeartDisease</th>\n",
       "    </tr>\n",
       "  </thead>\n",
       "  <tbody>\n",
       "    <tr>\n",
       "      <th>0</th>\n",
       "      <td>40.0</td>\n",
       "      <td>M</td>\n",
       "      <td>ATA</td>\n",
       "      <td>140.0</td>\n",
       "      <td>289.0</td>\n",
       "      <td>0</td>\n",
       "      <td>Normal</td>\n",
       "      <td>172.0</td>\n",
       "      <td>N</td>\n",
       "      <td>0.0</td>\n",
       "      <td>Up</td>\n",
       "      <td>0</td>\n",
       "    </tr>\n",
       "    <tr>\n",
       "      <th>1</th>\n",
       "      <td>49.0</td>\n",
       "      <td>F</td>\n",
       "      <td>NAP</td>\n",
       "      <td>160.0</td>\n",
       "      <td>180.0</td>\n",
       "      <td>0</td>\n",
       "      <td>Normal</td>\n",
       "      <td>156.0</td>\n",
       "      <td>NaN</td>\n",
       "      <td>1.0</td>\n",
       "      <td>Flat</td>\n",
       "      <td>1</td>\n",
       "    </tr>\n",
       "    <tr>\n",
       "      <th>2</th>\n",
       "      <td>NaN</td>\n",
       "      <td>M</td>\n",
       "      <td>ATA</td>\n",
       "      <td>NaN</td>\n",
       "      <td>283.0</td>\n",
       "      <td>0</td>\n",
       "      <td>ST</td>\n",
       "      <td>98.0</td>\n",
       "      <td>NaN</td>\n",
       "      <td>0.0</td>\n",
       "      <td>Up</td>\n",
       "      <td>0</td>\n",
       "    </tr>\n",
       "    <tr>\n",
       "      <th>3</th>\n",
       "      <td>NaN</td>\n",
       "      <td>F</td>\n",
       "      <td>ASY</td>\n",
       "      <td>NaN</td>\n",
       "      <td>214.0</td>\n",
       "      <td>0</td>\n",
       "      <td>Normal</td>\n",
       "      <td>108.0</td>\n",
       "      <td>Y</td>\n",
       "      <td>1.5</td>\n",
       "      <td>Flat</td>\n",
       "      <td>1</td>\n",
       "    </tr>\n",
       "    <tr>\n",
       "      <th>4</th>\n",
       "      <td>NaN</td>\n",
       "      <td>M</td>\n",
       "      <td>NAP</td>\n",
       "      <td>NaN</td>\n",
       "      <td>195.0</td>\n",
       "      <td>0</td>\n",
       "      <td>NaN</td>\n",
       "      <td>NaN</td>\n",
       "      <td>N</td>\n",
       "      <td>0.0</td>\n",
       "      <td>Up</td>\n",
       "      <td>0</td>\n",
       "    </tr>\n",
       "  </tbody>\n",
       "</table>\n",
       "</div>"
      ],
      "text/plain": [
       "    Age Sex ChestPainType  RestingBP  Cholesterol  FastingBS RestingECG  \\\n",
       "0  40.0   M           ATA      140.0        289.0          0     Normal   \n",
       "1  49.0   F           NAP      160.0        180.0          0     Normal   \n",
       "2   NaN   M           ATA        NaN        283.0          0         ST   \n",
       "3   NaN   F           ASY        NaN        214.0          0     Normal   \n",
       "4   NaN   M           NAP        NaN        195.0          0        NaN   \n",
       "\n",
       "   MaxHR ExerciseAngina  Oldpeak ST_Slope  HeartDisease  \n",
       "0  172.0              N      0.0       Up             0  \n",
       "1  156.0            NaN      1.0     Flat             1  \n",
       "2   98.0            NaN      0.0       Up             0  \n",
       "3  108.0              Y      1.5     Flat             1  \n",
       "4    NaN              N      0.0       Up             0  "
      ]
     },
     "execution_count": 4,
     "metadata": {},
     "output_type": "execute_result"
    }
   ],
   "source": [
    "# membaca file dataset bertipe csv\n",
    "dataset_Heart = pd.read_csv(\"heart.csv\")\n",
    "dataset_Heart.head()"
   ]
  },
  {
   "cell_type": "code",
   "execution_count": 5,
   "id": "7e4b47e6",
   "metadata": {},
   "outputs": [
    {
     "name": "stdout",
     "output_type": "stream",
     "text": [
      "panjang dari dataset heart.csv : 918 baris\n"
     ]
    }
   ],
   "source": [
    "# Menampilkan panjang dataset\n",
    "print(f'panjang dari dataset heart.csv : {len(dataset_Heart)} baris')"
   ]
  },
  {
   "cell_type": "code",
   "execution_count": 7,
   "id": "6ac4558f",
   "metadata": {},
   "outputs": [],
   "source": [
    "dataset_x = dataset_Heart[['Age', 'Sex', 'ChestPainType', 'RestingBP','Cholesterol','FastingBS','MaxHR','ExerciseAngina','Oldpeak','ST_Slope','HeartDisease']]\n",
    "label_y = dataset_Heart['RestingECG']"
   ]
  },
  {
   "cell_type": "code",
   "execution_count": 8,
   "id": "e73e0f12",
   "metadata": {},
   "outputs": [],
   "source": [
    "# split dataset dengan perbandingan 30% untuk data testing\n",
    "x_train, x_test, y_train, y_test = train_test_split(dataset_x, label_y, test_size=.3)"
   ]
  },
  {
   "cell_type": "code",
   "execution_count": 9,
   "id": "f37898aa",
   "metadata": {},
   "outputs": [
    {
     "name": "stdout",
     "output_type": "stream",
     "text": [
      "panjang data train    : 642 baris\n",
      "panjang label train   : 642 baris\n",
      "panjang data testing  : 276 baris\n",
      "panjang label testing : 276 baris\n",
      "panjang total dataset : 918 baris\n"
     ]
    }
   ],
   "source": [
    "print(f'panjang data train    : {len(x_train)} baris',\n",
    "      f'panjang label train   : {len(y_train)} baris',\n",
    "      f'panjang data testing  : {len(x_test)} baris',\n",
    "      f'panjang label testing : {len(y_test)} baris',\n",
    "      f'panjang total dataset : {len(dataset_Heart)} baris',\n",
    "      sep='\\n'\n",
    "     )"
   ]
  },
  {
   "cell_type": "markdown",
   "id": "1432860d",
   "metadata": {},
   "source": [
    "## **2. Data Transformation**\n",
    "Merubah skala data ke dalam bentuk lain sehingga distribusi sesuai dengan yang diharapkan. 2 jenis tranformation :\n",
    "    <ul>\n",
    "        <li> normalisasi <br>\n",
    "        <li> standarisasi <br><br>\n",
    "    </ul>\n"
   ]
  },
  {
   "cell_type": "markdown",
   "id": "b85bc1f6",
   "metadata": {},
   "source": [
    "### A. Normalisasi"
   ]
  },
  {
   "cell_type": "code",
   "execution_count": 11,
   "id": "f2d79c96",
   "metadata": {},
   "outputs": [],
   "source": [
    "# import library yang akan digunakan\n",
    "from sklearn.preprocessing import StandardScaler    # standarisasi\n",
    "from sklearn.preprocessing import MinMaxScaler      # normalisasi\n",
    "import matplotlib.pyplot as plt                     # visualisasi\n",
    "import seaborn as sns  "
   ]
  },
  {
   "cell_type": "code",
   "execution_count": 12,
   "id": "0f328f47",
   "metadata": {},
   "outputs": [
    {
     "data": {
      "text/plain": [
       "Age               float64\n",
       "Sex                object\n",
       "ChestPainType      object\n",
       "RestingBP         float64\n",
       "Cholesterol       float64\n",
       "FastingBS           int64\n",
       "RestingECG         object\n",
       "MaxHR             float64\n",
       "ExerciseAngina     object\n",
       "Oldpeak           float64\n",
       "ST_Slope           object\n",
       "HeartDisease        int64\n",
       "dtype: object"
      ]
     },
     "execution_count": 12,
     "metadata": {},
     "output_type": "execute_result"
    }
   ],
   "source": [
    "dataset_Heart.dtypes"
   ]
  },
  {
   "cell_type": "code",
   "execution_count": 13,
   "id": "25c5f6d5",
   "metadata": {},
   "outputs": [],
   "source": [
    "# buat dataframe untuk normalisasi dataset\n",
    "dataHeart_norm = dataset_Heart.copy()\n",
    "\n",
    "#tools \n",
    "min_max_scaler = MinMaxScaler()\n",
    "\n",
    "#proses normalisasi\n",
    "normalisasi_dataHeart= min_max_scaler.fit_transform(dataHeart_norm[['Age', 'RestingBP', 'Cholesterol','FastingBS','MaxHR', 'Oldpeak','HeartDisease']])\n",
    "\n",
    "#format ulang dataset menjadi dataframe\n",
    "normalisasi_dataHeart = pd.DataFrame(normalisasi_dataHeart)\n",
    "\n",
    "#kembalikan nama atribut\n",
    "normalisasi_dataHeart.rename(columns={0:'Age',1:'RestingBP',2:'Cholesterol',3:'FastingBS', 4:'MaxHR',5:'Oldpeak',6:'HeartDisease'}, inplace=True)\n",
    "\n"
   ]
  },
  {
   "cell_type": "code",
   "execution_count": 17,
   "id": "8e038c09",
   "metadata": {},
   "outputs": [],
   "source": [
    "hasil_transformasi = pd.DataFrame(normalisasi_dataHeart)"
   ]
  },
  {
   "cell_type": "code",
   "execution_count": 19,
   "id": "7961fa77",
   "metadata": {},
   "outputs": [
    {
     "data": {
      "text/html": [
       "<div>\n",
       "<style scoped>\n",
       "    .dataframe tbody tr th:only-of-type {\n",
       "        vertical-align: middle;\n",
       "    }\n",
       "\n",
       "    .dataframe tbody tr th {\n",
       "        vertical-align: top;\n",
       "    }\n",
       "\n",
       "    .dataframe thead th {\n",
       "        text-align: right;\n",
       "    }\n",
       "</style>\n",
       "<table border=\"1\" class=\"dataframe\">\n",
       "  <thead>\n",
       "    <tr style=\"text-align: right;\">\n",
       "      <th></th>\n",
       "      <th>Age</th>\n",
       "      <th>RestingBP</th>\n",
       "      <th>Cholesterol</th>\n",
       "      <th>FastingBS</th>\n",
       "      <th>MaxHR</th>\n",
       "      <th>Oldpeak</th>\n",
       "      <th>HeartDisease</th>\n",
       "    </tr>\n",
       "  </thead>\n",
       "  <tbody>\n",
       "    <tr>\n",
       "      <th>0</th>\n",
       "      <td>0.244898</td>\n",
       "      <td>0.70</td>\n",
       "      <td>0.479270</td>\n",
       "      <td>0.0</td>\n",
       "      <td>0.788732</td>\n",
       "      <td>0.295455</td>\n",
       "      <td>0.0</td>\n",
       "    </tr>\n",
       "    <tr>\n",
       "      <th>1</th>\n",
       "      <td>0.428571</td>\n",
       "      <td>0.80</td>\n",
       "      <td>0.298507</td>\n",
       "      <td>0.0</td>\n",
       "      <td>0.676056</td>\n",
       "      <td>0.409091</td>\n",
       "      <td>1.0</td>\n",
       "    </tr>\n",
       "    <tr>\n",
       "      <th>2</th>\n",
       "      <td>NaN</td>\n",
       "      <td>NaN</td>\n",
       "      <td>0.469320</td>\n",
       "      <td>0.0</td>\n",
       "      <td>0.267606</td>\n",
       "      <td>0.295455</td>\n",
       "      <td>0.0</td>\n",
       "    </tr>\n",
       "    <tr>\n",
       "      <th>3</th>\n",
       "      <td>NaN</td>\n",
       "      <td>NaN</td>\n",
       "      <td>0.354892</td>\n",
       "      <td>0.0</td>\n",
       "      <td>0.338028</td>\n",
       "      <td>0.465909</td>\n",
       "      <td>1.0</td>\n",
       "    </tr>\n",
       "    <tr>\n",
       "      <th>4</th>\n",
       "      <td>NaN</td>\n",
       "      <td>NaN</td>\n",
       "      <td>0.323383</td>\n",
       "      <td>0.0</td>\n",
       "      <td>NaN</td>\n",
       "      <td>0.295455</td>\n",
       "      <td>0.0</td>\n",
       "    </tr>\n",
       "    <tr>\n",
       "      <th>...</th>\n",
       "      <td>...</td>\n",
       "      <td>...</td>\n",
       "      <td>...</td>\n",
       "      <td>...</td>\n",
       "      <td>...</td>\n",
       "      <td>...</td>\n",
       "      <td>...</td>\n",
       "    </tr>\n",
       "    <tr>\n",
       "      <th>913</th>\n",
       "      <td>0.346939</td>\n",
       "      <td>0.55</td>\n",
       "      <td>0.437811</td>\n",
       "      <td>0.0</td>\n",
       "      <td>0.507042</td>\n",
       "      <td>0.431818</td>\n",
       "      <td>1.0</td>\n",
       "    </tr>\n",
       "    <tr>\n",
       "      <th>914</th>\n",
       "      <td>0.816327</td>\n",
       "      <td>0.72</td>\n",
       "      <td>0.320066</td>\n",
       "      <td>1.0</td>\n",
       "      <td>0.570423</td>\n",
       "      <td>0.681818</td>\n",
       "      <td>1.0</td>\n",
       "    </tr>\n",
       "    <tr>\n",
       "      <th>915</th>\n",
       "      <td>0.591837</td>\n",
       "      <td>0.65</td>\n",
       "      <td>0.217247</td>\n",
       "      <td>0.0</td>\n",
       "      <td>0.387324</td>\n",
       "      <td>0.431818</td>\n",
       "      <td>1.0</td>\n",
       "    </tr>\n",
       "    <tr>\n",
       "      <th>916</th>\n",
       "      <td>0.591837</td>\n",
       "      <td>0.65</td>\n",
       "      <td>0.391376</td>\n",
       "      <td>0.0</td>\n",
       "      <td>0.802817</td>\n",
       "      <td>0.295455</td>\n",
       "      <td>1.0</td>\n",
       "    </tr>\n",
       "    <tr>\n",
       "      <th>917</th>\n",
       "      <td>0.204082</td>\n",
       "      <td>0.69</td>\n",
       "      <td>0.290216</td>\n",
       "      <td>0.0</td>\n",
       "      <td>0.795775</td>\n",
       "      <td>0.295455</td>\n",
       "      <td>0.0</td>\n",
       "    </tr>\n",
       "  </tbody>\n",
       "</table>\n",
       "<p>918 rows × 7 columns</p>\n",
       "</div>"
      ],
      "text/plain": [
       "          Age  RestingBP  Cholesterol  FastingBS     MaxHR   Oldpeak  \\\n",
       "0    0.244898       0.70     0.479270        0.0  0.788732  0.295455   \n",
       "1    0.428571       0.80     0.298507        0.0  0.676056  0.409091   \n",
       "2         NaN        NaN     0.469320        0.0  0.267606  0.295455   \n",
       "3         NaN        NaN     0.354892        0.0  0.338028  0.465909   \n",
       "4         NaN        NaN     0.323383        0.0       NaN  0.295455   \n",
       "..        ...        ...          ...        ...       ...       ...   \n",
       "913  0.346939       0.55     0.437811        0.0  0.507042  0.431818   \n",
       "914  0.816327       0.72     0.320066        1.0  0.570423  0.681818   \n",
       "915  0.591837       0.65     0.217247        0.0  0.387324  0.431818   \n",
       "916  0.591837       0.65     0.391376        0.0  0.802817  0.295455   \n",
       "917  0.204082       0.69     0.290216        0.0  0.795775  0.295455   \n",
       "\n",
       "     HeartDisease  \n",
       "0             0.0  \n",
       "1             1.0  \n",
       "2             0.0  \n",
       "3             1.0  \n",
       "4             0.0  \n",
       "..            ...  \n",
       "913           1.0  \n",
       "914           1.0  \n",
       "915           1.0  \n",
       "916           1.0  \n",
       "917           0.0  \n",
       "\n",
       "[918 rows x 7 columns]"
      ]
     },
     "execution_count": 19,
     "metadata": {},
     "output_type": "execute_result"
    }
   ],
   "source": [
    "hasil_transformasi"
   ]
  },
  {
   "cell_type": "markdown",
   "id": "457a8a86",
   "metadata": {},
   "source": [
    "#### Visualisasi dataset sebelum dan sesudah normalisasi"
   ]
  },
  {
   "cell_type": "code",
   "execution_count": 15,
   "id": "e60e2487",
   "metadata": {},
   "outputs": [
    {
     "data": {
      "image/png": "[encoded data removed]",
      "text/plain": [
       "<Figure size 600x600 with 1 Axes>"
      ]
     },
     "metadata": {},
     "output_type": "display_data"
    }
   ],
   "source": [
    "#visualisasi dataset sebelum di normalisasi\n",
    "plt.figure(1, figsize=(6,6))\n",
    "sns.scatterplot(dataHeart_norm, x='Age', y='Cholesterol', color='red')\n",
    "plt.title('perbandingan tingkat kolesterol berdasarkan usia')\n",
    "plt.xlabel('Usia')\n",
    "plt.ylabel('Tingkat kolesterol')\n",
    "\n",
    "plt.show()"
   ]
  },
  {
   "cell_type": "code",
   "execution_count": 16,
   "id": "f86ee3bb",
   "metadata": {},
   "outputs": [
    {
     "data": {
      "image/png": "[encoded data removed]",
      "text/plain": [
       "<Figure size 600x600 with 1 Axes>"
      ]
     },
     "metadata": {},
     "output_type": "display_data"
    }
   ],
   "source": [
    "# visualisasi dataset setelah di normalisasi\n",
    "plt.figure(1, figsize=(6,6))\n",
    "sns.scatterplot(normalisasi_dataHeart, x='Age', y='Cholesterol', color='red')\n",
    "plt.title('perbandingan tingkat kolesterol berdasarkan usia')\n",
    "plt.xlabel('usia')\n",
    "plt.ylabel('tingkat kolesterol')\n",
    "\n",
    "plt.show()"
   ]
  },
  {
   "cell_type": "markdown",
   "id": "a0cad37a",
   "metadata": {},
   "source": [
    "### B. Standarisasi"
   ]
  },
  {
   "cell_type": "markdown",
   "id": "2a5b609f",
   "metadata": {},
   "source": [
    "proses penskalaan data sehingga memiliki nilai\n",
    "rata-rata 0 dan standar deviasi 1"
   ]
  },
  {
   "cell_type": "code",
   "execution_count": 20,
   "id": "2b3e9073",
   "metadata": {},
   "outputs": [],
   "source": [
    "from sklearn.preprocessing import StandardScaler"
   ]
  },
  {
   "cell_type": "code",
   "execution_count": 21,
   "id": "51a4b895",
   "metadata": {},
   "outputs": [
    {
     "name": "stderr",
     "output_type": "stream",
     "text": [
      "C:\\Users\\Hp\\AppData\\Local\\Programs\\Python\\Python310\\lib\\site-packages\\numpy\\core\\fromnumeric.py:3571: FutureWarning: Dropping of nuisance columns in DataFrame reductions (with 'numeric_only=None') is deprecated; in a future version this will raise TypeError.  Select only valid columns before calling the reduction.\n",
      "  return std(axis=axis, dtype=dtype, out=out, ddof=ddof, **kwargs)\n"
     ]
    },
    {
     "data": {
      "text/plain": [
       "Age               9.382834\n",
       "RestingBP        18.525199\n",
       "Cholesterol     109.452940\n",
       "FastingBS         0.423501\n",
       "MaxHR            25.473402\n",
       "Oldpeak           1.066384\n",
       "HeartDisease      0.497143\n",
       "dtype: float64"
      ]
     },
     "execution_count": 21,
     "metadata": {},
     "output_type": "execute_result"
    }
   ],
   "source": [
    "# menampilkan standar deviasi setiap atribut dataset\n",
    "np.std(dataset_Heart)"
   ]
  },
  {
   "cell_type": "code",
   "execution_count": 30,
   "id": "3b3b980e",
   "metadata": {},
   "outputs": [],
   "source": [
    "# membuat data frame baru untuk menjaga keamanan dataframe yg asli\n",
    "dataHeart_std = dataset_Heart.copy()\n",
    "\n",
    "# tools \n",
    "scaler = StandardScaler()\n",
    "\n",
    "# proses standarisasi\n",
    "dataHeart_standarisasi = scaler.fit_transform(dataset_Heart[['Age', 'RestingBP', 'Cholesterol','FastingBS','MaxHR', 'Oldpeak','HeartDisease']])"
   ]
  },
  {
   "cell_type": "code",
   "execution_count": 31,
   "id": "b94a4d03",
   "metadata": {},
   "outputs": [],
   "source": [
    "hasil_standarisasi = pd.DataFrame(dataHeart_standarisasi)"
   ]
  },
  {
   "cell_type": "code",
   "execution_count": 33,
   "id": "edc97646",
   "metadata": {},
   "outputs": [
    {
     "data": {
      "text/html": [
       "<div>\n",
       "<style scoped>\n",
       "    .dataframe tbody tr th:only-of-type {\n",
       "        vertical-align: middle;\n",
       "    }\n",
       "\n",
       "    .dataframe tbody tr th {\n",
       "        vertical-align: top;\n",
       "    }\n",
       "\n",
       "    .dataframe thead th {\n",
       "        text-align: right;\n",
       "    }\n",
       "</style>\n",
       "<table border=\"1\" class=\"dataframe\">\n",
       "  <thead>\n",
       "    <tr style=\"text-align: right;\">\n",
       "      <th></th>\n",
       "      <th>0</th>\n",
       "      <th>1</th>\n",
       "      <th>2</th>\n",
       "      <th>3</th>\n",
       "      <th>4</th>\n",
       "      <th>5</th>\n",
       "      <th>6</th>\n",
       "    </tr>\n",
       "  </thead>\n",
       "  <tbody>\n",
       "    <tr>\n",
       "      <th>0</th>\n",
       "      <td>-1.448614</td>\n",
       "      <td>0.411823</td>\n",
       "      <td>0.823668</td>\n",
       "      <td>-0.553021</td>\n",
       "      <td>1.382057</td>\n",
       "      <td>-0.831102</td>\n",
       "      <td>-1.113115</td>\n",
       "    </tr>\n",
       "    <tr>\n",
       "      <th>1</th>\n",
       "      <td>-0.489416</td>\n",
       "      <td>1.491434</td>\n",
       "      <td>-0.172194</td>\n",
       "      <td>-0.553021</td>\n",
       "      <td>0.753951</td>\n",
       "      <td>0.106646</td>\n",
       "      <td>0.898380</td>\n",
       "    </tr>\n",
       "    <tr>\n",
       "      <th>2</th>\n",
       "      <td>NaN</td>\n",
       "      <td>NaN</td>\n",
       "      <td>0.768850</td>\n",
       "      <td>-0.553021</td>\n",
       "      <td>-1.522934</td>\n",
       "      <td>-0.831102</td>\n",
       "      <td>-1.113115</td>\n",
       "    </tr>\n",
       "    <tr>\n",
       "      <th>3</th>\n",
       "      <td>NaN</td>\n",
       "      <td>NaN</td>\n",
       "      <td>0.138442</td>\n",
       "      <td>-0.553021</td>\n",
       "      <td>-1.130368</td>\n",
       "      <td>0.575520</td>\n",
       "      <td>0.898380</td>\n",
       "    </tr>\n",
       "    <tr>\n",
       "      <th>4</th>\n",
       "      <td>NaN</td>\n",
       "      <td>NaN</td>\n",
       "      <td>-0.035149</td>\n",
       "      <td>-0.553021</td>\n",
       "      <td>NaN</td>\n",
       "      <td>-0.831102</td>\n",
       "      <td>-1.113115</td>\n",
       "    </tr>\n",
       "    <tr>\n",
       "      <th>...</th>\n",
       "      <td>...</td>\n",
       "      <td>...</td>\n",
       "      <td>...</td>\n",
       "      <td>...</td>\n",
       "      <td>...</td>\n",
       "      <td>...</td>\n",
       "      <td>...</td>\n",
       "    </tr>\n",
       "    <tr>\n",
       "      <th>913</th>\n",
       "      <td>-0.915726</td>\n",
       "      <td>-1.207593</td>\n",
       "      <td>0.595259</td>\n",
       "      <td>-0.553021</td>\n",
       "      <td>-0.188208</td>\n",
       "      <td>0.294196</td>\n",
       "      <td>0.898380</td>\n",
       "    </tr>\n",
       "    <tr>\n",
       "      <th>914</th>\n",
       "      <td>1.535559</td>\n",
       "      <td>0.627745</td>\n",
       "      <td>-0.053422</td>\n",
       "      <td>1.808250</td>\n",
       "      <td>0.165101</td>\n",
       "      <td>2.357242</td>\n",
       "      <td>0.898380</td>\n",
       "    </tr>\n",
       "    <tr>\n",
       "      <th>915</th>\n",
       "      <td>0.363205</td>\n",
       "      <td>-0.127982</td>\n",
       "      <td>-0.619875</td>\n",
       "      <td>-0.553021</td>\n",
       "      <td>-0.855571</td>\n",
       "      <td>0.294196</td>\n",
       "      <td>0.898380</td>\n",
       "    </tr>\n",
       "    <tr>\n",
       "      <th>916</th>\n",
       "      <td>0.363205</td>\n",
       "      <td>-0.127982</td>\n",
       "      <td>0.339441</td>\n",
       "      <td>-0.553021</td>\n",
       "      <td>1.460570</td>\n",
       "      <td>-0.831102</td>\n",
       "      <td>0.898380</td>\n",
       "    </tr>\n",
       "    <tr>\n",
       "      <th>917</th>\n",
       "      <td>-1.661769</td>\n",
       "      <td>0.303862</td>\n",
       "      <td>-0.217876</td>\n",
       "      <td>-0.553021</td>\n",
       "      <td>1.421313</td>\n",
       "      <td>-0.831102</td>\n",
       "      <td>-1.113115</td>\n",
       "    </tr>\n",
       "  </tbody>\n",
       "</table>\n",
       "<p>918 rows × 7 columns</p>\n",
       "</div>"
      ],
      "text/plain": [
       "            0         1         2         3         4         5         6\n",
       "0   -1.448614  0.411823  0.823668 -0.553021  1.382057 -0.831102 -1.113115\n",
       "1   -0.489416  1.491434 -0.172194 -0.553021  0.753951  0.106646  0.898380\n",
       "2         NaN       NaN  0.768850 -0.553021 -1.522934 -0.831102 -1.113115\n",
       "3         NaN       NaN  0.138442 -0.553021 -1.130368  0.575520  0.898380\n",
       "4         NaN       NaN -0.035149 -0.553021       NaN -0.831102 -1.113115\n",
       "..        ...       ...       ...       ...       ...       ...       ...\n",
       "913 -0.915726 -1.207593  0.595259 -0.553021 -0.188208  0.294196  0.898380\n",
       "914  1.535559  0.627745 -0.053422  1.808250  0.165101  2.357242  0.898380\n",
       "915  0.363205 -0.127982 -0.619875 -0.553021 -0.855571  0.294196  0.898380\n",
       "916  0.363205 -0.127982  0.339441 -0.553021  1.460570 -0.831102  0.898380\n",
       "917 -1.661769  0.303862 -0.217876 -0.553021  1.421313 -0.831102 -1.113115\n",
       "\n",
       "[918 rows x 7 columns]"
      ]
     },
     "execution_count": 33,
     "metadata": {},
     "output_type": "execute_result"
    }
   ],
   "source": [
    "hasil_standarisasi"
   ]
  },
  {
   "cell_type": "markdown",
   "id": "30ba9493",
   "metadata": {},
   "source": [
    "#### Dataset sebelum dan sesudah standarisasi"
   ]
  },
  {
   "cell_type": "code",
   "execution_count": 37,
   "id": "a6bfd30f",
   "metadata": {},
   "outputs": [
    {
     "name": "stdout",
     "output_type": "stream",
     "text": [
      "Dataset sebelum standarisasi :\n",
      "    Age Sex ChestPainType  RestingBP  Cholesterol  FastingBS  MaxHR  \\\n",
      "0  40.0   M           ATA      140.0        289.0          0  172.0   \n",
      "1  49.0   F           NAP      160.0        180.0          0  156.0   \n",
      "2   NaN   M           ATA        NaN        283.0          0   98.0   \n",
      "3   NaN   F           ASY        NaN        214.0          0  108.0   \n",
      "4   NaN   M           NAP        NaN        195.0          0    NaN   \n",
      "\n",
      "  ExerciseAngina  Oldpeak ST_Slope  HeartDisease  \n",
      "0              N      0.0       Up             0  \n",
      "1            NaN      1.0     Flat             1  \n",
      "2            NaN      0.0       Up             0  \n",
      "3              Y      1.5     Flat             1  \n",
      "4              N      0.0       Up             0  \n",
      "Nilai standar deviasi:\n",
      "Age               9.382834\n",
      "RestingBP        18.525199\n",
      "Cholesterol     109.452940\n",
      "FastingBS         0.423501\n",
      "MaxHR            25.473402\n",
      "Oldpeak           1.066384\n",
      "HeartDisease      0.497143\n",
      "dtype: float64\n",
      "\n",
      "Dataset setelah standarisasi:\n",
      "          0         1         2         3         4         5         6\n",
      "0 -1.448614  0.411823  0.823668 -0.553021  1.382057 -0.831102 -1.113115\n",
      "1 -0.489416  1.491434 -0.172194 -0.553021  0.753951  0.106646  0.898380\n",
      "2       NaN       NaN  0.768850 -0.553021 -1.522934 -0.831102 -1.113115\n",
      "3       NaN       NaN  0.138442 -0.553021 -1.130368  0.575520  0.898380\n",
      "4       NaN       NaN -0.035149 -0.553021       NaN -0.831102 -1.113115\n",
      "Nilai standar deviasi: 0    1.0\n",
      "1    1.0\n",
      "2    1.0\n",
      "3    1.0\n",
      "4    1.0\n",
      "5    1.0\n",
      "6    1.0\n",
      "dtype: float64\n"
     ]
    },
    {
     "name": "stderr",
     "output_type": "stream",
     "text": [
      "C:\\Users\\Hp\\AppData\\Local\\Programs\\Python\\Python310\\lib\\site-packages\\numpy\\core\\fromnumeric.py:3571: FutureWarning: Dropping of nuisance columns in DataFrame reductions (with 'numeric_only=None') is deprecated; in a future version this will raise TypeError.  Select only valid columns before calling the reduction.\n",
      "  return std(axis=axis, dtype=dtype, out=out, ddof=ddof, **kwargs)\n"
     ]
    }
   ],
   "source": [
    "print('Dataset sebelum standarisasi :',  \n",
    "      dataset_Heart.drop('RestingECG', axis=1).head(),\n",
    "      f'Nilai standar deviasi:\\n{np.std(dataset_Heart)}',\n",
    "      sep='\\n', end='\\n\\n')\n",
    "\n",
    "print('Dataset setelah standarisasi:',  \n",
    "      hasil_standarisasi[:5],\n",
    "      f'Nilai standar deviasi: {np.std(hasil_standarisasi)}',\n",
    "      sep='\\n')"
   ]
  },
  {
   "cell_type": "markdown",
   "id": "e9a6299c",
   "metadata": {},
   "source": [
    "## **Data Cleaning**\n",
    "kesalah dalam data yaitu :\n",
    "<ul>\n",
    "    <li>Terdapat nilai NULL <br>\n",
    "    <li>Format data yang salah <br>\n",
    "    <li>Terdapat duplikat <br>\n",
    "</ul>\n"
   ]
  },
  {
   "cell_type": "code",
   "execution_count": 43,
   "id": "b00a2318",
   "metadata": {},
   "outputs": [],
   "source": [
    "# import library yg akan digunakan\n",
    "from sklearn.impute import SimpleImputer"
   ]
  },
  {
   "cell_type": "markdown",
   "id": "04859162",
   "metadata": {},
   "source": [
    "###  a. Data dengan nilai NULL"
   ]
  },
  {
   "cell_type": "code",
   "execution_count": 44,
   "id": "362570bf",
   "metadata": {
    "scrolled": true
   },
   "outputs": [
    {
     "data": {
      "text/plain": [
       "Age               6\n",
       "Sex               0\n",
       "ChestPainType     0\n",
       "RestingBP         4\n",
       "Cholesterol       2\n",
       "FastingBS         0\n",
       "RestingECG        3\n",
       "MaxHR             4\n",
       "ExerciseAngina    2\n",
       "Oldpeak           0\n",
       "ST_Slope          0\n",
       "HeartDisease      0\n",
       "dtype: int64"
      ]
     },
     "execution_count": 44,
     "metadata": {},
     "output_type": "execute_result"
    }
   ],
   "source": [
    "dataset_Heart.isna().sum()"
   ]
  },
  {
   "cell_type": "code",
   "execution_count": 45,
   "id": "39c65552",
   "metadata": {},
   "outputs": [],
   "source": [
    "# copy dataset \n",
    "data_Heart_baru = dataset_Heart.copy()"
   ]
  },
  {
   "cell_type": "code",
   "execution_count": 61,
   "id": "0b1065b3",
   "metadata": {
    "scrolled": true
   },
   "outputs": [
    {
     "name": "stdout",
     "output_type": "stream",
     "text": [
      "<class 'pandas.core.frame.DataFrame'>\n",
      "RangeIndex: 918 entries, 0 to 917\n",
      "Data columns (total 12 columns):\n",
      " #   Column          Non-Null Count  Dtype  \n",
      "---  ------          --------------  -----  \n",
      " 0   Age             912 non-null    float64\n",
      " 1   Sex             918 non-null    object \n",
      " 2   ChestPainType   918 non-null    object \n",
      " 3   RestingBP       914 non-null    float64\n",
      " 4   Cholesterol     916 non-null    float64\n",
      " 5   FastingBS       918 non-null    int64  \n",
      " 6   RestingECG      915 non-null    object \n",
      " 7   MaxHR           914 non-null    float64\n",
      " 8   ExerciseAngina  916 non-null    object \n",
      " 9   Oldpeak         918 non-null    float64\n",
      " 10  ST_Slope        918 non-null    object \n",
      " 11  HeartDisease    918 non-null    int64  \n",
      "dtypes: float64(5), int64(2), object(5)\n",
      "memory usage: 86.2+ KB\n"
     ]
    }
   ],
   "source": [
    "dataset_Heart.info()"
   ]
  },
  {
   "cell_type": "markdown",
   "id": "e4f91266",
   "metadata": {},
   "source": [
    "untuk data yg < 918 berarti memiliki nilai NULL"
   ]
  },
  {
   "cell_type": "code",
   "execution_count": 62,
   "id": "d8fe884f",
   "metadata": {},
   "outputs": [],
   "source": [
    "# tools\n",
    "imputer_mean   = SimpleImputer(strategy='mean')           \n",
    "imputer_median = SimpleImputer(strategy='median')       \n",
    "imputer_modus  = SimpleImputer(strategy='most_frequent') "
   ]
  },
  {
   "cell_type": "code",
   "execution_count": 63,
   "id": "c265cdad",
   "metadata": {},
   "outputs": [],
   "source": [
    "# mengubah nilai null dengan nilai mean\n",
    "data_Heart_baru['RestingBP']   = imputer_mean.fit_transform(data_Heart_baru[['RestingBP']])\n",
    "data_Heart_baru['Cholesterol'] = imputer_mean.fit_transform(data_Heart_baru[['Cholesterol']])\n",
    "\n",
    "# mengubah nilai null dengan nilai median\n",
    "data_Heart_baru['Age']   = imputer_median.fit_transform(data_Heart_baru[['Age']])\n",
    "data_Heart_baru['MaxHR'] = imputer_median.fit_transform(data_Heart_baru[['MaxHR']])\n"
   ]
  },
  {
   "cell_type": "code",
   "execution_count": 64,
   "id": "f8356536",
   "metadata": {},
   "outputs": [],
   "source": [
    "# mengubah nilai null dengan nilai modus/yang paling banyak muncul\n",
    "data_Heart_baru['RestingECG']     = imputer_modus.fit_transform(data_Heart_baru[['RestingECG']])\n",
    "data_Heart_baru['ExerciseAngina'] = imputer_modus.fit_transform(data_Heart_baru[['ExerciseAngina']])"
   ]
  },
  {
   "cell_type": "code",
   "execution_count": 65,
   "id": "0fd5e8fa",
   "metadata": {},
   "outputs": [
    {
     "data": {
      "text/plain": [
       "Age               0\n",
       "Sex               0\n",
       "ChestPainType     0\n",
       "RestingBP         0\n",
       "Cholesterol       0\n",
       "FastingBS         0\n",
       "RestingECG        0\n",
       "MaxHR             0\n",
       "ExerciseAngina    0\n",
       "Oldpeak           0\n",
       "ST_Slope          0\n",
       "HeartDisease      0\n",
       "dtype: int64"
      ]
     },
     "execution_count": 65,
     "metadata": {},
     "output_type": "execute_result"
    }
   ],
   "source": [
    "# cek kembali data NULL\n",
    "data_Heart_baru.isna().sum()"
   ]
  },
  {
   "cell_type": "markdown",
   "id": "649364e9",
   "metadata": {},
   "source": [
    "dataset sudah tidak mengandung nilai NULL"
   ]
  },
  {
   "cell_type": "markdown",
   "id": "9c246828",
   "metadata": {},
   "source": [
    "### b. Nilai Duplikat"
   ]
  },
  {
   "cell_type": "code",
   "execution_count": 49,
   "id": "2ae84484",
   "metadata": {},
   "outputs": [
    {
     "data": {
      "text/plain": [
       "1"
      ]
     },
     "execution_count": 49,
     "metadata": {},
     "output_type": "execute_result"
    }
   ],
   "source": [
    "# copy dataset heart ke dataframe baru\n",
    "dataHeart_duplikat = dataset_Heart.copy()\n",
    "\n",
    "# cek nilai duplikat\n",
    "dataHeart_duplikat.duplicated().sum()\n"
   ]
  },
  {
   "cell_type": "markdown",
   "id": "6a7717e0",
   "metadata": {},
   "source": [
    "ada 1 nilai duplikat pada dataset heart.csv"
   ]
  },
  {
   "cell_type": "code",
   "execution_count": 50,
   "id": "6841374b",
   "metadata": {},
   "outputs": [
    {
     "data": {
      "text/plain": [
       "0"
      ]
     },
     "execution_count": 50,
     "metadata": {},
     "output_type": "execute_result"
    }
   ],
   "source": [
    "# Hapus baris yang nilainya sama/terduplikat\n",
    "dataHeart_duplikat.drop_duplicates(inplace=True)\n",
    "\n",
    "# cek kembali nilai duplikat\n",
    "dataHeart_duplikat.duplicated().sum()"
   ]
  },
  {
   "cell_type": "markdown",
   "id": "92258dab",
   "metadata": {},
   "source": [
    "dataset sudah tidak memiliki nilai duplikat"
   ]
  },
  {
   "cell_type": "markdown",
   "id": "51bd8d33",
   "metadata": {},
   "source": [
    "### C. Mengganti format tipe data"
   ]
  },
  {
   "cell_type": "code",
   "execution_count": 68,
   "id": "005aeaf7",
   "metadata": {},
   "outputs": [
    {
     "data": {
      "text/plain": [
       "Age               float64\n",
       "Sex                object\n",
       "ChestPainType      object\n",
       "RestingBP         float64\n",
       "Cholesterol       float64\n",
       "FastingBS           int64\n",
       "RestingECG         object\n",
       "MaxHR             float64\n",
       "ExerciseAngina     object\n",
       "Oldpeak           float64\n",
       "ST_Slope           object\n",
       "HeartDisease        int64\n",
       "dtype: object"
      ]
     },
     "execution_count": 68,
     "metadata": {},
     "output_type": "execute_result"
    }
   ],
   "source": [
    "data_Heart_baru.dtypes"
   ]
  },
  {
   "cell_type": "code",
   "execution_count": 71,
   "id": "5ecece54",
   "metadata": {},
   "outputs": [
    {
     "data": {
      "text/plain": [
       "Age               0\n",
       "Sex               0\n",
       "ChestPainType     0\n",
       "RestingBP         0\n",
       "Cholesterol       0\n",
       "FastingBS         0\n",
       "RestingECG        0\n",
       "MaxHR             0\n",
       "ExerciseAngina    0\n",
       "Oldpeak           0\n",
       "ST_Slope          0\n",
       "HeartDisease      0\n",
       "dtype: int64"
      ]
     },
     "execution_count": 71,
     "metadata": {},
     "output_type": "execute_result"
    }
   ],
   "source": [
    "# atribut dataset tidak bisa diubah formatnya jika berisi nilai NULL jadi menggunakan dataset yang sudah dihilangkan nilai NULL nya\n",
    "data_Heart_baru.isna().sum()"
   ]
  },
  {
   "cell_type": "code",
   "execution_count": 72,
   "id": "dbc8d949",
   "metadata": {},
   "outputs": [
    {
     "data": {
      "text/plain": [
       "dtype('int64')"
      ]
     },
     "execution_count": 72,
     "metadata": {},
     "output_type": "execute_result"
    }
   ],
   "source": [
    "# mengubah tipe data float64 menjadi int64 pada atribut Age\n",
    "data_Heart_baru['Age'].astype('int64').dtypes"
   ]
  },
  {
   "cell_type": "markdown",
   "id": "b7bf6ebd",
   "metadata": {},
   "source": [
    "### One Hot Encoding\n",
    "salah satu metode encoding yang merepresentasikan data bertipe kategori sebagai vektor biner yang bernilai integer, 0 dan 1, dimana semua elemen akan bernilai 0 kecuali satu elemen yang bernilai 1, yaitu elemen yang memiliki nilai kategori tersebut."
   ]
  },
  {
   "cell_type": "code",
   "execution_count": 73,
   "id": "d84229b9",
   "metadata": {},
   "outputs": [],
   "source": [
    "# import tools \n",
    "from sklearn.preprocessing import OrdinalEncoder\n",
    "from sklearn.preprocessing import OneHotEncoder"
   ]
  },
  {
   "cell_type": "code",
   "execution_count": 74,
   "id": "3f5fc65a",
   "metadata": {},
   "outputs": [],
   "source": [
    "# membuat dataframe baru\n",
    "dataHeart_onehotEnco = data_Heart_baru.copy()"
   ]
  },
  {
   "cell_type": "code",
   "execution_count": 76,
   "id": "e1673789",
   "metadata": {},
   "outputs": [
    {
     "data": {
      "text/html": [
       "<div>\n",
       "<style scoped>\n",
       "    .dataframe tbody tr th:only-of-type {\n",
       "        vertical-align: middle;\n",
       "    }\n",
       "\n",
       "    .dataframe tbody tr th {\n",
       "        vertical-align: top;\n",
       "    }\n",
       "\n",
       "    .dataframe thead th {\n",
       "        text-align: right;\n",
       "    }\n",
       "</style>\n",
       "<table border=\"1\" class=\"dataframe\">\n",
       "  <thead>\n",
       "    <tr style=\"text-align: right;\">\n",
       "      <th></th>\n",
       "      <th>Age</th>\n",
       "      <th>Sex</th>\n",
       "      <th>ChestPainType</th>\n",
       "      <th>RestingBP</th>\n",
       "      <th>Cholesterol</th>\n",
       "      <th>FastingBS</th>\n",
       "      <th>RestingECG</th>\n",
       "      <th>MaxHR</th>\n",
       "      <th>ExerciseAngina</th>\n",
       "      <th>Oldpeak</th>\n",
       "      <th>ST_Slope</th>\n",
       "      <th>HeartDisease</th>\n",
       "    </tr>\n",
       "  </thead>\n",
       "  <tbody>\n",
       "    <tr>\n",
       "      <th>0</th>\n",
       "      <td>40.0</td>\n",
       "      <td>M</td>\n",
       "      <td>ATA</td>\n",
       "      <td>140.000000</td>\n",
       "      <td>289.0</td>\n",
       "      <td>0</td>\n",
       "      <td>Normal</td>\n",
       "      <td>172.0</td>\n",
       "      <td>N</td>\n",
       "      <td>0.0</td>\n",
       "      <td>Up</td>\n",
       "      <td>0</td>\n",
       "    </tr>\n",
       "    <tr>\n",
       "      <th>1</th>\n",
       "      <td>49.0</td>\n",
       "      <td>F</td>\n",
       "      <td>NAP</td>\n",
       "      <td>160.000000</td>\n",
       "      <td>180.0</td>\n",
       "      <td>0</td>\n",
       "      <td>Normal</td>\n",
       "      <td>156.0</td>\n",
       "      <td>N</td>\n",
       "      <td>1.0</td>\n",
       "      <td>Flat</td>\n",
       "      <td>1</td>\n",
       "    </tr>\n",
       "    <tr>\n",
       "      <th>2</th>\n",
       "      <td>54.0</td>\n",
       "      <td>M</td>\n",
       "      <td>ATA</td>\n",
       "      <td>132.370897</td>\n",
       "      <td>283.0</td>\n",
       "      <td>0</td>\n",
       "      <td>ST</td>\n",
       "      <td>98.0</td>\n",
       "      <td>N</td>\n",
       "      <td>0.0</td>\n",
       "      <td>Up</td>\n",
       "      <td>0</td>\n",
       "    </tr>\n",
       "    <tr>\n",
       "      <th>3</th>\n",
       "      <td>54.0</td>\n",
       "      <td>F</td>\n",
       "      <td>ASY</td>\n",
       "      <td>132.370897</td>\n",
       "      <td>214.0</td>\n",
       "      <td>0</td>\n",
       "      <td>Normal</td>\n",
       "      <td>108.0</td>\n",
       "      <td>Y</td>\n",
       "      <td>1.5</td>\n",
       "      <td>Flat</td>\n",
       "      <td>1</td>\n",
       "    </tr>\n",
       "    <tr>\n",
       "      <th>4</th>\n",
       "      <td>54.0</td>\n",
       "      <td>M</td>\n",
       "      <td>NAP</td>\n",
       "      <td>132.370897</td>\n",
       "      <td>195.0</td>\n",
       "      <td>0</td>\n",
       "      <td>Normal</td>\n",
       "      <td>138.0</td>\n",
       "      <td>N</td>\n",
       "      <td>0.0</td>\n",
       "      <td>Up</td>\n",
       "      <td>0</td>\n",
       "    </tr>\n",
       "    <tr>\n",
       "      <th>5</th>\n",
       "      <td>54.0</td>\n",
       "      <td>M</td>\n",
       "      <td>NAP</td>\n",
       "      <td>132.370897</td>\n",
       "      <td>339.0</td>\n",
       "      <td>0</td>\n",
       "      <td>Normal</td>\n",
       "      <td>138.0</td>\n",
       "      <td>N</td>\n",
       "      <td>0.0</td>\n",
       "      <td>Up</td>\n",
       "      <td>0</td>\n",
       "    </tr>\n",
       "    <tr>\n",
       "      <th>6</th>\n",
       "      <td>54.0</td>\n",
       "      <td>F</td>\n",
       "      <td>ATA</td>\n",
       "      <td>130.000000</td>\n",
       "      <td>237.0</td>\n",
       "      <td>0</td>\n",
       "      <td>Normal</td>\n",
       "      <td>138.0</td>\n",
       "      <td>N</td>\n",
       "      <td>0.0</td>\n",
       "      <td>Up</td>\n",
       "      <td>0</td>\n",
       "    </tr>\n",
       "    <tr>\n",
       "      <th>7</th>\n",
       "      <td>54.0</td>\n",
       "      <td>M</td>\n",
       "      <td>ATA</td>\n",
       "      <td>110.000000</td>\n",
       "      <td>208.0</td>\n",
       "      <td>0</td>\n",
       "      <td>Normal</td>\n",
       "      <td>138.0</td>\n",
       "      <td>N</td>\n",
       "      <td>0.0</td>\n",
       "      <td>Up</td>\n",
       "      <td>0</td>\n",
       "    </tr>\n",
       "    <tr>\n",
       "      <th>8</th>\n",
       "      <td>37.0</td>\n",
       "      <td>M</td>\n",
       "      <td>ASY</td>\n",
       "      <td>140.000000</td>\n",
       "      <td>207.0</td>\n",
       "      <td>0</td>\n",
       "      <td>Normal</td>\n",
       "      <td>130.0</td>\n",
       "      <td>Y</td>\n",
       "      <td>1.5</td>\n",
       "      <td>Flat</td>\n",
       "      <td>1</td>\n",
       "    </tr>\n",
       "    <tr>\n",
       "      <th>9</th>\n",
       "      <td>48.0</td>\n",
       "      <td>F</td>\n",
       "      <td>ATA</td>\n",
       "      <td>120.000000</td>\n",
       "      <td>284.0</td>\n",
       "      <td>0</td>\n",
       "      <td>Normal</td>\n",
       "      <td>120.0</td>\n",
       "      <td>N</td>\n",
       "      <td>0.0</td>\n",
       "      <td>Up</td>\n",
       "      <td>0</td>\n",
       "    </tr>\n",
       "  </tbody>\n",
       "</table>\n",
       "</div>"
      ],
      "text/plain": [
       "    Age Sex ChestPainType   RestingBP  Cholesterol  FastingBS RestingECG  \\\n",
       "0  40.0   M           ATA  140.000000        289.0          0     Normal   \n",
       "1  49.0   F           NAP  160.000000        180.0          0     Normal   \n",
       "2  54.0   M           ATA  132.370897        283.0          0         ST   \n",
       "3  54.0   F           ASY  132.370897        214.0          0     Normal   \n",
       "4  54.0   M           NAP  132.370897        195.0          0     Normal   \n",
       "5  54.0   M           NAP  132.370897        339.0          0     Normal   \n",
       "6  54.0   F           ATA  130.000000        237.0          0     Normal   \n",
       "7  54.0   M           ATA  110.000000        208.0          0     Normal   \n",
       "8  37.0   M           ASY  140.000000        207.0          0     Normal   \n",
       "9  48.0   F           ATA  120.000000        284.0          0     Normal   \n",
       "\n",
       "   MaxHR ExerciseAngina  Oldpeak ST_Slope  HeartDisease  \n",
       "0  172.0              N      0.0       Up             0  \n",
       "1  156.0              N      1.0     Flat             1  \n",
       "2   98.0              N      0.0       Up             0  \n",
       "3  108.0              Y      1.5     Flat             1  \n",
       "4  138.0              N      0.0       Up             0  \n",
       "5  138.0              N      0.0       Up             0  \n",
       "6  138.0              N      0.0       Up             0  \n",
       "7  138.0              N      0.0       Up             0  \n",
       "8  130.0              Y      1.5     Flat             1  \n",
       "9  120.0              N      0.0       Up             0  "
      ]
     },
     "execution_count": 76,
     "metadata": {},
     "output_type": "execute_result"
    }
   ],
   "source": [
    "dataHeart_onehotEnco.head(10)"
   ]
  },
  {
   "cell_type": "code",
   "execution_count": 77,
   "id": "cbcca354",
   "metadata": {},
   "outputs": [
    {
     "data": {
      "text/html": [
       "<div>\n",
       "<style scoped>\n",
       "    .dataframe tbody tr th:only-of-type {\n",
       "        vertical-align: middle;\n",
       "    }\n",
       "\n",
       "    .dataframe tbody tr th {\n",
       "        vertical-align: top;\n",
       "    }\n",
       "\n",
       "    .dataframe thead th {\n",
       "        text-align: right;\n",
       "    }\n",
       "</style>\n",
       "<table border=\"1\" class=\"dataframe\">\n",
       "  <thead>\n",
       "    <tr style=\"text-align: right;\">\n",
       "      <th></th>\n",
       "      <th>Age</th>\n",
       "      <th>Sex</th>\n",
       "      <th>ChestPainType</th>\n",
       "      <th>RestingBP</th>\n",
       "      <th>Cholesterol</th>\n",
       "      <th>FastingBS</th>\n",
       "      <th>MaxHR</th>\n",
       "      <th>ExerciseAngina</th>\n",
       "      <th>Oldpeak</th>\n",
       "      <th>ST_Slope</th>\n",
       "      <th>HeartDisease</th>\n",
       "      <th>RestingECG_LVH</th>\n",
       "      <th>RestingECG_Normal</th>\n",
       "      <th>RestingECG_ST</th>\n",
       "    </tr>\n",
       "  </thead>\n",
       "  <tbody>\n",
       "    <tr>\n",
       "      <th>0</th>\n",
       "      <td>40.0</td>\n",
       "      <td>M</td>\n",
       "      <td>ATA</td>\n",
       "      <td>140.000000</td>\n",
       "      <td>289.0</td>\n",
       "      <td>0</td>\n",
       "      <td>172.0</td>\n",
       "      <td>N</td>\n",
       "      <td>0.0</td>\n",
       "      <td>Up</td>\n",
       "      <td>0</td>\n",
       "      <td>0</td>\n",
       "      <td>1</td>\n",
       "      <td>0</td>\n",
       "    </tr>\n",
       "    <tr>\n",
       "      <th>1</th>\n",
       "      <td>49.0</td>\n",
       "      <td>F</td>\n",
       "      <td>NAP</td>\n",
       "      <td>160.000000</td>\n",
       "      <td>180.0</td>\n",
       "      <td>0</td>\n",
       "      <td>156.0</td>\n",
       "      <td>N</td>\n",
       "      <td>1.0</td>\n",
       "      <td>Flat</td>\n",
       "      <td>1</td>\n",
       "      <td>0</td>\n",
       "      <td>1</td>\n",
       "      <td>0</td>\n",
       "    </tr>\n",
       "    <tr>\n",
       "      <th>2</th>\n",
       "      <td>54.0</td>\n",
       "      <td>M</td>\n",
       "      <td>ATA</td>\n",
       "      <td>132.370897</td>\n",
       "      <td>283.0</td>\n",
       "      <td>0</td>\n",
       "      <td>98.0</td>\n",
       "      <td>N</td>\n",
       "      <td>0.0</td>\n",
       "      <td>Up</td>\n",
       "      <td>0</td>\n",
       "      <td>0</td>\n",
       "      <td>0</td>\n",
       "      <td>1</td>\n",
       "    </tr>\n",
       "    <tr>\n",
       "      <th>3</th>\n",
       "      <td>54.0</td>\n",
       "      <td>F</td>\n",
       "      <td>ASY</td>\n",
       "      <td>132.370897</td>\n",
       "      <td>214.0</td>\n",
       "      <td>0</td>\n",
       "      <td>108.0</td>\n",
       "      <td>Y</td>\n",
       "      <td>1.5</td>\n",
       "      <td>Flat</td>\n",
       "      <td>1</td>\n",
       "      <td>0</td>\n",
       "      <td>1</td>\n",
       "      <td>0</td>\n",
       "    </tr>\n",
       "    <tr>\n",
       "      <th>4</th>\n",
       "      <td>54.0</td>\n",
       "      <td>M</td>\n",
       "      <td>NAP</td>\n",
       "      <td>132.370897</td>\n",
       "      <td>195.0</td>\n",
       "      <td>0</td>\n",
       "      <td>138.0</td>\n",
       "      <td>N</td>\n",
       "      <td>0.0</td>\n",
       "      <td>Up</td>\n",
       "      <td>0</td>\n",
       "      <td>0</td>\n",
       "      <td>1</td>\n",
       "      <td>0</td>\n",
       "    </tr>\n",
       "    <tr>\n",
       "      <th>5</th>\n",
       "      <td>54.0</td>\n",
       "      <td>M</td>\n",
       "      <td>NAP</td>\n",
       "      <td>132.370897</td>\n",
       "      <td>339.0</td>\n",
       "      <td>0</td>\n",
       "      <td>138.0</td>\n",
       "      <td>N</td>\n",
       "      <td>0.0</td>\n",
       "      <td>Up</td>\n",
       "      <td>0</td>\n",
       "      <td>0</td>\n",
       "      <td>1</td>\n",
       "      <td>0</td>\n",
       "    </tr>\n",
       "    <tr>\n",
       "      <th>6</th>\n",
       "      <td>54.0</td>\n",
       "      <td>F</td>\n",
       "      <td>ATA</td>\n",
       "      <td>130.000000</td>\n",
       "      <td>237.0</td>\n",
       "      <td>0</td>\n",
       "      <td>138.0</td>\n",
       "      <td>N</td>\n",
       "      <td>0.0</td>\n",
       "      <td>Up</td>\n",
       "      <td>0</td>\n",
       "      <td>0</td>\n",
       "      <td>1</td>\n",
       "      <td>0</td>\n",
       "    </tr>\n",
       "    <tr>\n",
       "      <th>7</th>\n",
       "      <td>54.0</td>\n",
       "      <td>M</td>\n",
       "      <td>ATA</td>\n",
       "      <td>110.000000</td>\n",
       "      <td>208.0</td>\n",
       "      <td>0</td>\n",
       "      <td>138.0</td>\n",
       "      <td>N</td>\n",
       "      <td>0.0</td>\n",
       "      <td>Up</td>\n",
       "      <td>0</td>\n",
       "      <td>0</td>\n",
       "      <td>1</td>\n",
       "      <td>0</td>\n",
       "    </tr>\n",
       "    <tr>\n",
       "      <th>8</th>\n",
       "      <td>37.0</td>\n",
       "      <td>M</td>\n",
       "      <td>ASY</td>\n",
       "      <td>140.000000</td>\n",
       "      <td>207.0</td>\n",
       "      <td>0</td>\n",
       "      <td>130.0</td>\n",
       "      <td>Y</td>\n",
       "      <td>1.5</td>\n",
       "      <td>Flat</td>\n",
       "      <td>1</td>\n",
       "      <td>0</td>\n",
       "      <td>1</td>\n",
       "      <td>0</td>\n",
       "    </tr>\n",
       "    <tr>\n",
       "      <th>9</th>\n",
       "      <td>48.0</td>\n",
       "      <td>F</td>\n",
       "      <td>ATA</td>\n",
       "      <td>120.000000</td>\n",
       "      <td>284.0</td>\n",
       "      <td>0</td>\n",
       "      <td>120.0</td>\n",
       "      <td>N</td>\n",
       "      <td>0.0</td>\n",
       "      <td>Up</td>\n",
       "      <td>0</td>\n",
       "      <td>0</td>\n",
       "      <td>1</td>\n",
       "      <td>0</td>\n",
       "    </tr>\n",
       "  </tbody>\n",
       "</table>\n",
       "</div>"
      ],
      "text/plain": [
       "    Age Sex ChestPainType   RestingBP  Cholesterol  FastingBS  MaxHR  \\\n",
       "0  40.0   M           ATA  140.000000        289.0          0  172.0   \n",
       "1  49.0   F           NAP  160.000000        180.0          0  156.0   \n",
       "2  54.0   M           ATA  132.370897        283.0          0   98.0   \n",
       "3  54.0   F           ASY  132.370897        214.0          0  108.0   \n",
       "4  54.0   M           NAP  132.370897        195.0          0  138.0   \n",
       "5  54.0   M           NAP  132.370897        339.0          0  138.0   \n",
       "6  54.0   F           ATA  130.000000        237.0          0  138.0   \n",
       "7  54.0   M           ATA  110.000000        208.0          0  138.0   \n",
       "8  37.0   M           ASY  140.000000        207.0          0  130.0   \n",
       "9  48.0   F           ATA  120.000000        284.0          0  120.0   \n",
       "\n",
       "  ExerciseAngina  Oldpeak ST_Slope  HeartDisease  RestingECG_LVH  \\\n",
       "0              N      0.0       Up             0               0   \n",
       "1              N      1.0     Flat             1               0   \n",
       "2              N      0.0       Up             0               0   \n",
       "3              Y      1.5     Flat             1               0   \n",
       "4              N      0.0       Up             0               0   \n",
       "5              N      0.0       Up             0               0   \n",
       "6              N      0.0       Up             0               0   \n",
       "7              N      0.0       Up             0               0   \n",
       "8              Y      1.5     Flat             1               0   \n",
       "9              N      0.0       Up             0               0   \n",
       "\n",
       "   RestingECG_Normal  RestingECG_ST  \n",
       "0                  1              0  \n",
       "1                  1              0  \n",
       "2                  0              1  \n",
       "3                  1              0  \n",
       "4                  1              0  \n",
       "5                  1              0  \n",
       "6                  1              0  \n",
       "7                  1              0  \n",
       "8                  1              0  \n",
       "9                  1              0  "
      ]
     },
     "execution_count": 77,
     "metadata": {},
     "output_type": "execute_result"
    }
   ],
   "source": [
    "# membuat dataframe baru\n",
    "dataHeart_onehotEnco2 = dataHeart_onehotEnco.copy()\n",
    "\n",
    "# encoding label atribut menjadi biner\n",
    "temp_datasetHeart = pd.get_dummies(dataHeart_onehotEnco2[['RestingECG']])\n",
    "\n",
    "# format kembali dataset ke dataFrame\n",
    "temp_datasetHeart = pd.DataFrame(temp_datasetHeart)\n",
    "\n",
    "# hilangkan label atribut sebelumnya\n",
    "dataHeart_onehotEnco2.drop('RestingECG', axis=1, inplace=True)\n",
    "\n",
    "# tambahkan label atribut baru\n",
    "dataHeart_onehotEnco2 = dataHeart_onehotEnco2.join(temp_datasetHeart)\n",
    "\n",
    "# tampilkan nilai/record dataset\n",
    "dataHeart_onehotEnco2.head(10)"
   ]
  }
 ],
 "metadata": {
  "kernelspec": {
   "display_name": "Python 3 (ipykernel)",
   "language": "python",
   "name": "python3"
  },
  "language_info": {
   "codemirror_mode": {
    "name": "ipython",
    "version": 3
   },
   "file_extension": ".py",
   "mimetype": "text/x-python",
   "name": "python",
   "nbconvert_exporter": "python",
   "pygments_lexer": "ipython3",
   "version": "3.10.7"
  }
 },
 "nbformat": 4,
 "nbformat_minor": 5
}
