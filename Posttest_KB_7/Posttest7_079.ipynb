{
 "cells": [
  {
   "cell_type": "markdown",
   "id": "1e338e94",
   "metadata": {},
   "source": [
    "# POSTTEST 7 KECERDASAN BUATAN"
   ]
  },
  {
   "cell_type": "markdown",
   "id": "3a8c4f51",
   "metadata": {},
   "source": [
    "<ul>\n",
    "    <li> Nama : Denissa Putri Maha Rani\n",
    "    <li> NIM  : 2009106079\n",
    "</ul>"
   ]
  },
  {
   "cell_type": "markdown",
   "id": "bad62364",
   "metadata": {},
   "source": [
    "### Tensor flow"
   ]
  },
  {
   "cell_type": "markdown",
   "id": "3f72a1c1",
   "metadata": {},
   "source": [
    "TensorFlow merupakan library open-source yang digunakan untuk Machine Learning dan Tensor diklasifikasikan menjadi 2 => Constant Tensor dan Variable Tensor"
   ]
  },
  {
   "cell_type": "markdown",
   "id": "901bfa6a",
   "metadata": {},
   "source": [
    "#### Constant Tensor "
   ]
  },
  {
   "cell_type": "markdown",
   "id": "6c9b8b5f",
   "metadata": {},
   "source": [
    "<ul>\n",
    "    <li> tf.constant()\n",
    "    <li> tf.zeros()\n",
    "    <li> tf.fill()\n",
    "    <li> tf.random()\n",
    "    <li> tf.using_to_tensor()\n",
    "<ul>"
   ]
  },
  {
   "cell_type": "markdown",
   "id": "b63419bf",
   "metadata": {},
   "source": [
    "#### Variabel Tensor"
   ]
  },
  {
   "cell_type": "markdown",
   "id": "e7cf9508",
   "metadata": {},
   "source": [
    "<li> tf.variable()"
   ]
  },
  {
   "cell_type": "markdown",
   "id": "d2bcfebf",
   "metadata": {},
   "source": [
    "#### Dimension Display"
   ]
  },
  {
   "cell_type": "markdown",
   "id": "8c6589ce",
   "metadata": {},
   "source": [
    "<li> tf.shape(), tf.get_shape()\n",
    "<li> tf.reshape()\n",
    "<li> tf.expand_dims()\n",
    "<li> tf.squeeze()\n",
    "<li> tf.transpose()\n",
    "<li> tf.broadcast_to()"
   ]
  },
  {
   "cell_type": "markdown",
   "id": "071bc8c7",
   "metadata": {},
   "source": [
    "#### Arithmetic Operators"
   ]
  },
  {
   "cell_type": "markdown",
   "id": "fa95c037",
   "metadata": {},
   "source": [
    "<li> tf.add()     : penjumlahan\n",
    "<li> tf.subtract() : pengurangan\n",
    "<li> tf.multiply() : perkalian\n",
    "<li> tf.divide()   : pembagian\n",
    "<li> tf.math.log() :logaritma\n",
    "<li> tf.pow : pangkat"
   ]
  },
  {
   "cell_type": "markdown",
   "id": "e40403b5",
   "metadata": {},
   "source": [
    "#### Tensor statistic collection"
   ]
  },
  {
   "cell_type": "markdown",
   "id": "7446536a",
   "metadata": {},
   "source": [
    "<li> tf.argmax() : untuk mengalkulasi posisi nilai maksimum\n",
    "<li> tf.argmin() : untuk mengalkulasi posisi nilai minimum"
   ]
  },
  {
   "cell_type": "markdown",
   "id": "7583116e",
   "metadata": {},
   "source": [
    "#### Tensor concatenation"
   ]
  },
  {
   "cell_type": "markdown",
   "id": "7f8b043a",
   "metadata": {},
   "source": [
    "<li> untuk menggabungkan vektor berdasarkan dimensi yang telah ditentukan dengan tetap menjaga agar dimensi lain tidak berubah <br>\n",
    "<li> tf.concat()"
   ]
  },
  {
   "cell_type": "code",
   "execution_count": 123,
   "id": "39e45903",
   "metadata": {},
   "outputs": [],
   "source": [
    "#import library \n",
    "import tensorflow as tf"
   ]
  },
  {
   "cell_type": "markdown",
   "id": "790974c6",
   "metadata": {},
   "source": [
    "#### Membuat tensor dengan shape(5,5) dengan nilai random yang disimpan dalam variable random_tensor"
   ]
  },
  {
   "cell_type": "code",
   "execution_count": 62,
   "id": "3a9a69c2",
   "metadata": {},
   "outputs": [
    {
     "data": {
      "text/plain": [
       "array([[-0.8559895 ,  0.93666625,  0.55710965,  0.07463042, -1.6017824 ],\n",
       "       [ 0.8832085 , -1.6398144 ,  2.1169775 ,  0.48650688,  0.8811853 ],\n",
       "       [ 1.1792054 ,  0.31829008, -0.30523288, -0.5744346 ,  1.6413461 ],\n",
       "       [ 0.18569663, -1.4471521 ,  0.32309735, -0.1825322 , -1.2932976 ],\n",
       "       [-1.113902  , -1.0944788 ,  0.01676212,  0.42491904,  0.93900865]],\n",
       "      dtype=float32)"
      ]
     },
     "execution_count": 62,
     "metadata": {},
     "output_type": "execute_result"
    }
   ],
   "source": [
    "#membuat tensor dengan nilai acak/random \n",
    "random_tensor = tf.random.normal([5,5], mean=0, stddev=1, seed=1 )\n",
    "random_tensor.numpy()"
   ]
  },
  {
   "cell_type": "markdown",
   "id": "e9920996",
   "metadata": {},
   "source": [
    "#### Membuat tensor dengan shape(5,5) dari sebuah list dengan nilai bilangan prima dalam variable prime_tensor"
   ]
  },
  {
   "cell_type": "code",
   "execution_count": 63,
   "id": "953ffc48",
   "metadata": {},
   "outputs": [
    {
     "data": {
      "text/plain": [
       "<tf.Tensor: shape=(5, 5), dtype=float32, numpy=\n",
       "array([[ 2.,  3.,  5.,  7., 11.],\n",
       "       [13., 17., 19., 23., 29.],\n",
       "       [31., 37., 41., 43., 47.],\n",
       "       [53., 59., 61., 67., 71.],\n",
       "       [73., 79., 83., 89., 97.]], dtype=float32)>"
      ]
     },
     "execution_count": 63,
     "metadata": {},
     "output_type": "execute_result"
    }
   ],
   "source": [
    "#membuat list bil.prima\n",
    "bil_prima = [[2,3,5,7,11],[13,17,19,23,29],[31,37,41,43,47],[53, 59, 61, 67, 71],[73, 79, 83, 89, 97]]\n",
    "\n",
    "#membuat tensor dari list bil.prima\n",
    "prime_tensor = tf.convert_to_tensor(bil_prima, dtype=tf.float32)\n",
    "prime_tensor"
   ]
  },
  {
   "cell_type": "markdown",
   "id": "0a6e2f3d",
   "metadata": {},
   "source": [
    "#### Tampilkan dimensi dari kedua variable tersebut"
   ]
  },
  {
   "cell_type": "code",
   "execution_count": 65,
   "id": "813a9fc2",
   "metadata": {},
   "outputs": [
    {
     "name": "stdout",
     "output_type": "stream",
     "text": [
      "Dimensi random_tensor : (5, 5)\n",
      "Dimensi prime_tensor  : (5, 5)\n"
     ]
    }
   ],
   "source": [
    "#dimensi random_tensor\n",
    "random_tensor.get_shape()\n",
    "\n",
    "#dimensi prime_tensor\n",
    "prime_tensor.get_shape()\n",
    "\n",
    "print(f'Dimensi random_tensor : {random_tensor.get_shape()}',\n",
    "      f'Dimensi prime_tensor  : {prime_tensor.get_shape()}',\n",
    "      sep='\\n')"
   ]
  },
  {
   "cell_type": "markdown",
   "id": "0551eba7",
   "metadata": {},
   "source": [
    "#### Tampilkan hasil dari perhitungan aritmetika 2 variable tersebut (Gunakan minimal 5 operator)"
   ]
  },
  {
   "cell_type": "code",
   "execution_count": 113,
   "id": "0f8f1c80",
   "metadata": {},
   "outputs": [
    {
     "name": "stdout",
     "output_type": "stream",
     "text": [
      "Hasil penjumlahan :\n"
     ]
    },
    {
     "data": {
      "text/plain": [
       "array([[ 1.1440105,  3.9366663,  5.55711  ,  7.0746303,  9.398217 ],\n",
       "       [13.883208 , 15.360186 , 21.116978 , 23.486507 , 29.881186 ],\n",
       "       [32.179207 , 37.31829  , 40.694767 , 42.425564 , 48.641346 ],\n",
       "       [53.185696 , 57.55285  , 61.323097 , 66.81747  , 69.7067   ],\n",
       "       [71.8861   , 77.90552  , 83.01676  , 89.42492  , 97.93901  ]],\n",
       "      dtype=float32)"
      ]
     },
     "execution_count": 113,
     "metadata": {},
     "output_type": "execute_result"
    }
   ],
   "source": [
    "#penjumlahan\n",
    "print(f'Hasil penjumlahan :')\n",
    "tf.add(random_tensor, prime_tensor).numpy()"
   ]
  },
  {
   "cell_type": "code",
   "execution_count": 115,
   "id": "d677c59a",
   "metadata": {},
   "outputs": [
    {
     "name": "stdout",
     "output_type": "stream",
     "text": [
      "Hasil pengurangan :\n"
     ]
    },
    {
     "data": {
      "text/plain": [
       "array([[ -2.8559895,  -2.0633337,  -4.44289  ,  -6.9253697, -12.601783 ],\n",
       "       [-12.116792 , -18.639814 , -16.883022 , -22.513493 , -28.118814 ],\n",
       "       [-29.820795 , -36.68171  , -41.305233 , -43.574436 , -45.358654 ],\n",
       "       [-52.814304 , -60.44715  , -60.676903 , -67.18253  , -72.2933   ],\n",
       "       [-74.1139   , -80.09448  , -82.98324  , -88.57508  , -96.06099  ]],\n",
       "      dtype=float32)"
      ]
     },
     "execution_count": 115,
     "metadata": {},
     "output_type": "execute_result"
    }
   ],
   "source": [
    "#pengurangan\n",
    "print(f'Hasil pengurangan :')\n",
    "tf.subtract(random_tensor, prime_tensor).numpy()"
   ]
  },
  {
   "cell_type": "code",
   "execution_count": 117,
   "id": "311cb847",
   "metadata": {},
   "outputs": [
    {
     "name": "stdout",
     "output_type": "stream",
     "text": [
      "Hasil perkalian :\n"
     ]
    },
    {
     "data": {
      "text/plain": [
       "array([[ -1.711979 ,   2.8099988,   2.7855482,   0.5224129, -17.619606 ],\n",
       "       [ 11.48171  , -27.876844 ,  40.222572 ,  11.189658 ,  25.554373 ],\n",
       "       [ 36.555367 ,  11.776733 , -12.514548 , -24.700687 ,  77.143265 ],\n",
       "       [  9.841922 , -85.38197  ,  19.708939 , -12.229658 , -91.824135 ],\n",
       "       [-81.31484  , -86.46383  ,   1.3912559,  37.817795 ,  91.08384  ]],\n",
       "      dtype=float32)"
      ]
     },
     "execution_count": 117,
     "metadata": {},
     "output_type": "execute_result"
    }
   ],
   "source": [
    "#perkalian\n",
    "print(f'Hasil perkalian :')\n",
    "tf.multiply(random_tensor, prime_tensor).numpy()"
   ]
  },
  {
   "cell_type": "code",
   "execution_count": 118,
   "id": "b3ef2597",
   "metadata": {},
   "outputs": [
    {
     "name": "stdout",
     "output_type": "stream",
     "text": [
      "Hasil pembagian : \n"
     ]
    },
    {
     "data": {
      "text/plain": [
       "array([[-4.27994758e-01,  3.12222093e-01,  1.11421928e-01,\n",
       "         1.06614884e-02, -1.45616591e-01],\n",
       "       [ 6.79391176e-02, -9.64596719e-02,  1.11419864e-01,\n",
       "         2.11524721e-02,  3.03856991e-02],\n",
       "       [ 3.80388834e-02,  8.60243477e-03, -7.44470442e-03,\n",
       "        -1.33589441e-02,  3.49222571e-02],\n",
       "       [ 3.50371003e-03, -2.45280024e-02,  5.29667782e-03,\n",
       "        -2.72436137e-03, -1.82154607e-02],\n",
       "       [-1.52589316e-02, -1.38541628e-02,  2.01953240e-04,\n",
       "         4.77437116e-03,  9.68050119e-03]], dtype=float32)"
      ]
     },
     "execution_count": 118,
     "metadata": {},
     "output_type": "execute_result"
    }
   ],
   "source": [
    "#pembagian\n",
    "print(f'Hasil pembagian : ')\n",
    "tf.divide(random_tensor, prime_tensor).numpy()"
   ]
  },
  {
   "cell_type": "code",
   "execution_count": 119,
   "id": "82b2e119",
   "metadata": {},
   "outputs": [
    {
     "name": "stdout",
     "output_type": "stream",
     "text": [
      "Hasil pangkat : \n"
     ]
    },
    {
     "data": {
      "text/plain": [
       "array([[ 7.3271805e-01,  8.2177818e-01,  5.3666517e-02,  1.2894695e-08,\n",
       "        -1.7808971e+02],\n",
       "       [ 1.9898586e-01, -4.4823911e+03,  1.5438618e+06,  6.3539922e-08,\n",
       "         2.5524072e-02],\n",
       "       [ 1.6568127e+02,  4.0221202e-19, -7.4111233e-22, -4.4396088e-11,\n",
       "         1.3013912e+10],\n",
       "       [ 0.0000000e+00, -2.9535017e+09,  1.1731054e-30, -0.0000000e+00,\n",
       "        -8.5230032e+07],\n",
       "       [-2.6292327e+03, -1.2513604e+03,  0.0000000e+00,  8.3033045e-34,\n",
       "         2.2333185e-03]], dtype=float32)"
      ]
     },
     "execution_count": 119,
     "metadata": {},
     "output_type": "execute_result"
    }
   ],
   "source": [
    "#pangkat\n",
    "print(f'Hasil pangkat : ')\n",
    "tf.pow(random_tensor, prime_tensor).numpy()"
   ]
  },
  {
   "cell_type": "markdown",
   "id": "657d2eb6",
   "metadata": {},
   "source": [
    "#### Tampilkan nilai maksimal dan minimal dari variable random_tensor"
   ]
  },
  {
   "cell_type": "markdown",
   "id": "d043244d",
   "metadata": {},
   "source": [
    "untuk menampilkan nilai maksimum atau minimum digunakan argmax() dan argmin()\n",
    "<li> tf.argmax() : untuk mengalkulasi posisi nilai maksimum\n",
    "<li> tf.argmin() : untuk mengalkulasi posisi nilai minimum"
   ]
  },
  {
   "cell_type": "code",
   "execution_count": 90,
   "id": "3bfd0851",
   "metadata": {},
   "outputs": [
    {
     "data": {
      "text/plain": [
       "array([[-0.8559895 ,  0.93666625,  0.55710965,  0.07463042, -1.6017824 ],\n",
       "       [ 0.8832085 , -1.6398144 ,  2.1169775 ,  0.48650688,  0.8811853 ],\n",
       "       [ 1.1792054 ,  0.31829008, -0.30523288, -0.5744346 ,  1.6413461 ],\n",
       "       [ 0.18569663, -1.4471521 ,  0.32309735, -0.1825322 , -1.2932976 ],\n",
       "       [-1.113902  , -1.0944788 ,  0.01676212,  0.42491904,  0.93900865]],\n",
       "      dtype=float32)"
      ]
     },
     "execution_count": 90,
     "metadata": {},
     "output_type": "execute_result"
    }
   ],
   "source": [
    "#tampilkan variabel random_tensor\n",
    "random_tensor.numpy()"
   ]
  },
  {
   "cell_type": "code",
   "execution_count": 108,
   "id": "74c902d0",
   "metadata": {},
   "outputs": [
    {
     "data": {
      "text/plain": [
       "array([1, 2, 4, 2, 4], dtype=int64)"
      ]
     },
     "execution_count": 108,
     "metadata": {},
     "output_type": "execute_result"
    }
   ],
   "source": [
    "#nilai maksimal random_tensor dengan argmax()\n",
    "tf.argmax(random_tensor, axis=1).numpy() #axis=1 untuk baris"
   ]
  },
  {
   "cell_type": "code",
   "execution_count": 109,
   "id": "64759642",
   "metadata": {},
   "outputs": [
    {
     "data": {
      "text/plain": [
       "array([4, 1, 2, 2, 0], dtype=int64)"
      ]
     },
     "execution_count": 109,
     "metadata": {},
     "output_type": "execute_result"
    }
   ],
   "source": [
    "#nilai minimum ranom_tensor dengan argmin()\n",
    "tf.argmin(random_tensor, axis=0).numpy() #axis=0 untuk kolom"
   ]
  },
  {
   "cell_type": "markdown",
   "id": "0c379526",
   "metadata": {},
   "source": [
    "#### Tampilkan hasil dari penggabungan variable random_tensor dengan prime_tensor (concatenation)"
   ]
  },
  {
   "cell_type": "code",
   "execution_count": 122,
   "id": "51c91561",
   "metadata": {},
   "outputs": [
    {
     "data": {
      "text/plain": [
       "array([[-8.5598952e-01,  9.3666625e-01,  5.5710965e-01,  7.4630417e-02,\n",
       "        -1.6017824e+00],\n",
       "       [ 8.8320851e-01, -1.6398144e+00,  2.1169775e+00,  4.8650688e-01,\n",
       "         8.8118529e-01],\n",
       "       [ 1.1792054e+00,  3.1829008e-01, -3.0523288e-01, -5.7443458e-01,\n",
       "         1.6413461e+00],\n",
       "       [ 1.8569663e-01, -1.4471521e+00,  3.2309735e-01, -1.8253221e-01,\n",
       "        -1.2932976e+00],\n",
       "       [-1.1139020e+00, -1.0944788e+00,  1.6762119e-02,  4.2491904e-01,\n",
       "         9.3900865e-01],\n",
       "       [ 2.0000000e+00,  3.0000000e+00,  5.0000000e+00,  7.0000000e+00,\n",
       "         1.1000000e+01],\n",
       "       [ 1.3000000e+01,  1.7000000e+01,  1.9000000e+01,  2.3000000e+01,\n",
       "         2.9000000e+01],\n",
       "       [ 3.1000000e+01,  3.7000000e+01,  4.1000000e+01,  4.3000000e+01,\n",
       "         4.7000000e+01],\n",
       "       [ 5.3000000e+01,  5.9000000e+01,  6.1000000e+01,  6.7000000e+01,\n",
       "         7.1000000e+01],\n",
       "       [ 7.3000000e+01,  7.9000000e+01,  8.3000000e+01,  8.9000000e+01,\n",
       "         9.7000000e+01]], dtype=float32)"
      ]
     },
     "execution_count": 122,
     "metadata": {},
     "output_type": "execute_result"
    }
   ],
   "source": [
    "#menggabungkan 2 variabel dengan tf.concat()\n",
    "tensor_gabung = tf.concat([random_tensor, prime_tensor], axis=0)\n",
    "tensor_gabung.numpy()"
   ]
  },
  {
   "cell_type": "markdown",
   "id": "5391d1a1",
   "metadata": {},
   "source": [
    "#### Tampilkan hasil sorting dari kedua variable di atas (descending)"
   ]
  },
  {
   "cell_type": "code",
   "execution_count": 105,
   "id": "f8cd2e74",
   "metadata": {},
   "outputs": [
    {
     "data": {
      "text/plain": [
       "array([[ 0.93666625,  0.55710965,  0.07463042, -0.8559895 , -1.6017824 ],\n",
       "       [ 2.1169775 ,  0.8832085 ,  0.8811853 ,  0.48650688, -1.6398144 ],\n",
       "       [ 1.6413461 ,  1.1792054 ,  0.31829008, -0.30523288, -0.5744346 ],\n",
       "       [ 0.32309735,  0.18569663, -0.1825322 , -1.2932976 , -1.4471521 ],\n",
       "       [ 0.93900865,  0.42491904,  0.01676212, -1.0944788 , -1.113902  ]],\n",
       "      dtype=float32)"
      ]
     },
     "execution_count": 105,
     "metadata": {},
     "output_type": "execute_result"
    }
   ],
   "source": [
    "#mengurutkan variabel random_tensor secara descending\n",
    "tf.sort(random_tensor, direction=\"DESCENDING\").numpy()"
   ]
  },
  {
   "cell_type": "code",
   "execution_count": 107,
   "id": "5c02d25f",
   "metadata": {},
   "outputs": [
    {
     "data": {
      "text/plain": [
       "array([[11.,  7.,  5.,  3.,  2.],\n",
       "       [29., 23., 19., 17., 13.],\n",
       "       [47., 43., 41., 37., 31.],\n",
       "       [71., 67., 61., 59., 53.],\n",
       "       [97., 89., 83., 79., 73.]], dtype=float32)"
      ]
     },
     "execution_count": 107,
     "metadata": {},
     "output_type": "execute_result"
    }
   ],
   "source": [
    "#mengurutkan variabel prime_tensor secara descending\n",
    "tf.sort(prime_tensor, direction=\"DESCENDING\").numpy()"
   ]
  }
 ],
 "metadata": {
  "kernelspec": {
   "display_name": "Python 3 (ipykernel)",
   "language": "python",
   "name": "python3"
  },
  "language_info": {
   "codemirror_mode": {
    "name": "ipython",
    "version": 3
   },
   "file_extension": ".py",
   "mimetype": "text/x-python",
   "name": "python",
   "nbconvert_exporter": "python",
   "pygments_lexer": "ipython3",
   "version": "3.10.7"
  }
 },
 "nbformat": 4,
 "nbformat_minor": 5
}
