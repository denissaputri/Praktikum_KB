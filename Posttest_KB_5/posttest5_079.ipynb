{
 "cells": [
  {
   "cell_type": "markdown",
   "metadata": {},
   "source": [
    "# POSTTEST 5 KECERDASAN BUATAN"
   ]
  },
  {
   "cell_type": "markdown",
   "metadata": {},
   "source": [
    "<li> Nama : Denissa Putri Maha Rani<br>\n",
    "<li> NIM  : 2009106079 <br>\n",
    "<li> dataset : <a href='https://www.kaggle.com/datasets/fedesoriano/heart-failure-prediction'> Heart Failure Prediction "
   ]
  },
  {
   "cell_type": "code",
   "execution_count": 42,
   "metadata": {},
   "outputs": [],
   "source": [
    "#import packages \n",
    "import pandas as pd\n",
    "import numpy as np\n",
    "from sklearn.model_selection import train_test_split\n",
    "from sklearn.metrics import mean_squared_error, r2_score\n",
    "from sklearn.metrics import accuracy_score"
   ]
  },
  {
   "cell_type": "markdown",
   "metadata": {},
   "source": [
    "## Supervised learning"
   ]
  },
  {
   "cell_type": "markdown",
   "metadata": {},
   "source": [
    "salah satu pendekatan dalam Machine Learning dimana komputer membuat algoritma atau peraturan berdasarkan data yang\n",
    "diberikan."
   ]
  },
  {
   "cell_type": "markdown",
   "metadata": {},
   "source": [
    "### Jenis supervised  learning"
   ]
  },
  {
   "cell_type": "markdown",
   "metadata": {},
   "source": [
    "<ol>\n",
    "<li> Classification <br>\n",
    "    Classification digunakan ketika variabel keluaran (output) adalah categorical. <br>\n",
    "<li> Regression  <br>\n",
    "    Regression digunakan ketika variabel keluaran (output) bernilai real atau kontinyu. <br>\n",
    "</ol>"
   ]
  },
  {
   "cell_type": "markdown",
   "metadata": {},
   "source": [
    "### Algoritma Supervised learning"
   ]
  },
  {
   "cell_type": "markdown",
   "metadata": {},
   "source": [
    "<ol>\n",
    "<li> K-Nearest Neighbour(KNN) <br>\n",
    "    K-Nearest Neighbour atau algoritma KNN menggunakan algoritma non-parametrik yang mengelompokkan poin data berdasarkan kedekatan dan juga asosiasi mereka dengan data lain. <br>\n",
    "<li> Decision Tree  <br>\n",
    "    Decision Tree dapat digunakan untuk menyelesaikan masalah klasifikasi dan regresi, namun lebih sering digunakan untuk masalah klasifikasi. <br>\n",
    "<li> Decision Tree  <br>\n",
    "    Algoritma supervised learning yang satu ini biasanya digunakan dalam identifikasi hubungan antara variabel dependen dengan satu (atau lebih) variabel independen. <br>\n",
    "<li> Naive Bayes  <br>\n",
    "    mengadopsi prinsip kemandirian kelas bersyarat dari Teorema Bayes. Dalam prinsip tersebut, ada tidaknya satu elemen tidak akan memengaruhi komponen lain dalam probabilitas hasil yang akan diberikan, dengan predictor yang mendapatkan efek yang sama. <br>\n",
    "<li> Support Vector Machine (SVM)  <br>\n",
    "    Metode Support Vector Machine sering dimanfaatkan dalam masalah klasifikasi serta pembangunan hyperplane atau batas keputusan yang memisahkan kelas-kelas titik data. <br>\n",
    "</ol>"
   ]
  },
  {
   "cell_type": "markdown",
   "metadata": {},
   "source": [
    "###  Algoritma KNN"
   ]
  },
  {
   "cell_type": "markdown",
   "metadata": {},
   "source": [
    "KNN bekerja berdasarkan prinsip bahwa setiap titik data yang berdekatan satu sama lain akan berada di kelas yang sama. Dengan kata lain, KNN mengklasifikasikan titik data baru berdasarkan kemiripan. "
   ]
  },
  {
   "cell_type": "code",
   "execution_count": 43,
   "metadata": {},
   "outputs": [],
   "source": [
    "#import packages \n",
    "from sklearn.neighbors import KNeighborsClassifier"
   ]
  },
  {
   "cell_type": "markdown",
   "metadata": {},
   "source": [
    "#### Split data : bagi data menjadi data training dan data testing"
   ]
  },
  {
   "cell_type": "code",
   "execution_count": 44,
   "metadata": {},
   "outputs": [
    {
     "data": {
      "text/html": [
       "<div>\n",
       "<style scoped>\n",
       "    .dataframe tbody tr th:only-of-type {\n",
       "        vertical-align: middle;\n",
       "    }\n",
       "\n",
       "    .dataframe tbody tr th {\n",
       "        vertical-align: top;\n",
       "    }\n",
       "\n",
       "    .dataframe thead th {\n",
       "        text-align: right;\n",
       "    }\n",
       "</style>\n",
       "<table border=\"1\" class=\"dataframe\">\n",
       "  <thead>\n",
       "    <tr style=\"text-align: right;\">\n",
       "      <th></th>\n",
       "      <th>Age</th>\n",
       "      <th>Sex</th>\n",
       "      <th>ChestPainType</th>\n",
       "      <th>RestingBP</th>\n",
       "      <th>Cholesterol</th>\n",
       "      <th>FastingBS</th>\n",
       "      <th>RestingECG</th>\n",
       "      <th>MaxHR</th>\n",
       "      <th>ExerciseAngina</th>\n",
       "      <th>Oldpeak</th>\n",
       "      <th>ST_Slope</th>\n",
       "      <th>HeartDisease</th>\n",
       "    </tr>\n",
       "  </thead>\n",
       "  <tbody>\n",
       "    <tr>\n",
       "      <th>0</th>\n",
       "      <td>40.0</td>\n",
       "      <td>M</td>\n",
       "      <td>ATA</td>\n",
       "      <td>140.000000</td>\n",
       "      <td>289.0</td>\n",
       "      <td>0</td>\n",
       "      <td>Normal</td>\n",
       "      <td>172.0</td>\n",
       "      <td>N</td>\n",
       "      <td>0.0</td>\n",
       "      <td>Up</td>\n",
       "      <td>0</td>\n",
       "    </tr>\n",
       "    <tr>\n",
       "      <th>1</th>\n",
       "      <td>49.0</td>\n",
       "      <td>F</td>\n",
       "      <td>NAP</td>\n",
       "      <td>160.000000</td>\n",
       "      <td>180.0</td>\n",
       "      <td>0</td>\n",
       "      <td>Normal</td>\n",
       "      <td>156.0</td>\n",
       "      <td>N</td>\n",
       "      <td>1.0</td>\n",
       "      <td>Flat</td>\n",
       "      <td>1</td>\n",
       "    </tr>\n",
       "    <tr>\n",
       "      <th>2</th>\n",
       "      <td>54.0</td>\n",
       "      <td>M</td>\n",
       "      <td>ATA</td>\n",
       "      <td>132.370897</td>\n",
       "      <td>283.0</td>\n",
       "      <td>0</td>\n",
       "      <td>ST</td>\n",
       "      <td>98.0</td>\n",
       "      <td>N</td>\n",
       "      <td>0.0</td>\n",
       "      <td>Up</td>\n",
       "      <td>0</td>\n",
       "    </tr>\n",
       "    <tr>\n",
       "      <th>3</th>\n",
       "      <td>54.0</td>\n",
       "      <td>F</td>\n",
       "      <td>ASY</td>\n",
       "      <td>132.370897</td>\n",
       "      <td>214.0</td>\n",
       "      <td>0</td>\n",
       "      <td>Normal</td>\n",
       "      <td>108.0</td>\n",
       "      <td>Y</td>\n",
       "      <td>1.5</td>\n",
       "      <td>Flat</td>\n",
       "      <td>1</td>\n",
       "    </tr>\n",
       "    <tr>\n",
       "      <th>4</th>\n",
       "      <td>54.0</td>\n",
       "      <td>M</td>\n",
       "      <td>NAP</td>\n",
       "      <td>132.370897</td>\n",
       "      <td>195.0</td>\n",
       "      <td>0</td>\n",
       "      <td>Normal</td>\n",
       "      <td>138.0</td>\n",
       "      <td>N</td>\n",
       "      <td>0.0</td>\n",
       "      <td>Up</td>\n",
       "      <td>0</td>\n",
       "    </tr>\n",
       "  </tbody>\n",
       "</table>\n",
       "</div>"
      ],
      "text/plain": [
       "    Age Sex ChestPainType   RestingBP  Cholesterol  FastingBS RestingECG  \\\n",
       "0  40.0   M           ATA  140.000000        289.0          0     Normal   \n",
       "1  49.0   F           NAP  160.000000        180.0          0     Normal   \n",
       "2  54.0   M           ATA  132.370897        283.0          0         ST   \n",
       "3  54.0   F           ASY  132.370897        214.0          0     Normal   \n",
       "4  54.0   M           NAP  132.370897        195.0          0     Normal   \n",
       "\n",
       "   MaxHR ExerciseAngina  Oldpeak ST_Slope  HeartDisease  \n",
       "0  172.0              N      0.0       Up             0  \n",
       "1  156.0              N      1.0     Flat             1  \n",
       "2   98.0              N      0.0       Up             0  \n",
       "3  108.0              Y      1.5     Flat             1  \n",
       "4  138.0              N      0.0       Up             0  "
      ]
     },
     "execution_count": 44,
     "metadata": {},
     "output_type": "execute_result"
    }
   ],
   "source": [
    "#panggil dan tampilkan dataset heart_baru.csv\n",
    "dataset_Heart = pd.read_csv('heart_baru.csv')\n",
    "dataset_Heart.head()"
   ]
  },
  {
   "cell_type": "code",
   "execution_count": 45,
   "metadata": {},
   "outputs": [
    {
     "name": "stdout",
     "output_type": "stream",
     "text": [
      "<class 'pandas.core.frame.DataFrame'>\n",
      "RangeIndex: 918 entries, 0 to 917\n",
      "Data columns (total 12 columns):\n",
      " #   Column          Non-Null Count  Dtype  \n",
      "---  ------          --------------  -----  \n",
      " 0   Age             918 non-null    float64\n",
      " 1   Sex             918 non-null    object \n",
      " 2   ChestPainType   918 non-null    object \n",
      " 3   RestingBP       918 non-null    float64\n",
      " 4   Cholesterol     918 non-null    float64\n",
      " 5   FastingBS       918 non-null    int64  \n",
      " 6   RestingECG      918 non-null    object \n",
      " 7   MaxHR           918 non-null    float64\n",
      " 8   ExerciseAngina  918 non-null    object \n",
      " 9   Oldpeak         918 non-null    float64\n",
      " 10  ST_Slope        918 non-null    object \n",
      " 11  HeartDisease    918 non-null    int64  \n",
      "dtypes: float64(5), int64(2), object(5)\n",
      "memory usage: 86.2+ KB\n"
     ]
    }
   ],
   "source": [
    "#lihat tipe data atribut dataset  \n",
    "dataset_Heart.info()"
   ]
  },
  {
   "cell_type": "code",
   "execution_count": 46,
   "metadata": {},
   "outputs": [],
   "source": [
    "#datasplit dengan fungsi dari sklearn\n",
    "X  = dataset_Heart[['Age','RestingBP','Cholesterol','FastingBS','MaxHR', 'Oldpeak', 'HeartDisease']]\n",
    "Y  = dataset_Heart[['RestingECG']]"
   ]
  },
  {
   "cell_type": "code",
   "execution_count": 47,
   "metadata": {},
   "outputs": [],
   "source": [
    "# membagi data testing sebanyak 20%\n",
    "x_train, x_test, y_train, y_test = train_test_split(X, Y, test_size=.2)\n"
   ]
  },
  {
   "cell_type": "code",
   "execution_count": 80,
   "metadata": {},
   "outputs": [
    {
     "name": "stdout",
     "output_type": "stream",
     "text": [
      "panjang data train    : 734 baris\n",
      "panjang label train   : 734 baris\n",
      "panjang data testing  : 184 baris\n",
      "panjang label testing : 184 baris\n",
      "panjang total dataset Heart : 918 baris\n"
     ]
    }
   ],
   "source": [
    "#menampilkan hasil splitting data\n",
    "print(f'panjang data train    : {len(x_train)} baris',\n",
    "      f'panjang label train   : {len(y_train)} baris',\n",
    "      f'panjang data testing  : {len(x_test)} baris',\n",
    "      f'panjang label testing : {len(y_test)} baris',\n",
    "      f'panjang total dataset Heart : {len(dataset_Heart)} baris',\n",
    "      sep='\\n')"
   ]
  },
  {
   "cell_type": "code",
   "execution_count": 81,
   "metadata": {},
   "outputs": [],
   "source": [
    "#memanggil fungsi klasifikasi untuk algoritma KNN\n",
    "knn_algorit = KNeighborsClassifier(n_neighbors=5)"
   ]
  },
  {
   "cell_type": "code",
   "execution_count": 82,
   "metadata": {},
   "outputs": [
    {
     "data": {
      "text/html": [
       "<style>#sk-container-id-5 {color: black;background-color: white;}#sk-container-id-5 pre{padding: 0;}#sk-container-id-5 div.sk-toggleable {background-color: white;}#sk-container-id-5 label.sk-toggleable__label {cursor: pointer;display: block;width: 100%;margin-bottom: 0;padding: 0.3em;box-sizing: border-box;text-align: center;}#sk-container-id-5 label.sk-toggleable__label-arrow:before {content: \"▸\";float: left;margin-right: 0.25em;color: #696969;}#sk-container-id-5 label.sk-toggleable__label-arrow:hover:before {color: black;}#sk-container-id-5 div.sk-estimator:hover label.sk-toggleable__label-arrow:before {color: black;}#sk-container-id-5 div.sk-toggleable__content {max-height: 0;max-width: 0;overflow: hidden;text-align: left;background-color: #f0f8ff;}#sk-container-id-5 div.sk-toggleable__content pre {margin: 0.2em;color: black;border-radius: 0.25em;background-color: #f0f8ff;}#sk-container-id-5 input.sk-toggleable__control:checked~div.sk-toggleable__content {max-height: 200px;max-width: 100%;overflow: auto;}#sk-container-id-5 input.sk-toggleable__control:checked~label.sk-toggleable__label-arrow:before {content: \"▾\";}#sk-container-id-5 div.sk-estimator input.sk-toggleable__control:checked~label.sk-toggleable__label {background-color: #d4ebff;}#sk-container-id-5 div.sk-label input.sk-toggleable__control:checked~label.sk-toggleable__label {background-color: #d4ebff;}#sk-container-id-5 input.sk-hidden--visually {border: 0;clip: rect(1px 1px 1px 1px);clip: rect(1px, 1px, 1px, 1px);height: 1px;margin: -1px;overflow: hidden;padding: 0;position: absolute;width: 1px;}#sk-container-id-5 div.sk-estimator {font-family: monospace;background-color: #f0f8ff;border: 1px dotted black;border-radius: 0.25em;box-sizing: border-box;margin-bottom: 0.5em;}#sk-container-id-5 div.sk-estimator:hover {background-color: #d4ebff;}#sk-container-id-5 div.sk-parallel-item::after {content: \"\";width: 100%;border-bottom: 1px solid gray;flex-grow: 1;}#sk-container-id-5 div.sk-label:hover label.sk-toggleable__label {background-color: #d4ebff;}#sk-container-id-5 div.sk-serial::before {content: \"\";position: absolute;border-left: 1px solid gray;box-sizing: border-box;top: 0;bottom: 0;left: 50%;z-index: 0;}#sk-container-id-5 div.sk-serial {display: flex;flex-direction: column;align-items: center;background-color: white;padding-right: 0.2em;padding-left: 0.2em;position: relative;}#sk-container-id-5 div.sk-item {position: relative;z-index: 1;}#sk-container-id-5 div.sk-parallel {display: flex;align-items: stretch;justify-content: center;background-color: white;position: relative;}#sk-container-id-5 div.sk-item::before, #sk-container-id-5 div.sk-parallel-item::before {content: \"\";position: absolute;border-left: 1px solid gray;box-sizing: border-box;top: 0;bottom: 0;left: 50%;z-index: -1;}#sk-container-id-5 div.sk-parallel-item {display: flex;flex-direction: column;z-index: 1;position: relative;background-color: white;}#sk-container-id-5 div.sk-parallel-item:first-child::after {align-self: flex-end;width: 50%;}#sk-container-id-5 div.sk-parallel-item:last-child::after {align-self: flex-start;width: 50%;}#sk-container-id-5 div.sk-parallel-item:only-child::after {width: 0;}#sk-container-id-5 div.sk-dashed-wrapped {border: 1px dashed gray;margin: 0 0.4em 0.5em 0.4em;box-sizing: border-box;padding-bottom: 0.4em;background-color: white;}#sk-container-id-5 div.sk-label label {font-family: monospace;font-weight: bold;display: inline-block;line-height: 1.2em;}#sk-container-id-5 div.sk-label-container {text-align: center;}#sk-container-id-5 div.sk-container {/* jupyter's `normalize.less` sets `[hidden] { display: none; }` but bootstrap.min.css set `[hidden] { display: none !important; }` so we also need the `!important` here to be able to override the default hidden behavior on the sphinx rendered scikit-learn.org. See: https://github.com/scikit-learn/scikit-learn/issues/21755 */display: inline-block !important;position: relative;}#sk-container-id-5 div.sk-text-repr-fallback {display: none;}</style><div id=\"sk-container-id-5\" class=\"sk-top-container\"><div class=\"sk-text-repr-fallback\"><pre>KNeighborsClassifier()</pre><b>In a Jupyter environment, please rerun this cell to show the HTML representation or trust the notebook. <br />On GitHub, the HTML representation is unable to render, please try loading this page with nbviewer.org.</b></div><div class=\"sk-container\" hidden><div class=\"sk-item\"><div class=\"sk-estimator sk-toggleable\"><input class=\"sk-toggleable__control sk-hidden--visually\" id=\"sk-estimator-id-5\" type=\"checkbox\" checked><label for=\"sk-estimator-id-5\" class=\"sk-toggleable__label sk-toggleable__label-arrow\">KNeighborsClassifier</label><div class=\"sk-toggleable__content\"><pre>KNeighborsClassifier()</pre></div></div></div></div></div>"
      ],
      "text/plain": [
       "KNeighborsClassifier()"
      ]
     },
     "execution_count": 82,
     "metadata": {},
     "output_type": "execute_result"
    }
   ],
   "source": [
    "#memasukkan data training pada fungsi algoritma KNN\n",
    "#Fungsi fit() digunakan untuk melatih model\n",
    "knn_algorit.fit(x_train, y_train.values.ravel())"
   ]
  },
  {
   "cell_type": "code",
   "execution_count": 83,
   "metadata": {},
   "outputs": [],
   "source": [
    "#menentukan prediksi dari algoritma knn\n",
    "knn_prediksi = knn_algorit.predict(x_test)"
   ]
  },
  {
   "cell_type": "code",
   "execution_count": 84,
   "metadata": {},
   "outputs": [],
   "source": [
    "#menentukan keakuratan hasil prediksi\n",
    "akurasiknn = accuracy_score(y_test, knn_prediksi)"
   ]
  },
  {
   "cell_type": "code",
   "execution_count": 85,
   "metadata": {},
   "outputs": [
    {
     "name": "stdout",
     "output_type": "stream",
     "text": [
      "Hasil prediksi knn : ['Normal' 'Normal' 'Normal' 'ST' 'Normal' 'LVH' 'Normal' 'Normal' 'Normal'\n",
      " 'LVH' 'Normal' 'Normal' 'ST' 'Normal' 'Normal' 'Normal' 'Normal' 'Normal'\n",
      " 'Normal' 'Normal' 'Normal' 'Normal' 'LVH' 'Normal' 'ST' 'ST' 'Normal'\n",
      " 'Normal' 'Normal' 'Normal' 'Normal' 'LVH' 'ST' 'Normal' 'Normal' 'Normal'\n",
      " 'LVH' 'Normal' 'Normal' 'Normal' 'Normal' 'ST' 'Normal' 'Normal' 'ST'\n",
      " 'Normal' 'Normal' 'Normal' 'Normal' 'Normal' 'Normal' 'LVH' 'Normal'\n",
      " 'Normal' 'Normal' 'Normal' 'LVH' 'Normal' 'Normal' 'Normal' 'Normal'\n",
      " 'Normal' 'Normal' 'LVH' 'Normal' 'Normal' 'Normal' 'Normal' 'LVH'\n",
      " 'Normal' 'Normal' 'LVH' 'Normal' 'ST' 'LVH' 'LVH' 'LVH' 'Normal' 'Normal'\n",
      " 'LVH' 'Normal' 'LVH' 'Normal' 'Normal' 'LVH' 'Normal' 'LVH' 'Normal'\n",
      " 'Normal' 'LVH' 'Normal' 'LVH' 'Normal' 'Normal' 'Normal' 'Normal'\n",
      " 'Normal' 'ST' 'Normal' 'Normal' 'Normal' 'LVH' 'Normal' 'Normal' 'Normal'\n",
      " 'Normal' 'Normal' 'ST' 'Normal' 'LVH' 'Normal' 'ST' 'Normal' 'ST'\n",
      " 'Normal' 'Normal' 'Normal' 'LVH' 'Normal' 'Normal' 'Normal' 'Normal'\n",
      " 'Normal' 'LVH' 'Normal' 'Normal' 'Normal' 'ST' 'Normal' 'Normal' 'Normal'\n",
      " 'Normal' 'ST' 'Normal' 'Normal' 'ST' 'Normal' 'Normal' 'ST' 'Normal'\n",
      " 'Normal' 'Normal' 'LVH' 'Normal' 'LVH' 'Normal' 'Normal' 'LVH' 'Normal'\n",
      " 'LVH' 'Normal' 'Normal' 'Normal' 'Normal' 'LVH' 'Normal' 'Normal' 'LVH'\n",
      " 'LVH' 'Normal' 'Normal' 'ST' 'Normal' 'Normal' 'Normal' 'Normal' 'Normal'\n",
      " 'ST' 'LVH' 'Normal' 'Normal' 'Normal' 'LVH' 'Normal' 'Normal' 'Normal'\n",
      " 'Normal' 'Normal' 'Normal' 'ST' 'LVH' 'LVH' 'Normal' 'Normal']\n",
      "kelas              :     RestingECG\n",
      "407     Normal\n",
      "773        LVH\n",
      "497     Normal\n",
      "375         ST\n",
      "477     Normal\n",
      "..         ...\n",
      "392        LVH\n",
      "60      Normal\n",
      "886     Normal\n",
      "378     Normal\n",
      "683     Normal\n",
      "\n",
      "[184 rows x 1 columns]\n",
      "akurasi            : 0.5869565217391305\n"
     ]
    }
   ],
   "source": [
    "#tampilkan hasil prediksi algoritma knn\n",
    "print(f'Hasil prediksi knn : {knn_prediksi}',\n",
    "      f'kelas              : {y_test}',\n",
    "      f'akurasi            : {akurasiknn}',\n",
    "      sep='\\n'\n",
    ")"
   ]
  },
  {
   "cell_type": "code",
   "execution_count": 86,
   "metadata": {},
   "outputs": [
    {
     "name": "stdout",
     "output_type": "stream",
     "text": [
      "Score algoritma KNN :  0.5869565217391305\n"
     ]
    }
   ],
   "source": [
    "#menampilkan score \n",
    "print(\"Score algoritma KNN : \", knn_algorit.score(x_test, y_test))"
   ]
  },
  {
   "cell_type": "code",
   "execution_count": 87,
   "metadata": {},
   "outputs": [
    {
     "name": "stdout",
     "output_type": "stream",
     "text": [
      "akurasi algoritma KNN(dalam %): 58.69565217391305\n"
     ]
    }
   ],
   "source": [
    "print(\"akurasi algoritma KNN(dalam %):\",\n",
    "accuracy_score(y_test, knn_prediksi)*100)"
   ]
  },
  {
   "cell_type": "markdown",
   "metadata": {},
   "source": [
    "### Algoritma Naive bayes"
   ]
  },
  {
   "cell_type": "markdown",
   "metadata": {},
   "source": [
    "Mengadopsi prinsip kemandirian kelas bersyarat dari Teorema Bayes dimana ada tidaknya satu elemen tidak akan memengaruhi komponen lain dalam probabilitas hasil yang akan diberikan, dengan predictor yang mendapatkan efek yang sama."
   ]
  },
  {
   "cell_type": "code",
   "execution_count": 56,
   "metadata": {},
   "outputs": [],
   "source": [
    "#import packages\n",
    "from sklearn.naive_bayes import GaussianNB"
   ]
  },
  {
   "cell_type": "code",
   "execution_count": 57,
   "metadata": {},
   "outputs": [
    {
     "data": {
      "text/html": [
       "<div>\n",
       "<style scoped>\n",
       "    .dataframe tbody tr th:only-of-type {\n",
       "        vertical-align: middle;\n",
       "    }\n",
       "\n",
       "    .dataframe tbody tr th {\n",
       "        vertical-align: top;\n",
       "    }\n",
       "\n",
       "    .dataframe thead th {\n",
       "        text-align: right;\n",
       "    }\n",
       "</style>\n",
       "<table border=\"1\" class=\"dataframe\">\n",
       "  <thead>\n",
       "    <tr style=\"text-align: right;\">\n",
       "      <th></th>\n",
       "      <th>Age</th>\n",
       "      <th>Sex</th>\n",
       "      <th>ChestPainType</th>\n",
       "      <th>RestingBP</th>\n",
       "      <th>Cholesterol</th>\n",
       "      <th>FastingBS</th>\n",
       "      <th>RestingECG</th>\n",
       "      <th>MaxHR</th>\n",
       "      <th>ExerciseAngina</th>\n",
       "      <th>Oldpeak</th>\n",
       "      <th>ST_Slope</th>\n",
       "      <th>HeartDisease</th>\n",
       "    </tr>\n",
       "  </thead>\n",
       "  <tbody>\n",
       "    <tr>\n",
       "      <th>0</th>\n",
       "      <td>40.0</td>\n",
       "      <td>M</td>\n",
       "      <td>ATA</td>\n",
       "      <td>140.000000</td>\n",
       "      <td>289.0</td>\n",
       "      <td>0</td>\n",
       "      <td>Normal</td>\n",
       "      <td>172.0</td>\n",
       "      <td>N</td>\n",
       "      <td>0.0</td>\n",
       "      <td>Up</td>\n",
       "      <td>0</td>\n",
       "    </tr>\n",
       "    <tr>\n",
       "      <th>1</th>\n",
       "      <td>49.0</td>\n",
       "      <td>F</td>\n",
       "      <td>NAP</td>\n",
       "      <td>160.000000</td>\n",
       "      <td>180.0</td>\n",
       "      <td>0</td>\n",
       "      <td>Normal</td>\n",
       "      <td>156.0</td>\n",
       "      <td>N</td>\n",
       "      <td>1.0</td>\n",
       "      <td>Flat</td>\n",
       "      <td>1</td>\n",
       "    </tr>\n",
       "    <tr>\n",
       "      <th>2</th>\n",
       "      <td>54.0</td>\n",
       "      <td>M</td>\n",
       "      <td>ATA</td>\n",
       "      <td>132.370897</td>\n",
       "      <td>283.0</td>\n",
       "      <td>0</td>\n",
       "      <td>ST</td>\n",
       "      <td>98.0</td>\n",
       "      <td>N</td>\n",
       "      <td>0.0</td>\n",
       "      <td>Up</td>\n",
       "      <td>0</td>\n",
       "    </tr>\n",
       "    <tr>\n",
       "      <th>3</th>\n",
       "      <td>54.0</td>\n",
       "      <td>F</td>\n",
       "      <td>ASY</td>\n",
       "      <td>132.370897</td>\n",
       "      <td>214.0</td>\n",
       "      <td>0</td>\n",
       "      <td>Normal</td>\n",
       "      <td>108.0</td>\n",
       "      <td>Y</td>\n",
       "      <td>1.5</td>\n",
       "      <td>Flat</td>\n",
       "      <td>1</td>\n",
       "    </tr>\n",
       "    <tr>\n",
       "      <th>4</th>\n",
       "      <td>54.0</td>\n",
       "      <td>M</td>\n",
       "      <td>NAP</td>\n",
       "      <td>132.370897</td>\n",
       "      <td>195.0</td>\n",
       "      <td>0</td>\n",
       "      <td>Normal</td>\n",
       "      <td>138.0</td>\n",
       "      <td>N</td>\n",
       "      <td>0.0</td>\n",
       "      <td>Up</td>\n",
       "      <td>0</td>\n",
       "    </tr>\n",
       "  </tbody>\n",
       "</table>\n",
       "</div>"
      ],
      "text/plain": [
       "    Age Sex ChestPainType   RestingBP  Cholesterol  FastingBS RestingECG  \\\n",
       "0  40.0   M           ATA  140.000000        289.0          0     Normal   \n",
       "1  49.0   F           NAP  160.000000        180.0          0     Normal   \n",
       "2  54.0   M           ATA  132.370897        283.0          0         ST   \n",
       "3  54.0   F           ASY  132.370897        214.0          0     Normal   \n",
       "4  54.0   M           NAP  132.370897        195.0          0     Normal   \n",
       "\n",
       "   MaxHR ExerciseAngina  Oldpeak ST_Slope  HeartDisease  \n",
       "0  172.0              N      0.0       Up             0  \n",
       "1  156.0              N      1.0     Flat             1  \n",
       "2   98.0              N      0.0       Up             0  \n",
       "3  108.0              Y      1.5     Flat             1  \n",
       "4  138.0              N      0.0       Up             0  "
      ]
     },
     "execution_count": 57,
     "metadata": {},
     "output_type": "execute_result"
    }
   ],
   "source": [
    "#panggil dan tampilkan dataset heart_baru.csv\n",
    "dataset_Heart = pd.read_csv('heart_baru.csv')\n",
    "dataset_Heart.head()"
   ]
  },
  {
   "cell_type": "code",
   "execution_count": 58,
   "metadata": {},
   "outputs": [
    {
     "name": "stdout",
     "output_type": "stream",
     "text": [
      "<class 'pandas.core.frame.DataFrame'>\n",
      "RangeIndex: 918 entries, 0 to 917\n",
      "Data columns (total 12 columns):\n",
      " #   Column          Non-Null Count  Dtype  \n",
      "---  ------          --------------  -----  \n",
      " 0   Age             918 non-null    float64\n",
      " 1   Sex             918 non-null    object \n",
      " 2   ChestPainType   918 non-null    object \n",
      " 3   RestingBP       918 non-null    float64\n",
      " 4   Cholesterol     918 non-null    float64\n",
      " 5   FastingBS       918 non-null    int64  \n",
      " 6   RestingECG      918 non-null    object \n",
      " 7   MaxHR           918 non-null    float64\n",
      " 8   ExerciseAngina  918 non-null    object \n",
      " 9   Oldpeak         918 non-null    float64\n",
      " 10  ST_Slope        918 non-null    object \n",
      " 11  HeartDisease    918 non-null    int64  \n",
      "dtypes: float64(5), int64(2), object(5)\n",
      "memory usage: 86.2+ KB\n"
     ]
    }
   ],
   "source": [
    "#lihat tipe data atribut dataset agar mudah digunakan\n",
    "dataset_Heart.info()"
   ]
  },
  {
   "cell_type": "code",
   "execution_count": 59,
   "metadata": {},
   "outputs": [],
   "source": [
    "#datasplit dengan fungsi dari sklearn\n",
    "X  = dataset_Heart[['Age','RestingBP','Cholesterol','FastingBS','MaxHR', 'Oldpeak', 'HeartDisease']]\n",
    "Y  = dataset_Heart[['RestingECG']]"
   ]
  },
  {
   "cell_type": "code",
   "execution_count": 60,
   "metadata": {},
   "outputs": [],
   "source": [
    "# membagi data testing sebanyak 20%\n",
    "x_train, x_test, y_train, y_test = train_test_split(X, Y, test_size=.2)"
   ]
  },
  {
   "cell_type": "code",
   "execution_count": 61,
   "metadata": {},
   "outputs": [
    {
     "name": "stdout",
     "output_type": "stream",
     "text": [
      "panjang data train    : 734 baris\n",
      "panjang label train   : 734 baris\n",
      "panjang data testing  : 184 baris\n",
      "panjang label testing : 184 baris\n",
      "panjang total dataset Heart : 918 baris\n"
     ]
    }
   ],
   "source": [
    "#menampilkan hasil splitting data\n",
    "print(f'panjang data train    : {len(x_train)} baris',\n",
    "      f'panjang label train   : {len(y_train)} baris',\n",
    "      f'panjang data testing  : {len(x_test)} baris',\n",
    "      f'panjang label testing : {len(y_test)} baris',\n",
    "      f'panjang total dataset Heart : {len(dataset_Heart)} baris',\n",
    "      sep='\\n')"
   ]
  },
  {
   "cell_type": "code",
   "execution_count": 62,
   "metadata": {},
   "outputs": [],
   "source": [
    "#memanggil fungsi klasifikasi Naive bayes\n",
    "naive_algorit = GaussianNB()"
   ]
  },
  {
   "cell_type": "code",
   "execution_count": 63,
   "metadata": {
    "scrolled": true
   },
   "outputs": [
    {
     "data": {
      "text/html": [
       "<style>#sk-container-id-4 {color: black;background-color: white;}#sk-container-id-4 pre{padding: 0;}#sk-container-id-4 div.sk-toggleable {background-color: white;}#sk-container-id-4 label.sk-toggleable__label {cursor: pointer;display: block;width: 100%;margin-bottom: 0;padding: 0.3em;box-sizing: border-box;text-align: center;}#sk-container-id-4 label.sk-toggleable__label-arrow:before {content: \"▸\";float: left;margin-right: 0.25em;color: #696969;}#sk-container-id-4 label.sk-toggleable__label-arrow:hover:before {color: black;}#sk-container-id-4 div.sk-estimator:hover label.sk-toggleable__label-arrow:before {color: black;}#sk-container-id-4 div.sk-toggleable__content {max-height: 0;max-width: 0;overflow: hidden;text-align: left;background-color: #f0f8ff;}#sk-container-id-4 div.sk-toggleable__content pre {margin: 0.2em;color: black;border-radius: 0.25em;background-color: #f0f8ff;}#sk-container-id-4 input.sk-toggleable__control:checked~div.sk-toggleable__content {max-height: 200px;max-width: 100%;overflow: auto;}#sk-container-id-4 input.sk-toggleable__control:checked~label.sk-toggleable__label-arrow:before {content: \"▾\";}#sk-container-id-4 div.sk-estimator input.sk-toggleable__control:checked~label.sk-toggleable__label {background-color: #d4ebff;}#sk-container-id-4 div.sk-label input.sk-toggleable__control:checked~label.sk-toggleable__label {background-color: #d4ebff;}#sk-container-id-4 input.sk-hidden--visually {border: 0;clip: rect(1px 1px 1px 1px);clip: rect(1px, 1px, 1px, 1px);height: 1px;margin: -1px;overflow: hidden;padding: 0;position: absolute;width: 1px;}#sk-container-id-4 div.sk-estimator {font-family: monospace;background-color: #f0f8ff;border: 1px dotted black;border-radius: 0.25em;box-sizing: border-box;margin-bottom: 0.5em;}#sk-container-id-4 div.sk-estimator:hover {background-color: #d4ebff;}#sk-container-id-4 div.sk-parallel-item::after {content: \"\";width: 100%;border-bottom: 1px solid gray;flex-grow: 1;}#sk-container-id-4 div.sk-label:hover label.sk-toggleable__label {background-color: #d4ebff;}#sk-container-id-4 div.sk-serial::before {content: \"\";position: absolute;border-left: 1px solid gray;box-sizing: border-box;top: 0;bottom: 0;left: 50%;z-index: 0;}#sk-container-id-4 div.sk-serial {display: flex;flex-direction: column;align-items: center;background-color: white;padding-right: 0.2em;padding-left: 0.2em;position: relative;}#sk-container-id-4 div.sk-item {position: relative;z-index: 1;}#sk-container-id-4 div.sk-parallel {display: flex;align-items: stretch;justify-content: center;background-color: white;position: relative;}#sk-container-id-4 div.sk-item::before, #sk-container-id-4 div.sk-parallel-item::before {content: \"\";position: absolute;border-left: 1px solid gray;box-sizing: border-box;top: 0;bottom: 0;left: 50%;z-index: -1;}#sk-container-id-4 div.sk-parallel-item {display: flex;flex-direction: column;z-index: 1;position: relative;background-color: white;}#sk-container-id-4 div.sk-parallel-item:first-child::after {align-self: flex-end;width: 50%;}#sk-container-id-4 div.sk-parallel-item:last-child::after {align-self: flex-start;width: 50%;}#sk-container-id-4 div.sk-parallel-item:only-child::after {width: 0;}#sk-container-id-4 div.sk-dashed-wrapped {border: 1px dashed gray;margin: 0 0.4em 0.5em 0.4em;box-sizing: border-box;padding-bottom: 0.4em;background-color: white;}#sk-container-id-4 div.sk-label label {font-family: monospace;font-weight: bold;display: inline-block;line-height: 1.2em;}#sk-container-id-4 div.sk-label-container {text-align: center;}#sk-container-id-4 div.sk-container {/* jupyter's `normalize.less` sets `[hidden] { display: none; }` but bootstrap.min.css set `[hidden] { display: none !important; }` so we also need the `!important` here to be able to override the default hidden behavior on the sphinx rendered scikit-learn.org. See: https://github.com/scikit-learn/scikit-learn/issues/21755 */display: inline-block !important;position: relative;}#sk-container-id-4 div.sk-text-repr-fallback {display: none;}</style><div id=\"sk-container-id-4\" class=\"sk-top-container\"><div class=\"sk-text-repr-fallback\"><pre>GaussianNB()</pre><b>In a Jupyter environment, please rerun this cell to show the HTML representation or trust the notebook. <br />On GitHub, the HTML representation is unable to render, please try loading this page with nbviewer.org.</b></div><div class=\"sk-container\" hidden><div class=\"sk-item\"><div class=\"sk-estimator sk-toggleable\"><input class=\"sk-toggleable__control sk-hidden--visually\" id=\"sk-estimator-id-4\" type=\"checkbox\" checked><label for=\"sk-estimator-id-4\" class=\"sk-toggleable__label sk-toggleable__label-arrow\">GaussianNB</label><div class=\"sk-toggleable__content\"><pre>GaussianNB()</pre></div></div></div></div></div>"
      ],
      "text/plain": [
       "GaussianNB()"
      ]
     },
     "execution_count": 63,
     "metadata": {},
     "output_type": "execute_result"
    }
   ],
   "source": [
    "#memasukkan data training pada fungsi Naive Bayes\n",
    "#Fungsi fit() digunakan untuk melatih model\n",
    "naive_algorit.fit(x_train, y_train.values.ravel())"
   ]
  },
  {
   "cell_type": "code",
   "execution_count": 64,
   "metadata": {},
   "outputs": [],
   "source": [
    "#menentukan prediksi naive bayes\n",
    "naiveb_prediksi = naive_algorit.predict(x_test)"
   ]
  },
  {
   "cell_type": "code",
   "execution_count": 65,
   "metadata": {},
   "outputs": [],
   "source": [
    "#menentukan keakuratan hasil prediksi\n",
    "akurasiNaive = accuracy_score(y_test, naiveb_prediksi)"
   ]
  },
  {
   "cell_type": "code",
   "execution_count": 72,
   "metadata": {},
   "outputs": [
    {
     "data": {
      "text/plain": [
       "array([[0.00615545, 0.41641285, 0.5774317 ],\n",
       "       [0.29816764, 0.63593991, 0.06589245],\n",
       "       [0.56658564, 0.23780667, 0.19560769],\n",
       "       [0.02538441, 0.35756269, 0.6170529 ],\n",
       "       [0.01164902, 0.26262923, 0.72572175],\n",
       "       [0.19696107, 0.7219878 , 0.08105113],\n",
       "       [0.27959051, 0.58429589, 0.1361136 ],\n",
       "       [0.2996836 , 0.37956647, 0.32074993],\n",
       "       [0.22537373, 0.60532662, 0.16929965],\n",
       "       [0.27298291, 0.63796667, 0.08905042],\n",
       "       [0.17801291, 0.67412447, 0.14786262],\n",
       "       [0.57479358, 0.03581887, 0.38938755],\n",
       "       [0.20829192, 0.66252694, 0.12918114],\n",
       "       [0.10206071, 0.773333  , 0.12460629],\n",
       "       [0.28600042, 0.23631673, 0.47768285],\n",
       "       [0.33770724, 0.47220856, 0.1900842 ],\n",
       "       [0.19708981, 0.62590069, 0.1770095 ],\n",
       "       [0.19947082, 0.71488972, 0.08563945],\n",
       "       [0.24645982, 0.70202342, 0.05151676],\n",
       "       [0.36710794, 0.4900823 , 0.14280975],\n",
       "       [0.05713545, 0.4749217 , 0.46794286],\n",
       "       [0.11653848, 0.46925757, 0.41420395],\n",
       "       [0.37468745, 0.59936443, 0.02594812],\n",
       "       [0.02006925, 0.53527782, 0.44465293],\n",
       "       [0.01663735, 0.49020604, 0.49315662],\n",
       "       [0.01240268, 0.79699205, 0.19060527],\n",
       "       [0.13335401, 0.81223676, 0.05440923],\n",
       "       [0.28088158, 0.62931707, 0.08980135],\n",
       "       [0.32208078, 0.61043217, 0.06748705],\n",
       "       [0.49137761, 0.31060173, 0.19802066],\n",
       "       [0.27054517, 0.67463488, 0.05481995],\n",
       "       [0.17258513, 0.61910623, 0.20830864],\n",
       "       [0.05027238, 0.10789889, 0.84182873],\n",
       "       [0.15823443, 0.72201586, 0.11974971],\n",
       "       [0.02926682, 0.35224118, 0.61849201],\n",
       "       [0.22785456, 0.73033131, 0.04181413],\n",
       "       [0.34081533, 0.57734872, 0.08183596],\n",
       "       [0.00748475, 0.63676082, 0.35575443],\n",
       "       [0.28233891, 0.23927868, 0.47838241],\n",
       "       [0.34129818, 0.4571876 , 0.20151422],\n",
       "       [0.00916852, 0.72038538, 0.27044609],\n",
       "       [0.2815328 , 0.23942075, 0.47904645],\n",
       "       [0.21359024, 0.63248468, 0.15392507],\n",
       "       [0.01025603, 0.16022551, 0.82951846],\n",
       "       [0.0400231 , 0.66104817, 0.29892873],\n",
       "       [0.32298868, 0.57447702, 0.1025343 ],\n",
       "       [0.0117465 , 0.61704874, 0.37120476],\n",
       "       [0.16732957, 0.70515101, 0.12751942],\n",
       "       [0.16688663, 0.77856356, 0.0545498 ],\n",
       "       [0.01447716, 0.18508042, 0.80044242],\n",
       "       [0.3931414 , 0.35284429, 0.25401431],\n",
       "       [0.32283192, 0.5655095 , 0.11165858],\n",
       "       [0.10704404, 0.73440422, 0.15855173],\n",
       "       [0.00799718, 0.76374079, 0.22826203],\n",
       "       [0.14379707, 0.80837531, 0.04782762],\n",
       "       [0.31994432, 0.29295199, 0.38710369],\n",
       "       [0.32888154, 0.44044375, 0.23067471],\n",
       "       [0.01597128, 0.6762814 , 0.30774732],\n",
       "       [0.35762387, 0.51535867, 0.12701746],\n",
       "       [0.29746545, 0.26558714, 0.43694741],\n",
       "       [0.19153531, 0.76492177, 0.04354292],\n",
       "       [0.44689981, 0.46023978, 0.09286041],\n",
       "       [0.10969555, 0.76803345, 0.122271  ],\n",
       "       [0.45479605, 0.26853123, 0.27667272],\n",
       "       [0.02209643, 0.62399478, 0.35390878],\n",
       "       [0.17086637, 0.67649334, 0.15264028],\n",
       "       [0.50009875, 0.2716008 , 0.22830044],\n",
       "       [0.16537102, 0.79319606, 0.04143291],\n",
       "       [0.27005994, 0.56861955, 0.16132051],\n",
       "       [0.40021619, 0.54741226, 0.05237155],\n",
       "       [0.10301786, 0.22546027, 0.67152188],\n",
       "       [0.37323137, 0.33237293, 0.2943957 ],\n",
       "       [0.22081635, 0.69875225, 0.0804314 ],\n",
       "       [0.35044114, 0.40243951, 0.24711934],\n",
       "       [0.39795648, 0.45634012, 0.1457034 ],\n",
       "       [0.22544356, 0.58600795, 0.18854849],\n",
       "       [0.27705817, 0.55240833, 0.1705335 ],\n",
       "       [0.45692033, 0.42927053, 0.11380914],\n",
       "       [0.24410219, 0.18431008, 0.57158774],\n",
       "       [0.30798463, 0.40004758, 0.29196778],\n",
       "       [0.21656327, 0.63440808, 0.14902865],\n",
       "       [0.24518668, 0.49617192, 0.2586414 ],\n",
       "       [0.11761686, 0.8236799 , 0.05870324],\n",
       "       [0.25031612, 0.72411756, 0.02556631],\n",
       "       [0.18867291, 0.76397799, 0.0473491 ],\n",
       "       [0.17540997, 0.73189859, 0.09269144],\n",
       "       [0.55864965, 0.03669803, 0.40465231],\n",
       "       [0.01090262, 0.50596729, 0.48313009],\n",
       "       [0.12663085, 0.79006371, 0.08330544],\n",
       "       [0.24086573, 0.71669978, 0.0424345 ],\n",
       "       [0.0197715 , 0.41088469, 0.56934381],\n",
       "       [0.30531825, 0.22220209, 0.47247966],\n",
       "       [0.17556707, 0.79532946, 0.02910347],\n",
       "       [0.02034538, 0.33145932, 0.6481953 ],\n",
       "       [0.05778384, 0.75994357, 0.18227259],\n",
       "       [0.17355024, 0.81021302, 0.01623674],\n",
       "       [0.01216865, 0.46002638, 0.52780497],\n",
       "       [0.67932628, 0.00884073, 0.311833  ],\n",
       "       [0.45914362, 0.43717363, 0.10368275],\n",
       "       [0.26755807, 0.68186472, 0.05057721],\n",
       "       [0.06866083, 0.90902875, 0.02231043],\n",
       "       [0.40610711, 0.44212882, 0.15176407],\n",
       "       [0.16958014, 0.65103025, 0.17938961],\n",
       "       [0.17086637, 0.67649334, 0.15264028],\n",
       "       [0.09118363, 0.82881922, 0.07999714],\n",
       "       [0.27245978, 0.67958884, 0.04795138],\n",
       "       [0.06440693, 0.79954757, 0.1360455 ],\n",
       "       [0.20080772, 0.69225866, 0.10693362],\n",
       "       [0.00585551, 0.81221132, 0.18193317],\n",
       "       [0.24925568, 0.64816987, 0.10257445],\n",
       "       [0.26203284, 0.51592188, 0.22204528],\n",
       "       [0.10940117, 0.82629593, 0.0643029 ],\n",
       "       [0.27113536, 0.58210694, 0.1467577 ],\n",
       "       [0.01308669, 0.72755366, 0.25935965],\n",
       "       [0.23564546, 0.56147381, 0.20288072],\n",
       "       [0.32448952, 0.45094332, 0.22456715],\n",
       "       [0.006148  , 0.40447136, 0.58938064],\n",
       "       [0.35163686, 0.59397515, 0.054388  ],\n",
       "       [0.06045937, 0.36361781, 0.57592281],\n",
       "       [0.00889792, 0.66354266, 0.32755942],\n",
       "       [0.01194991, 0.75854488, 0.22950521],\n",
       "       [0.01409952, 0.63000218, 0.35589831],\n",
       "       [0.13045047, 0.86396384, 0.00558569],\n",
       "       [0.23206598, 0.72289465, 0.04503937],\n",
       "       [0.11099726, 0.79265446, 0.09634829],\n",
       "       [0.29110743, 0.33329645, 0.37559612],\n",
       "       [0.25847966, 0.62081643, 0.12070391],\n",
       "       [0.24215452, 0.29742499, 0.46042049],\n",
       "       [0.18809707, 0.72404061, 0.08786233],\n",
       "       [0.26807427, 0.69535126, 0.03657447],\n",
       "       [0.0209291 , 0.52169654, 0.45737436],\n",
       "       [0.01271634, 0.42934271, 0.55794095],\n",
       "       [0.02093951, 0.4297478 , 0.54931269],\n",
       "       [0.32803252, 0.61071463, 0.06125285],\n",
       "       [0.00941526, 0.729972  , 0.26061274],\n",
       "       [0.40594495, 0.18791883, 0.40613622],\n",
       "       [0.1912267 , 0.75940781, 0.04936549],\n",
       "       [0.1157947 , 0.86730084, 0.01690446],\n",
       "       [0.27980397, 0.49623597, 0.22396006],\n",
       "       [0.23273746, 0.68955311, 0.07770943],\n",
       "       [0.01224055, 0.57385043, 0.41390902],\n",
       "       [0.17189589, 0.81029512, 0.01780899],\n",
       "       [0.100263  , 0.89606693, 0.00367007],\n",
       "       [0.07234369, 0.92125797, 0.00639834],\n",
       "       [0.33900642, 0.45690048, 0.2040931 ],\n",
       "       [0.287532  , 0.55912914, 0.15333886],\n",
       "       [0.11051407, 0.87016377, 0.01932216],\n",
       "       [0.36160837, 0.56533838, 0.07305324],\n",
       "       [0.11768379, 0.82403366, 0.05828255],\n",
       "       [0.35437111, 0.55120163, 0.09442726],\n",
       "       [0.14978192, 0.74271142, 0.10750666],\n",
       "       [0.21591658, 0.62082469, 0.16325874],\n",
       "       [0.16979573, 0.7780291 , 0.05217517],\n",
       "       [0.10551039, 0.84646371, 0.0480259 ],\n",
       "       [0.22903399, 0.59800156, 0.17296444],\n",
       "       [0.00843833, 0.89158247, 0.0999792 ],\n",
       "       [0.01311893, 0.38323822, 0.60364284],\n",
       "       [0.38850107, 0.56884814, 0.04265079],\n",
       "       [0.11241288, 0.62190235, 0.26568478],\n",
       "       [0.22905234, 0.43534726, 0.33560041],\n",
       "       [0.18598917, 0.78272241, 0.03128842],\n",
       "       [0.01449096, 0.54545316, 0.44005588],\n",
       "       [0.37726092, 0.40462212, 0.21811696],\n",
       "       [0.290998  , 0.39507238, 0.31392963],\n",
       "       [0.3133858 , 0.35596266, 0.33065153],\n",
       "       [0.15489548, 0.73430661, 0.11079791],\n",
       "       [0.20512854, 0.49458683, 0.30028463],\n",
       "       [0.01739958, 0.5231071 , 0.45949333],\n",
       "       [0.28600764, 0.67931379, 0.03467857],\n",
       "       [0.10789951, 0.87484846, 0.01725203],\n",
       "       [0.0114837 , 0.5705731 , 0.41794319],\n",
       "       [0.15887277, 0.82040796, 0.02071927],\n",
       "       [0.23842196, 0.7007373 , 0.06084074],\n",
       "       [0.2449914 , 0.54768361, 0.207325  ],\n",
       "       [0.00904272, 0.199721  , 0.79123628],\n",
       "       [0.24595783, 0.61895848, 0.13508369],\n",
       "       [0.16664309, 0.74889291, 0.084464  ],\n",
       "       [0.10833378, 0.76038516, 0.13128106],\n",
       "       [0.33010765, 0.41857038, 0.25132197],\n",
       "       [0.0134508 , 0.56680652, 0.41974269],\n",
       "       [0.18666492, 0.79374198, 0.01959309],\n",
       "       [0.26198138, 0.698356  , 0.03966262],\n",
       "       [0.04464066, 0.27574765, 0.6796117 ],\n",
       "       [0.15464251, 0.80718152, 0.03817596]])"
      ]
     },
     "execution_count": 72,
     "metadata": {},
     "output_type": "execute_result"
    }
   ],
   "source": [
    "#menentukan probabilitas hasil prediksi \n",
    "naive_algorit.predict_proba(x_test)"
   ]
  },
  {
   "cell_type": "code",
   "execution_count": 66,
   "metadata": {},
   "outputs": [
    {
     "name": "stdout",
     "output_type": "stream",
     "text": [
      "Hasil prediksi knn : ['ST' 'Normal' 'LVH' 'ST' 'ST' 'Normal' 'Normal' 'Normal' 'Normal'\n",
      " 'Normal' 'Normal' 'LVH' 'Normal' 'Normal' 'ST' 'Normal' 'Normal' 'Normal'\n",
      " 'Normal' 'Normal' 'Normal' 'Normal' 'Normal' 'Normal' 'ST' 'Normal'\n",
      " 'Normal' 'Normal' 'Normal' 'LVH' 'Normal' 'Normal' 'ST' 'Normal' 'ST'\n",
      " 'Normal' 'Normal' 'Normal' 'ST' 'Normal' 'Normal' 'ST' 'Normal' 'ST'\n",
      " 'Normal' 'Normal' 'Normal' 'Normal' 'Normal' 'ST' 'LVH' 'Normal' 'Normal'\n",
      " 'Normal' 'Normal' 'ST' 'Normal' 'Normal' 'Normal' 'ST' 'Normal' 'Normal'\n",
      " 'Normal' 'LVH' 'Normal' 'Normal' 'LVH' 'Normal' 'Normal' 'Normal' 'ST'\n",
      " 'LVH' 'Normal' 'Normal' 'Normal' 'Normal' 'Normal' 'LVH' 'ST' 'Normal'\n",
      " 'Normal' 'Normal' 'Normal' 'Normal' 'Normal' 'Normal' 'LVH' 'Normal'\n",
      " 'Normal' 'Normal' 'ST' 'ST' 'Normal' 'ST' 'Normal' 'Normal' 'ST' 'LVH'\n",
      " 'LVH' 'Normal' 'Normal' 'Normal' 'Normal' 'Normal' 'Normal' 'Normal'\n",
      " 'Normal' 'Normal' 'Normal' 'Normal' 'Normal' 'Normal' 'Normal' 'Normal'\n",
      " 'Normal' 'Normal' 'ST' 'Normal' 'ST' 'Normal' 'Normal' 'Normal' 'Normal'\n",
      " 'Normal' 'Normal' 'ST' 'Normal' 'ST' 'Normal' 'Normal' 'Normal' 'ST' 'ST'\n",
      " 'Normal' 'Normal' 'ST' 'Normal' 'Normal' 'Normal' 'Normal' 'Normal'\n",
      " 'Normal' 'Normal' 'Normal' 'Normal' 'Normal' 'Normal' 'Normal' 'Normal'\n",
      " 'Normal' 'Normal' 'Normal' 'Normal' 'Normal' 'Normal' 'Normal' 'ST'\n",
      " 'Normal' 'Normal' 'Normal' 'Normal' 'Normal' 'Normal' 'Normal' 'Normal'\n",
      " 'Normal' 'Normal' 'Normal' 'Normal' 'Normal' 'Normal' 'Normal' 'Normal'\n",
      " 'Normal' 'ST' 'Normal' 'Normal' 'Normal' 'Normal' 'Normal' 'Normal'\n",
      " 'Normal' 'ST' 'Normal']\n",
      "kelas              :     RestingECG\n",
      "407     Normal\n",
      "773        LVH\n",
      "497     Normal\n",
      "375         ST\n",
      "477     Normal\n",
      "..         ...\n",
      "392        LVH\n",
      "60      Normal\n",
      "886     Normal\n",
      "378     Normal\n",
      "683     Normal\n",
      "\n",
      "[184 rows x 1 columns]\n",
      "akurasi            : 0.5706521739130435\n"
     ]
    }
   ],
   "source": [
    "#tampilkan hasil prediksi algoritma knn\n",
    "print(f'Hasil prediksi knn : {naiveb_prediksi}',\n",
    "      f'kelas              : {y_test}',\n",
    "      f'akurasi            : {akurasiNaive}',\n",
    "      sep='\\n'\n",
    ")"
   ]
  },
  {
   "cell_type": "code",
   "execution_count": 74,
   "metadata": {},
   "outputs": [
    {
     "data": {
      "text/plain": [
       "array([[ 4, 27,  1],\n",
       "       [ 4, 90, 17],\n",
       "       [ 3, 27, 11]], dtype=int64)"
      ]
     },
     "execution_count": 74,
     "metadata": {},
     "output_type": "execute_result"
    }
   ],
   "source": [
    "# import model confusion matrix\n",
    "from sklearn.metrics import confusion_matrix\n",
    "confusion_matrix(y_test, naiveb_prediksi)"
   ]
  },
  {
   "cell_type": "code",
   "execution_count": 75,
   "metadata": {},
   "outputs": [
    {
     "name": "stdout",
     "output_type": "stream",
     "text": [
      "Score algoritma Nive Bayes :  0.5706521739130435\n"
     ]
    }
   ],
   "source": [
    "#menampilkan score\n",
    "print(\"Score algoritma Nive Bayes : \", naive_algorit.score(x_test, y_test))"
   ]
  },
  {
   "cell_type": "code",
   "execution_count": 76,
   "metadata": {},
   "outputs": [
    {
     "name": "stdout",
     "output_type": "stream",
     "text": [
      "akurasi algoritma naive bayes(dalam %): 57.065217391304344\n"
     ]
    }
   ],
   "source": [
    "print(\"akurasi algoritma naive bayes(dalam %):\",\n",
    "accuracy_score(y_test, naiveb_prediksi)*100)"
   ]
  },
  {
   "cell_type": "code",
   "execution_count": null,
   "metadata": {},
   "outputs": [],
   "source": []
  }
 ],
 "metadata": {
  "kernelspec": {
   "display_name": "Python 3 (ipykernel)",
   "language": "python",
   "name": "python3"
  },
  "language_info": {
   "codemirror_mode": {
    "name": "ipython",
    "version": 3
   },
   "file_extension": ".py",
   "mimetype": "text/x-python",
   "name": "python",
   "nbconvert_exporter": "python",
   "pygments_lexer": "ipython3",
   "version": "3.10.7"
  },
  "vscode": {
   "interpreter": {
    "hash": "027efd7095115064582efab50921964d678032cf36f1ec215c675cf4ffc5e6b9"
   }
  }
 },
 "nbformat": 4,
 "nbformat_minor": 2
}
