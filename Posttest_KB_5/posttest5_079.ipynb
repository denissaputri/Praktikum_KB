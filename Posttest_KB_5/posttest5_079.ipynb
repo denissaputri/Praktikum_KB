{
 "cells": [
  {
   "cell_type": "markdown",
   "metadata": {},
   "source": [
    "# POSTTEST 5 KECERDASAN BUATAN"
   ]
  },
  {
   "cell_type": "markdown",
   "metadata": {},
   "source": [
    "<li> Nama : Denissa Putri Maha Rani<br>\n",
    "<li> NIM  : 2009106079 <br>\n",
    "<li> dataset : <a href='https://www.kaggle.com/datasets/fedesoriano/heart-failure-prediction'> Heart Failure Prediction "
   ]
  },
  {
   "cell_type": "code",
   "execution_count": 3,
   "metadata": {},
   "outputs": [],
   "source": [
    "#import packages yg akan digunakan\n",
    "import pandas as pd\n",
    "import numpy as np\n",
    "from sklearn.model_selection import train_test_split\n",
    "from sklearn.neighbors import KNeighborsClassifier\n",
    "from sklearn.naive_bayes import GaussianNB\n",
    "from sklearn.metrics import mean_squared_error, r2_score\n",
    "from sklearn.metrics import accuracy_score"
   ]
  },
  {
   "cell_type": "markdown",
   "metadata": {},
   "source": [
    "## Supervised learning"
   ]
  },
  {
   "cell_type": "markdown",
   "metadata": {},
   "source": [
    "salah satu pendekatan dalam Machine Learning dimana komputer membuat algoritma atau peraturan berdasarkan data yang\n",
    "diberikan."
   ]
  },
  {
   "cell_type": "markdown",
   "metadata": {},
   "source": [
    "### Jenis supervised  learning"
   ]
  },
  {
   "cell_type": "markdown",
   "metadata": {},
   "source": [
    "<ol>\n",
    "<li> Classification <br>\n",
    "    Classification digunakan ketika variabel keluaran (output) adalah categorical. <br>\n",
    "<li> Regression  <br>\n",
    "    Regression digunakan ketika variabel keluaran (output) bernilai real atau kontinyu. <br>\n",
    "</ol>"
   ]
  },
  {
   "cell_type": "markdown",
   "metadata": {},
   "source": [
    "### Algoritma Supervised learning"
   ]
  },
  {
   "cell_type": "markdown",
   "metadata": {},
   "source": [
    "<ol>\n",
    "<li> K-Nearest Neighbour(KNN) <br>\n",
    "    K-Nearest Neighbour atau algoritma KNN menggunakan algoritma non-parametrik yang mengelompokkan poin data berdasarkan kedekatan dan juga asosiasi mereka dengan data lain. <br>\n",
    "<li> Decision Tree  <br>\n",
    "    Decision Tree dapat digunakan untuk menyelesaikan masalah klasifikasi dan regresi, namun lebih sering digunakan untuk masalah klasifikasi. <br>\n",
    "<li> Decision Tree  <br>\n",
    "    Algoritma supervised learning yang satu ini biasanya digunakan dalam identifikasi hubungan antara variabel dependen dengan satu (atau lebih) variabel independen. <br>\n",
    "<li> Naive Bayes  <br>\n",
    "    mengadopsi prinsip kemandirian kelas bersyarat dari Teorema Bayes. Dalam prinsip tersebut, ada tidaknya satu elemen tidak akan memengaruhi komponen lain dalam probabilitas hasil yang akan diberikan, dengan predictor yang mendapatkan efek yang sama. <br>\n",
    "<li> Support Vector Machine (SVM)  <br>\n",
    "    Metode Support Vector Machine sering dimanfaatkan dalam masalah klasifikasi serta pembangunan hyperplane atau batas keputusan yang memisahkan kelas-kelas titik data. <br>\n",
    "</ol>"
   ]
  },
  {
   "cell_type": "markdown",
   "metadata": {},
   "source": [
    "#### Split data : bagi data menjadi data training dan data testing"
   ]
  },
  {
   "cell_type": "code",
   "execution_count": 51,
   "metadata": {},
   "outputs": [
    {
     "data": {
      "text/html": [
       "<div>\n",
       "<style scoped>\n",
       "    .dataframe tbody tr th:only-of-type {\n",
       "        vertical-align: middle;\n",
       "    }\n",
       "\n",
       "    .dataframe tbody tr th {\n",
       "        vertical-align: top;\n",
       "    }\n",
       "\n",
       "    .dataframe thead th {\n",
       "        text-align: right;\n",
       "    }\n",
       "</style>\n",
       "<table border=\"1\" class=\"dataframe\">\n",
       "  <thead>\n",
       "    <tr style=\"text-align: right;\">\n",
       "      <th></th>\n",
       "      <th>Age</th>\n",
       "      <th>Sex</th>\n",
       "      <th>ChestPainType</th>\n",
       "      <th>RestingBP</th>\n",
       "      <th>Cholesterol</th>\n",
       "      <th>FastingBS</th>\n",
       "      <th>RestingECG</th>\n",
       "      <th>MaxHR</th>\n",
       "      <th>ExerciseAngina</th>\n",
       "      <th>Oldpeak</th>\n",
       "      <th>ST_Slope</th>\n",
       "      <th>HeartDisease</th>\n",
       "    </tr>\n",
       "  </thead>\n",
       "  <tbody>\n",
       "    <tr>\n",
       "      <th>0</th>\n",
       "      <td>40.0</td>\n",
       "      <td>M</td>\n",
       "      <td>ATA</td>\n",
       "      <td>140.000000</td>\n",
       "      <td>289.0</td>\n",
       "      <td>0</td>\n",
       "      <td>Normal</td>\n",
       "      <td>172.0</td>\n",
       "      <td>N</td>\n",
       "      <td>0.0</td>\n",
       "      <td>Up</td>\n",
       "      <td>0</td>\n",
       "    </tr>\n",
       "    <tr>\n",
       "      <th>1</th>\n",
       "      <td>49.0</td>\n",
       "      <td>F</td>\n",
       "      <td>NAP</td>\n",
       "      <td>160.000000</td>\n",
       "      <td>180.0</td>\n",
       "      <td>0</td>\n",
       "      <td>Normal</td>\n",
       "      <td>156.0</td>\n",
       "      <td>N</td>\n",
       "      <td>1.0</td>\n",
       "      <td>Flat</td>\n",
       "      <td>1</td>\n",
       "    </tr>\n",
       "    <tr>\n",
       "      <th>2</th>\n",
       "      <td>54.0</td>\n",
       "      <td>M</td>\n",
       "      <td>ATA</td>\n",
       "      <td>132.370897</td>\n",
       "      <td>283.0</td>\n",
       "      <td>0</td>\n",
       "      <td>ST</td>\n",
       "      <td>98.0</td>\n",
       "      <td>N</td>\n",
       "      <td>0.0</td>\n",
       "      <td>Up</td>\n",
       "      <td>0</td>\n",
       "    </tr>\n",
       "    <tr>\n",
       "      <th>3</th>\n",
       "      <td>54.0</td>\n",
       "      <td>F</td>\n",
       "      <td>ASY</td>\n",
       "      <td>132.370897</td>\n",
       "      <td>214.0</td>\n",
       "      <td>0</td>\n",
       "      <td>Normal</td>\n",
       "      <td>108.0</td>\n",
       "      <td>Y</td>\n",
       "      <td>1.5</td>\n",
       "      <td>Flat</td>\n",
       "      <td>1</td>\n",
       "    </tr>\n",
       "    <tr>\n",
       "      <th>4</th>\n",
       "      <td>54.0</td>\n",
       "      <td>M</td>\n",
       "      <td>NAP</td>\n",
       "      <td>132.370897</td>\n",
       "      <td>195.0</td>\n",
       "      <td>0</td>\n",
       "      <td>Normal</td>\n",
       "      <td>138.0</td>\n",
       "      <td>N</td>\n",
       "      <td>0.0</td>\n",
       "      <td>Up</td>\n",
       "      <td>0</td>\n",
       "    </tr>\n",
       "  </tbody>\n",
       "</table>\n",
       "</div>"
      ],
      "text/plain": [
       "    Age Sex ChestPainType   RestingBP  Cholesterol  FastingBS RestingECG  \\\n",
       "0  40.0   M           ATA  140.000000        289.0          0     Normal   \n",
       "1  49.0   F           NAP  160.000000        180.0          0     Normal   \n",
       "2  54.0   M           ATA  132.370897        283.0          0         ST   \n",
       "3  54.0   F           ASY  132.370897        214.0          0     Normal   \n",
       "4  54.0   M           NAP  132.370897        195.0          0     Normal   \n",
       "\n",
       "   MaxHR ExerciseAngina  Oldpeak ST_Slope  HeartDisease  \n",
       "0  172.0              N      0.0       Up             0  \n",
       "1  156.0              N      1.0     Flat             1  \n",
       "2   98.0              N      0.0       Up             0  \n",
       "3  108.0              Y      1.5     Flat             1  \n",
       "4  138.0              N      0.0       Up             0  "
      ]
     },
     "execution_count": 51,
     "metadata": {},
     "output_type": "execute_result"
    }
   ],
   "source": [
    "#panggil dan tampilkan dataset heart_baru.csv\n",
    "dataset_Heart = pd.read_csv('heart_baru.csv')\n",
    "dataset_Heart.head()"
   ]
  },
  {
   "cell_type": "code",
   "execution_count": 52,
   "metadata": {},
   "outputs": [
    {
     "name": "stdout",
     "output_type": "stream",
     "text": [
      "<class 'pandas.core.frame.DataFrame'>\n",
      "RangeIndex: 918 entries, 0 to 917\n",
      "Data columns (total 12 columns):\n",
      " #   Column          Non-Null Count  Dtype  \n",
      "---  ------          --------------  -----  \n",
      " 0   Age             918 non-null    float64\n",
      " 1   Sex             918 non-null    object \n",
      " 2   ChestPainType   918 non-null    object \n",
      " 3   RestingBP       918 non-null    float64\n",
      " 4   Cholesterol     918 non-null    float64\n",
      " 5   FastingBS       918 non-null    int64  \n",
      " 6   RestingECG      918 non-null    object \n",
      " 7   MaxHR           918 non-null    float64\n",
      " 8   ExerciseAngina  918 non-null    object \n",
      " 9   Oldpeak         918 non-null    float64\n",
      " 10  ST_Slope        918 non-null    object \n",
      " 11  HeartDisease    918 non-null    int64  \n",
      "dtypes: float64(5), int64(2), object(5)\n",
      "memory usage: 86.2+ KB\n"
     ]
    }
   ],
   "source": [
    "#lihat tipe data dari atribut dataset agar mudah digunakan\n",
    "dataset_Heart.info()"
   ]
  },
  {
   "cell_type": "code",
   "execution_count": 53,
   "metadata": {},
   "outputs": [],
   "source": [
    "#datasplit dengan fungsi dari sklearn\n",
    "X  = dataset_Heart[['Age','RestingBP','Cholesterol','FastingBS','MaxHR', 'Oldpeak', 'HeartDisease']]\n",
    "Y  = dataset_Heart[['RestingECG']]"
   ]
  },
  {
   "cell_type": "code",
   "execution_count": 54,
   "metadata": {},
   "outputs": [],
   "source": [
    "# membagi data testing sebanyak 20%\n",
    "x_train, x_test, y_train, y_test = train_test_split(X, Y, test_size=.2)\n"
   ]
  },
  {
   "cell_type": "code",
   "execution_count": 55,
   "metadata": {},
   "outputs": [
    {
     "name": "stdout",
     "output_type": "stream",
     "text": [
      "panjang data train    : 734 baris\n",
      "panjang label train   : 734 baris\n",
      "panjang data testing  : 184 baris\n",
      "panjang label testing : 184 baris\n",
      "panjang total dataset Heart : 918 baris\n"
     ]
    }
   ],
   "source": [
    "#menampilkan hasil splitting data\n",
    "print(f'panjang data train    : {len(x_train)} baris',\n",
    "      f'panjang label train   : {len(y_train)} baris',\n",
    "      f'panjang data testing  : {len(x_test)} baris',\n",
    "      f'panjang label testing : {len(y_test)} baris',\n",
    "      f'panjang total dataset Heart : {len(dataset_Heart)} baris',\n",
    "      sep='\\n')"
   ]
  },
  {
   "cell_type": "markdown",
   "metadata": {},
   "source": [
    "### Algoritma KNN"
   ]
  },
  {
   "cell_type": "markdown",
   "metadata": {},
   "source": [
    "KNN bekerja berdasarkan prinsip bahwa setiap titik data yang berdekatan satu sama lain akan berada di kelas yang sama. Dengan kata lain, KNN mengklasifikasikan titik data baru berdasarkan kemiripan. "
   ]
  },
  {
   "cell_type": "code",
   "execution_count": 56,
   "metadata": {},
   "outputs": [],
   "source": [
    "#memanggil fungsi klasifikasi untuk algoritma KNN\n",
    "knn_algorit = KNeighborsClassifier(n_neighbors=5)"
   ]
  },
  {
   "cell_type": "code",
   "execution_count": 57,
   "metadata": {},
   "outputs": [
    {
     "data": {
      "text/html": [
       "<style>#sk-container-id-6 {color: black;background-color: white;}#sk-container-id-6 pre{padding: 0;}#sk-container-id-6 div.sk-toggleable {background-color: white;}#sk-container-id-6 label.sk-toggleable__label {cursor: pointer;display: block;width: 100%;margin-bottom: 0;padding: 0.3em;box-sizing: border-box;text-align: center;}#sk-container-id-6 label.sk-toggleable__label-arrow:before {content: \"▸\";float: left;margin-right: 0.25em;color: #696969;}#sk-container-id-6 label.sk-toggleable__label-arrow:hover:before {color: black;}#sk-container-id-6 div.sk-estimator:hover label.sk-toggleable__label-arrow:before {color: black;}#sk-container-id-6 div.sk-toggleable__content {max-height: 0;max-width: 0;overflow: hidden;text-align: left;background-color: #f0f8ff;}#sk-container-id-6 div.sk-toggleable__content pre {margin: 0.2em;color: black;border-radius: 0.25em;background-color: #f0f8ff;}#sk-container-id-6 input.sk-toggleable__control:checked~div.sk-toggleable__content {max-height: 200px;max-width: 100%;overflow: auto;}#sk-container-id-6 input.sk-toggleable__control:checked~label.sk-toggleable__label-arrow:before {content: \"▾\";}#sk-container-id-6 div.sk-estimator input.sk-toggleable__control:checked~label.sk-toggleable__label {background-color: #d4ebff;}#sk-container-id-6 div.sk-label input.sk-toggleable__control:checked~label.sk-toggleable__label {background-color: #d4ebff;}#sk-container-id-6 input.sk-hidden--visually {border: 0;clip: rect(1px 1px 1px 1px);clip: rect(1px, 1px, 1px, 1px);height: 1px;margin: -1px;overflow: hidden;padding: 0;position: absolute;width: 1px;}#sk-container-id-6 div.sk-estimator {font-family: monospace;background-color: #f0f8ff;border: 1px dotted black;border-radius: 0.25em;box-sizing: border-box;margin-bottom: 0.5em;}#sk-container-id-6 div.sk-estimator:hover {background-color: #d4ebff;}#sk-container-id-6 div.sk-parallel-item::after {content: \"\";width: 100%;border-bottom: 1px solid gray;flex-grow: 1;}#sk-container-id-6 div.sk-label:hover label.sk-toggleable__label {background-color: #d4ebff;}#sk-container-id-6 div.sk-serial::before {content: \"\";position: absolute;border-left: 1px solid gray;box-sizing: border-box;top: 0;bottom: 0;left: 50%;z-index: 0;}#sk-container-id-6 div.sk-serial {display: flex;flex-direction: column;align-items: center;background-color: white;padding-right: 0.2em;padding-left: 0.2em;position: relative;}#sk-container-id-6 div.sk-item {position: relative;z-index: 1;}#sk-container-id-6 div.sk-parallel {display: flex;align-items: stretch;justify-content: center;background-color: white;position: relative;}#sk-container-id-6 div.sk-item::before, #sk-container-id-6 div.sk-parallel-item::before {content: \"\";position: absolute;border-left: 1px solid gray;box-sizing: border-box;top: 0;bottom: 0;left: 50%;z-index: -1;}#sk-container-id-6 div.sk-parallel-item {display: flex;flex-direction: column;z-index: 1;position: relative;background-color: white;}#sk-container-id-6 div.sk-parallel-item:first-child::after {align-self: flex-end;width: 50%;}#sk-container-id-6 div.sk-parallel-item:last-child::after {align-self: flex-start;width: 50%;}#sk-container-id-6 div.sk-parallel-item:only-child::after {width: 0;}#sk-container-id-6 div.sk-dashed-wrapped {border: 1px dashed gray;margin: 0 0.4em 0.5em 0.4em;box-sizing: border-box;padding-bottom: 0.4em;background-color: white;}#sk-container-id-6 div.sk-label label {font-family: monospace;font-weight: bold;display: inline-block;line-height: 1.2em;}#sk-container-id-6 div.sk-label-container {text-align: center;}#sk-container-id-6 div.sk-container {/* jupyter's `normalize.less` sets `[hidden] { display: none; }` but bootstrap.min.css set `[hidden] { display: none !important; }` so we also need the `!important` here to be able to override the default hidden behavior on the sphinx rendered scikit-learn.org. See: https://github.com/scikit-learn/scikit-learn/issues/21755 */display: inline-block !important;position: relative;}#sk-container-id-6 div.sk-text-repr-fallback {display: none;}</style><div id=\"sk-container-id-6\" class=\"sk-top-container\"><div class=\"sk-text-repr-fallback\"><pre>KNeighborsClassifier()</pre><b>In a Jupyter environment, please rerun this cell to show the HTML representation or trust the notebook. <br />On GitHub, the HTML representation is unable to render, please try loading this page with nbviewer.org.</b></div><div class=\"sk-container\" hidden><div class=\"sk-item\"><div class=\"sk-estimator sk-toggleable\"><input class=\"sk-toggleable__control sk-hidden--visually\" id=\"sk-estimator-id-6\" type=\"checkbox\" checked><label for=\"sk-estimator-id-6\" class=\"sk-toggleable__label sk-toggleable__label-arrow\">KNeighborsClassifier</label><div class=\"sk-toggleable__content\"><pre>KNeighborsClassifier()</pre></div></div></div></div></div>"
      ],
      "text/plain": [
       "KNeighborsClassifier()"
      ]
     },
     "execution_count": 57,
     "metadata": {},
     "output_type": "execute_result"
    }
   ],
   "source": [
    "# Fungsi fit() digunakan untuk melatih model\n",
    "knn_algorit.fit(x_train, y_train.values.ravel())"
   ]
  },
  {
   "cell_type": "code",
   "execution_count": 58,
   "metadata": {},
   "outputs": [],
   "source": [
    "#menentukan prediksi dari knn\n",
    "knn_prediksi = knn_algorit.predict(x_test)\n",
    "\n",
    "#menentukan keakuratan hasil prediksi\n",
    "akurasi = accuracy_score(y_test, knn_prediksi)"
   ]
  },
  {
   "cell_type": "code",
   "execution_count": 59,
   "metadata": {},
   "outputs": [
    {
     "data": {
      "text/plain": [
       "array(['Normal', 'ST', 'LVH'], dtype=object)"
      ]
     },
     "execution_count": 59,
     "metadata": {},
     "output_type": "execute_result"
    }
   ],
   "source": [
    "dataset_Heart['RestingECG'].unique()"
   ]
  },
  {
   "cell_type": "code",
   "execution_count": 60,
   "metadata": {},
   "outputs": [
    {
     "name": "stdout",
     "output_type": "stream",
     "text": [
      "Hasil prediksi knn : ['Normal' 'Normal' 'Normal' 'Normal' 'Normal' 'Normal' 'Normal' 'LVH'\n",
      " 'Normal' 'Normal' 'Normal' 'Normal' 'LVH' 'Normal' 'Normal' 'LVH'\n",
      " 'Normal' 'LVH' 'Normal' 'Normal' 'Normal' 'Normal' 'LVH' 'LVH' 'Normal'\n",
      " 'LVH' 'Normal' 'Normal' 'Normal' 'Normal' 'Normal' 'Normal' 'LVH' 'ST'\n",
      " 'LVH' 'Normal' 'Normal' 'Normal' 'LVH' 'Normal' 'Normal' 'Normal' 'ST'\n",
      " 'Normal' 'Normal' 'Normal' 'LVH' 'Normal' 'Normal' 'Normal' 'Normal' 'ST'\n",
      " 'Normal' 'Normal' 'Normal' 'Normal' 'LVH' 'Normal' 'Normal' 'Normal' 'ST'\n",
      " 'Normal' 'Normal' 'Normal' 'LVH' 'Normal' 'Normal' 'Normal' 'Normal'\n",
      " 'Normal' 'Normal' 'LVH' 'Normal' 'ST' 'LVH' 'Normal' 'Normal' 'Normal'\n",
      " 'ST' 'Normal' 'Normal' 'Normal' 'Normal' 'Normal' 'Normal' 'Normal' 'LVH'\n",
      " 'ST' 'Normal' 'Normal' 'Normal' 'LVH' 'Normal' 'Normal' 'Normal' 'ST'\n",
      " 'Normal' 'Normal' 'Normal' 'Normal' 'Normal' 'LVH' 'Normal' 'Normal'\n",
      " 'Normal' 'ST' 'Normal' 'Normal' 'Normal' 'Normal' 'Normal' 'Normal'\n",
      " 'Normal' 'Normal' 'Normal' 'LVH' 'LVH' 'Normal' 'Normal' 'Normal'\n",
      " 'Normal' 'Normal' 'Normal' 'Normal' 'Normal' 'Normal' 'Normal' 'Normal'\n",
      " 'Normal' 'Normal' 'Normal' 'Normal' 'Normal' 'ST' 'Normal' 'Normal' 'LVH'\n",
      " 'LVH' 'Normal' 'Normal' 'ST' 'LVH' 'Normal' 'Normal' 'Normal' 'Normal'\n",
      " 'Normal' 'ST' 'Normal' 'Normal' 'ST' 'Normal' 'Normal' 'Normal' 'LVH'\n",
      " 'Normal' 'ST' 'Normal' 'LVH' 'Normal' 'Normal' 'LVH' 'Normal' 'Normal'\n",
      " 'Normal' 'Normal' 'Normal' 'Normal' 'Normal' 'Normal' 'Normal' 'Normal'\n",
      " 'Normal' 'Normal' 'Normal' 'Normal' 'Normal' 'Normal' 'ST' 'LVH' 'Normal'\n",
      " 'LVH' 'Normal' 'Normal']\n",
      "kelas              :     RestingECG\n",
      "105     Normal\n",
      "344     Normal\n",
      "40      Normal\n",
      "645        LVH\n",
      "166         ST\n",
      "..         ...\n",
      "86      Normal\n",
      "828        LVH\n",
      "855        LVH\n",
      "350     Normal\n",
      "463     Normal\n",
      "\n",
      "[184 rows x 1 columns]\n",
      "akurasi            : 0.5597826086956522\n"
     ]
    }
   ],
   "source": [
    "#tampilkan hasil prediksi algoritma knn\n",
    "print(f'Hasil prediksi knn : {knn_prediksi}',\n",
    "      f'kelas              : {y_test}',\n",
    "      f'akurasi            : {akurasi}',\n",
    "      sep='\\n'\n",
    ")"
   ]
  },
  {
   "cell_type": "code",
   "execution_count": 61,
   "metadata": {},
   "outputs": [
    {
     "data": {
      "text/plain": [
       "0.5597826086956522"
      ]
     },
     "execution_count": 61,
     "metadata": {},
     "output_type": "execute_result"
    }
   ],
   "source": [
    "#menampilkan score \n",
    "knn_algorit.score(x_test, y_test)"
   ]
  },
  {
   "cell_type": "markdown",
   "metadata": {},
   "source": [
    "### Algoritma Naive bayes"
   ]
  },
  {
   "cell_type": "markdown",
   "metadata": {},
   "source": [
    "Mengadopsi prinsip kemandirian kelas bersyarat dari Teorema Bayes dimana ada tidaknya satu elemen tidak akan memengaruhi komponen lain dalam probabilitas hasil yang akan diberikan, dengan predictor yang mendapatkan efek yang sama."
   ]
  },
  {
   "cell_type": "code",
   "execution_count": 62,
   "metadata": {},
   "outputs": [
    {
     "data": {
      "text/html": [
       "<div>\n",
       "<style scoped>\n",
       "    .dataframe tbody tr th:only-of-type {\n",
       "        vertical-align: middle;\n",
       "    }\n",
       "\n",
       "    .dataframe tbody tr th {\n",
       "        vertical-align: top;\n",
       "    }\n",
       "\n",
       "    .dataframe thead th {\n",
       "        text-align: right;\n",
       "    }\n",
       "</style>\n",
       "<table border=\"1\" class=\"dataframe\">\n",
       "  <thead>\n",
       "    <tr style=\"text-align: right;\">\n",
       "      <th></th>\n",
       "      <th>Age</th>\n",
       "      <th>Sex</th>\n",
       "      <th>ChestPainType</th>\n",
       "      <th>RestingBP</th>\n",
       "      <th>Cholesterol</th>\n",
       "      <th>FastingBS</th>\n",
       "      <th>RestingECG</th>\n",
       "      <th>MaxHR</th>\n",
       "      <th>ExerciseAngina</th>\n",
       "      <th>Oldpeak</th>\n",
       "      <th>ST_Slope</th>\n",
       "      <th>HeartDisease</th>\n",
       "    </tr>\n",
       "  </thead>\n",
       "  <tbody>\n",
       "    <tr>\n",
       "      <th>0</th>\n",
       "      <td>40.0</td>\n",
       "      <td>M</td>\n",
       "      <td>ATA</td>\n",
       "      <td>140.000000</td>\n",
       "      <td>289.0</td>\n",
       "      <td>0</td>\n",
       "      <td>Normal</td>\n",
       "      <td>172.0</td>\n",
       "      <td>N</td>\n",
       "      <td>0.0</td>\n",
       "      <td>Up</td>\n",
       "      <td>0</td>\n",
       "    </tr>\n",
       "    <tr>\n",
       "      <th>1</th>\n",
       "      <td>49.0</td>\n",
       "      <td>F</td>\n",
       "      <td>NAP</td>\n",
       "      <td>160.000000</td>\n",
       "      <td>180.0</td>\n",
       "      <td>0</td>\n",
       "      <td>Normal</td>\n",
       "      <td>156.0</td>\n",
       "      <td>N</td>\n",
       "      <td>1.0</td>\n",
       "      <td>Flat</td>\n",
       "      <td>1</td>\n",
       "    </tr>\n",
       "    <tr>\n",
       "      <th>2</th>\n",
       "      <td>54.0</td>\n",
       "      <td>M</td>\n",
       "      <td>ATA</td>\n",
       "      <td>132.370897</td>\n",
       "      <td>283.0</td>\n",
       "      <td>0</td>\n",
       "      <td>ST</td>\n",
       "      <td>98.0</td>\n",
       "      <td>N</td>\n",
       "      <td>0.0</td>\n",
       "      <td>Up</td>\n",
       "      <td>0</td>\n",
       "    </tr>\n",
       "    <tr>\n",
       "      <th>3</th>\n",
       "      <td>54.0</td>\n",
       "      <td>F</td>\n",
       "      <td>ASY</td>\n",
       "      <td>132.370897</td>\n",
       "      <td>214.0</td>\n",
       "      <td>0</td>\n",
       "      <td>Normal</td>\n",
       "      <td>108.0</td>\n",
       "      <td>Y</td>\n",
       "      <td>1.5</td>\n",
       "      <td>Flat</td>\n",
       "      <td>1</td>\n",
       "    </tr>\n",
       "    <tr>\n",
       "      <th>4</th>\n",
       "      <td>54.0</td>\n",
       "      <td>M</td>\n",
       "      <td>NAP</td>\n",
       "      <td>132.370897</td>\n",
       "      <td>195.0</td>\n",
       "      <td>0</td>\n",
       "      <td>Normal</td>\n",
       "      <td>138.0</td>\n",
       "      <td>N</td>\n",
       "      <td>0.0</td>\n",
       "      <td>Up</td>\n",
       "      <td>0</td>\n",
       "    </tr>\n",
       "  </tbody>\n",
       "</table>\n",
       "</div>"
      ],
      "text/plain": [
       "    Age Sex ChestPainType   RestingBP  Cholesterol  FastingBS RestingECG  \\\n",
       "0  40.0   M           ATA  140.000000        289.0          0     Normal   \n",
       "1  49.0   F           NAP  160.000000        180.0          0     Normal   \n",
       "2  54.0   M           ATA  132.370897        283.0          0         ST   \n",
       "3  54.0   F           ASY  132.370897        214.0          0     Normal   \n",
       "4  54.0   M           NAP  132.370897        195.0          0     Normal   \n",
       "\n",
       "   MaxHR ExerciseAngina  Oldpeak ST_Slope  HeartDisease  \n",
       "0  172.0              N      0.0       Up             0  \n",
       "1  156.0              N      1.0     Flat             1  \n",
       "2   98.0              N      0.0       Up             0  \n",
       "3  108.0              Y      1.5     Flat             1  \n",
       "4  138.0              N      0.0       Up             0  "
      ]
     },
     "execution_count": 62,
     "metadata": {},
     "output_type": "execute_result"
    }
   ],
   "source": [
    "#panggil dan tampilkan dataset heart_baru.csv\n",
    "dataset_Heart = pd.read_csv('heart_baru.csv')\n",
    "dataset_Heart.head()"
   ]
  },
  {
   "cell_type": "code",
   "execution_count": 63,
   "metadata": {},
   "outputs": [
    {
     "name": "stdout",
     "output_type": "stream",
     "text": [
      "<class 'pandas.core.frame.DataFrame'>\n",
      "RangeIndex: 918 entries, 0 to 917\n",
      "Data columns (total 12 columns):\n",
      " #   Column          Non-Null Count  Dtype  \n",
      "---  ------          --------------  -----  \n",
      " 0   Age             918 non-null    float64\n",
      " 1   Sex             918 non-null    object \n",
      " 2   ChestPainType   918 non-null    object \n",
      " 3   RestingBP       918 non-null    float64\n",
      " 4   Cholesterol     918 non-null    float64\n",
      " 5   FastingBS       918 non-null    int64  \n",
      " 6   RestingECG      918 non-null    object \n",
      " 7   MaxHR           918 non-null    float64\n",
      " 8   ExerciseAngina  918 non-null    object \n",
      " 9   Oldpeak         918 non-null    float64\n",
      " 10  ST_Slope        918 non-null    object \n",
      " 11  HeartDisease    918 non-null    int64  \n",
      "dtypes: float64(5), int64(2), object(5)\n",
      "memory usage: 86.2+ KB\n"
     ]
    }
   ],
   "source": [
    "#lihat tipe data dari atribut dataset agar mudah digunakan\n",
    "dataset_Heart.info()"
   ]
  },
  {
   "cell_type": "code",
   "execution_count": 64,
   "metadata": {},
   "outputs": [],
   "source": [
    "#datasplit dengan fungsi dari sklearn\n",
    "X  = dataset_Heart[['Age','RestingBP','Cholesterol','FastingBS','MaxHR', 'Oldpeak', 'HeartDisease']]\n",
    "Y  = dataset_Heart[['RestingECG']]"
   ]
  },
  {
   "cell_type": "code",
   "execution_count": 71,
   "metadata": {},
   "outputs": [],
   "source": [
    "# membagi data testing sebanyak 20%\n",
    "x_train, x_test, y_train, y_test = train_test_split(X, Y, test_size=.2)"
   ]
  },
  {
   "cell_type": "code",
   "execution_count": 72,
   "metadata": {},
   "outputs": [],
   "source": [
    "#memanngilt fungsi klasifikasi Naive bayes\n",
    "naive_algorit = GaussianNB()"
   ]
  },
  {
   "cell_type": "code",
   "execution_count": 74,
   "metadata": {
    "scrolled": true
   },
   "outputs": [
    {
     "data": {
      "text/html": [
       "<style>#sk-container-id-9 {color: black;background-color: white;}#sk-container-id-9 pre{padding: 0;}#sk-container-id-9 div.sk-toggleable {background-color: white;}#sk-container-id-9 label.sk-toggleable__label {cursor: pointer;display: block;width: 100%;margin-bottom: 0;padding: 0.3em;box-sizing: border-box;text-align: center;}#sk-container-id-9 label.sk-toggleable__label-arrow:before {content: \"▸\";float: left;margin-right: 0.25em;color: #696969;}#sk-container-id-9 label.sk-toggleable__label-arrow:hover:before {color: black;}#sk-container-id-9 div.sk-estimator:hover label.sk-toggleable__label-arrow:before {color: black;}#sk-container-id-9 div.sk-toggleable__content {max-height: 0;max-width: 0;overflow: hidden;text-align: left;background-color: #f0f8ff;}#sk-container-id-9 div.sk-toggleable__content pre {margin: 0.2em;color: black;border-radius: 0.25em;background-color: #f0f8ff;}#sk-container-id-9 input.sk-toggleable__control:checked~div.sk-toggleable__content {max-height: 200px;max-width: 100%;overflow: auto;}#sk-container-id-9 input.sk-toggleable__control:checked~label.sk-toggleable__label-arrow:before {content: \"▾\";}#sk-container-id-9 div.sk-estimator input.sk-toggleable__control:checked~label.sk-toggleable__label {background-color: #d4ebff;}#sk-container-id-9 div.sk-label input.sk-toggleable__control:checked~label.sk-toggleable__label {background-color: #d4ebff;}#sk-container-id-9 input.sk-hidden--visually {border: 0;clip: rect(1px 1px 1px 1px);clip: rect(1px, 1px, 1px, 1px);height: 1px;margin: -1px;overflow: hidden;padding: 0;position: absolute;width: 1px;}#sk-container-id-9 div.sk-estimator {font-family: monospace;background-color: #f0f8ff;border: 1px dotted black;border-radius: 0.25em;box-sizing: border-box;margin-bottom: 0.5em;}#sk-container-id-9 div.sk-estimator:hover {background-color: #d4ebff;}#sk-container-id-9 div.sk-parallel-item::after {content: \"\";width: 100%;border-bottom: 1px solid gray;flex-grow: 1;}#sk-container-id-9 div.sk-label:hover label.sk-toggleable__label {background-color: #d4ebff;}#sk-container-id-9 div.sk-serial::before {content: \"\";position: absolute;border-left: 1px solid gray;box-sizing: border-box;top: 0;bottom: 0;left: 50%;z-index: 0;}#sk-container-id-9 div.sk-serial {display: flex;flex-direction: column;align-items: center;background-color: white;padding-right: 0.2em;padding-left: 0.2em;position: relative;}#sk-container-id-9 div.sk-item {position: relative;z-index: 1;}#sk-container-id-9 div.sk-parallel {display: flex;align-items: stretch;justify-content: center;background-color: white;position: relative;}#sk-container-id-9 div.sk-item::before, #sk-container-id-9 div.sk-parallel-item::before {content: \"\";position: absolute;border-left: 1px solid gray;box-sizing: border-box;top: 0;bottom: 0;left: 50%;z-index: -1;}#sk-container-id-9 div.sk-parallel-item {display: flex;flex-direction: column;z-index: 1;position: relative;background-color: white;}#sk-container-id-9 div.sk-parallel-item:first-child::after {align-self: flex-end;width: 50%;}#sk-container-id-9 div.sk-parallel-item:last-child::after {align-self: flex-start;width: 50%;}#sk-container-id-9 div.sk-parallel-item:only-child::after {width: 0;}#sk-container-id-9 div.sk-dashed-wrapped {border: 1px dashed gray;margin: 0 0.4em 0.5em 0.4em;box-sizing: border-box;padding-bottom: 0.4em;background-color: white;}#sk-container-id-9 div.sk-label label {font-family: monospace;font-weight: bold;display: inline-block;line-height: 1.2em;}#sk-container-id-9 div.sk-label-container {text-align: center;}#sk-container-id-9 div.sk-container {/* jupyter's `normalize.less` sets `[hidden] { display: none; }` but bootstrap.min.css set `[hidden] { display: none !important; }` so we also need the `!important` here to be able to override the default hidden behavior on the sphinx rendered scikit-learn.org. See: https://github.com/scikit-learn/scikit-learn/issues/21755 */display: inline-block !important;position: relative;}#sk-container-id-9 div.sk-text-repr-fallback {display: none;}</style><div id=\"sk-container-id-9\" class=\"sk-top-container\"><div class=\"sk-text-repr-fallback\"><pre>GaussianNB()</pre><b>In a Jupyter environment, please rerun this cell to show the HTML representation or trust the notebook. <br />On GitHub, the HTML representation is unable to render, please try loading this page with nbviewer.org.</b></div><div class=\"sk-container\" hidden><div class=\"sk-item\"><div class=\"sk-estimator sk-toggleable\"><input class=\"sk-toggleable__control sk-hidden--visually\" id=\"sk-estimator-id-9\" type=\"checkbox\" checked><label for=\"sk-estimator-id-9\" class=\"sk-toggleable__label sk-toggleable__label-arrow\">GaussianNB</label><div class=\"sk-toggleable__content\"><pre>GaussianNB()</pre></div></div></div></div></div>"
      ],
      "text/plain": [
       "GaussianNB()"
      ]
     },
     "execution_count": 74,
     "metadata": {},
     "output_type": "execute_result"
    }
   ],
   "source": [
    "#memasukkan data training pada fungsi Naive Bayes\n",
    "naive_algorit.fit(x_train, y_train.values.ravel())"
   ]
  },
  {
   "cell_type": "code",
   "execution_count": 77,
   "metadata": {},
   "outputs": [],
   "source": [
    "#menentukan hasil prediksi x_test\n",
    "naiveb_prediksi = naive_algorit.predict(x_test)"
   ]
  },
  {
   "cell_type": "code",
   "execution_count": 93,
   "metadata": {},
   "outputs": [],
   "source": [
    "#menentukan keakuratan hasil prediksi\n",
    "akurasiNaive = accuracy_score(y_test, naiveb_prediksi)"
   ]
  },
  {
   "cell_type": "code",
   "execution_count": 94,
   "metadata": {},
   "outputs": [
    {
     "name": "stdout",
     "output_type": "stream",
     "text": [
      "Hasil prediksi knn : ['Normal' 'Normal' 'Normal' 'Normal' 'LVH' 'LVH' 'Normal' 'Normal'\n",
      " 'Normal' 'Normal' 'Normal' 'Normal' 'ST' 'Normal' 'Normal' 'Normal'\n",
      " 'Normal' 'Normal' 'Normal' 'LVH' 'Normal' 'ST' 'Normal' 'Normal' 'LVH'\n",
      " 'Normal' 'Normal' 'Normal' 'Normal' 'Normal' 'Normal' 'Normal' 'Normal'\n",
      " 'ST' 'Normal' 'Normal' 'Normal' 'Normal' 'Normal' 'Normal' 'Normal'\n",
      " 'Normal' 'Normal' 'Normal' 'Normal' 'Normal' 'Normal' 'Normal' 'Normal'\n",
      " 'Normal' 'ST' 'Normal' 'Normal' 'ST' 'ST' 'Normal' 'Normal' 'Normal'\n",
      " 'Normal' 'Normal' 'Normal' 'Normal' 'Normal' 'Normal' 'Normal' 'Normal'\n",
      " 'Normal' 'Normal' 'ST' 'Normal' 'Normal' 'Normal' 'Normal' 'Normal'\n",
      " 'Normal' 'ST' 'Normal' 'ST' 'Normal' 'Normal' 'ST' 'ST' 'Normal' 'Normal'\n",
      " 'Normal' 'Normal' 'Normal' 'ST' 'LVH' 'Normal' 'Normal' 'Normal' 'Normal'\n",
      " 'Normal' 'Normal' 'Normal' 'Normal' 'Normal' 'Normal' 'Normal' 'Normal'\n",
      " 'LVH' 'Normal' 'Normal' 'Normal' 'Normal' 'ST' 'Normal' 'Normal' 'Normal'\n",
      " 'Normal' 'Normal' 'Normal' 'Normal' 'ST' 'Normal' 'Normal' 'Normal'\n",
      " 'Normal' 'LVH' 'Normal' 'Normal' 'Normal' 'Normal' 'LVH' 'Normal'\n",
      " 'Normal' 'Normal' 'Normal' 'Normal' 'Normal' 'Normal' 'LVH' 'Normal'\n",
      " 'Normal' 'Normal' 'ST' 'Normal' 'Normal' 'LVH' 'Normal' 'Normal' 'Normal'\n",
      " 'Normal' 'Normal' 'Normal' 'Normal' 'Normal' 'Normal' 'Normal' 'Normal'\n",
      " 'Normal' 'LVH' 'Normal' 'Normal' 'ST' 'Normal' 'Normal' 'Normal' 'Normal'\n",
      " 'Normal' 'Normal' 'Normal' 'Normal' 'ST' 'Normal' 'Normal' 'Normal'\n",
      " 'Normal' 'ST' 'Normal' 'Normal' 'Normal' 'Normal' 'ST' 'Normal' 'Normal'\n",
      " 'Normal' 'Normal' 'LVH' 'Normal' 'Normal' 'Normal' 'ST']\n",
      "kelas              :     RestingECG\n",
      "638     Normal\n",
      "787        LVH\n",
      "250     Normal\n",
      "656     Normal\n",
      "804     Normal\n",
      "..         ...\n",
      "858        LVH\n",
      "631     Normal\n",
      "848     Normal\n",
      "596        LVH\n",
      "345     Normal\n",
      "\n",
      "[184 rows x 1 columns]\n",
      "akurasi            : 0.6304347826086957\n"
     ]
    }
   ],
   "source": [
    "#tampilkan hasil prediksi algoritma knn\n",
    "print(f'Hasil prediksi knn : {naiveb_prediksi}',\n",
    "      f'kelas              : {y_test}',\n",
    "      f'akurasi            : {akurasiNaive}',\n",
    "      sep='\\n'\n",
    ")"
   ]
  },
  {
   "cell_type": "code",
   "execution_count": 95,
   "metadata": {},
   "outputs": [
    {
     "data": {
      "text/plain": [
       "array([[0.1492232 , 0.78953215, 0.06124465],\n",
       "       [0.28023901, 0.51818397, 0.20157701],\n",
       "       [0.0863388 , 0.76615132, 0.14750988],\n",
       "       [0.3014836 , 0.62432234, 0.07419406],\n",
       "       [0.40148531, 0.22861268, 0.369902  ],\n",
       "       [0.65958007, 0.14998947, 0.19043046],\n",
       "       [0.0215948 , 0.55782363, 0.42058158],\n",
       "       [0.12209013, 0.85877517, 0.0191347 ],\n",
       "       [0.29124746, 0.58467505, 0.1240775 ],\n",
       "       [0.19808384, 0.69379013, 0.10812603],\n",
       "       [0.03063304, 0.53194659, 0.43742038],\n",
       "       [0.26942671, 0.59264521, 0.13792807],\n",
       "       [0.19999936, 0.24342979, 0.55657085],\n",
       "       [0.020824  , 0.516509  , 0.462667  ],\n",
       "       [0.00431931, 0.5682759 , 0.4274048 ],\n",
       "       [0.15519479, 0.67901862, 0.16578659],\n",
       "       [0.25152813, 0.66439594, 0.08407593],\n",
       "       [0.01591065, 0.53091333, 0.45317601],\n",
       "       [0.23432958, 0.62678438, 0.13888603],\n",
       "       [0.40615743, 0.35378698, 0.24005559],\n",
       "       [0.08772215, 0.76013575, 0.15214211],\n",
       "       [0.02482553, 0.30297971, 0.67219476],\n",
       "       [0.36732367, 0.41702344, 0.21565289],\n",
       "       [0.34258095, 0.60105306, 0.05636599],\n",
       "       [0.53078513, 0.20317219, 0.26604268],\n",
       "       [0.27647997, 0.66108032, 0.0624397 ],\n",
       "       [0.38457326, 0.44376245, 0.17166428],\n",
       "       [0.01153235, 0.69391326, 0.29455439],\n",
       "       [0.25195658, 0.66236605, 0.08567737],\n",
       "       [0.29048302, 0.42220965, 0.28730733],\n",
       "       [0.07524941, 0.81653851, 0.10821208],\n",
       "       [0.16639799, 0.78883069, 0.04477132],\n",
       "       [0.32881367, 0.47816349, 0.19302284],\n",
       "       [0.02010098, 0.35604469, 0.62385434],\n",
       "       [0.17370018, 0.79807608, 0.02822374],\n",
       "       [0.1182452 , 0.83102288, 0.05073193],\n",
       "       [0.0192476 , 0.75028665, 0.23046575],\n",
       "       [0.32039831, 0.56288937, 0.11671232],\n",
       "       [0.15585314, 0.81286635, 0.03128052],\n",
       "       [0.27253151, 0.66222918, 0.06523931],\n",
       "       [0.10908995, 0.85265815, 0.03825191],\n",
       "       [0.30941243, 0.37753393, 0.31305363],\n",
       "       [0.25702976, 0.65052047, 0.09244977],\n",
       "       [0.11047816, 0.83408569, 0.05543615],\n",
       "       [0.20224299, 0.77034869, 0.02740833],\n",
       "       [0.20419282, 0.66625395, 0.12955324],\n",
       "       [0.01346151, 0.89541496, 0.09112353],\n",
       "       [0.16817063, 0.80348052, 0.02834884],\n",
       "       [0.12580001, 0.8247155 , 0.04948449],\n",
       "       [0.15049199, 0.83038564, 0.01912237],\n",
       "       [0.02454378, 0.23598402, 0.7394722 ],\n",
       "       [0.09909875, 0.74796623, 0.15293501],\n",
       "       [0.26581155, 0.69854926, 0.03563919],\n",
       "       [0.33987535, 0.19081766, 0.469307  ],\n",
       "       [0.10057658, 0.32393003, 0.57549339],\n",
       "       [0.23527497, 0.68399126, 0.08073377],\n",
       "       [0.05101731, 0.58099437, 0.36798833],\n",
       "       [0.01407113, 0.74834678, 0.23758209],\n",
       "       [0.27135868, 0.70170083, 0.02694049],\n",
       "       [0.39797774, 0.49135357, 0.11066868],\n",
       "       [0.02612879, 0.50027932, 0.47359189],\n",
       "       [0.01146072, 0.50756092, 0.48097836],\n",
       "       [0.09553621, 0.87867419, 0.0257896 ],\n",
       "       [0.14217533, 0.8347858 , 0.02303887],\n",
       "       [0.1548498 , 0.78671968, 0.05843052],\n",
       "       [0.11953608, 0.7493871 , 0.13107682],\n",
       "       [0.18680482, 0.72328966, 0.08990552],\n",
       "       [0.16216335, 0.67560721, 0.16222944],\n",
       "       [0.01387173, 0.39253124, 0.59359703],\n",
       "       [0.23045109, 0.6703634 , 0.09918551],\n",
       "       [0.20724187, 0.70141471, 0.09134342],\n",
       "       [0.36295882, 0.55354326, 0.08349792],\n",
       "       [0.26607146, 0.59253582, 0.14139272],\n",
       "       [0.21732234, 0.67366722, 0.10901044],\n",
       "       [0.01210399, 0.55155817, 0.43633784],\n",
       "       [0.00950073, 0.23597536, 0.75452391],\n",
       "       [0.21431905, 0.71328135, 0.0723996 ],\n",
       "       [0.33556176, 0.16893409, 0.49550414],\n",
       "       [0.10023374, 0.89266326, 0.00710299],\n",
       "       [0.29135386, 0.6712055 , 0.03744064],\n",
       "       [0.01321923, 0.26491794, 0.72186283],\n",
       "       [0.01590958, 0.25748275, 0.72660767],\n",
       "       [0.35330374, 0.37879947, 0.26789679],\n",
       "       [0.19887332, 0.78384487, 0.01728181],\n",
       "       [0.12525701, 0.63129414, 0.24344885],\n",
       "       [0.21388342, 0.75729895, 0.02881763],\n",
       "       [0.23888801, 0.71396209, 0.04714989],\n",
       "       [0.10812459, 0.38046497, 0.51141044],\n",
       "       [0.55864911, 0.34579313, 0.09555776],\n",
       "       [0.19836442, 0.74716624, 0.05446934],\n",
       "       [0.15129805, 0.73993998, 0.10876197],\n",
       "       [0.11798372, 0.83701405, 0.04500223],\n",
       "       [0.26432458, 0.62415099, 0.11152443],\n",
       "       [0.39222667, 0.51468012, 0.09309321],\n",
       "       [0.24374788, 0.53622585, 0.22002627],\n",
       "       [0.14176951, 0.83653207, 0.02169842],\n",
       "       [0.07182864, 0.90810985, 0.02006151],\n",
       "       [0.24312799, 0.65774621, 0.0991258 ],\n",
       "       [0.17415008, 0.70115045, 0.12469947],\n",
       "       [0.08312405, 0.82718543, 0.08969052],\n",
       "       [0.19670108, 0.66787643, 0.13542248],\n",
       "       [0.46201771, 0.34808973, 0.18989255],\n",
       "       [0.22932356, 0.71736444, 0.053312  ],\n",
       "       [0.16216335, 0.67560721, 0.16222944],\n",
       "       [0.18685315, 0.51541623, 0.29773062],\n",
       "       [0.24648848, 0.70902096, 0.04449055],\n",
       "       [0.01043153, 0.15141543, 0.83815304],\n",
       "       [0.01063288, 0.84443828, 0.14492884],\n",
       "       [0.43850916, 0.46834672, 0.09314412],\n",
       "       [0.01629221, 0.68392013, 0.29978766],\n",
       "       [0.20373975, 0.64212769, 0.15413256],\n",
       "       [0.10069058, 0.83237553, 0.06693389],\n",
       "       [0.41084766, 0.41873508, 0.17041725],\n",
       "       [0.16838247, 0.64253821, 0.18907931],\n",
       "       [0.0603068 , 0.14659888, 0.79309432],\n",
       "       [0.15650591, 0.81452269, 0.0289714 ],\n",
       "       [0.10016832, 0.47732934, 0.42250234],\n",
       "       [0.14827457, 0.72376233, 0.1279631 ],\n",
       "       [0.42834841, 0.46985965, 0.10179194],\n",
       "       [0.51619506, 0.32758259, 0.15622235],\n",
       "       [0.11460333, 0.86374146, 0.0216552 ],\n",
       "       [0.26146927, 0.467262  , 0.27126873],\n",
       "       [0.00784025, 0.87819824, 0.11396151],\n",
       "       [0.15034362, 0.81298282, 0.03667356],\n",
       "       [0.49945523, 0.30628265, 0.19426212],\n",
       "       [0.19935536, 0.71073061, 0.08991403],\n",
       "       [0.16233939, 0.46379113, 0.37386948],\n",
       "       [0.01541236, 0.86170167, 0.12288597],\n",
       "       [0.2041253 , 0.74250499, 0.0533697 ],\n",
       "       [0.15412074, 0.80377949, 0.04209977],\n",
       "       [0.01087996, 0.64035054, 0.3487695 ],\n",
       "       [0.08910183, 0.89663686, 0.01426131],\n",
       "       [0.45541217, 0.35996775, 0.18462008],\n",
       "       [0.29642143, 0.47268173, 0.23089684],\n",
       "       [0.27896853, 0.54712287, 0.17390861],\n",
       "       [0.33616066, 0.44728536, 0.21655398],\n",
       "       [0.00802955, 0.18847315, 0.8034973 ],\n",
       "       [0.41952828, 0.46049841, 0.11997331],\n",
       "       [0.25206978, 0.71019699, 0.03773323],\n",
       "       [0.65763627, 0.18223371, 0.16013002],\n",
       "       [0.17874771, 0.64997627, 0.17127602],\n",
       "       [0.21426074, 0.55943061, 0.22630865],\n",
       "       [0.2280844 , 0.53133875, 0.24057685],\n",
       "       [0.00986799, 0.69076046, 0.29937154],\n",
       "       [0.18731371, 0.72081013, 0.09187616],\n",
       "       [0.34916323, 0.53255867, 0.1182781 ],\n",
       "       [0.28261316, 0.37244452, 0.34494232],\n",
       "       [0.27753758, 0.63380924, 0.08865318],\n",
       "       [0.30624839, 0.59672481, 0.09702679],\n",
       "       [0.10448132, 0.53714758, 0.3583711 ],\n",
       "       [0.12400198, 0.77353568, 0.10246234],\n",
       "       [0.27169978, 0.4782765 , 0.25002372],\n",
       "       [0.60427969, 0.2069769 , 0.18874341],\n",
       "       [0.33965976, 0.5307227 , 0.12961754],\n",
       "       [0.15707251, 0.78120011, 0.06172739],\n",
       "       [0.01472245, 0.29154483, 0.69373272],\n",
       "       [0.28570633, 0.54858619, 0.16570749],\n",
       "       [0.23220022, 0.71452465, 0.05327513],\n",
       "       [0.20375398, 0.52017681, 0.27606921],\n",
       "       [0.11651428, 0.87350464, 0.00998108],\n",
       "       [0.22073401, 0.69463414, 0.08463184],\n",
       "       [0.18562163, 0.69638787, 0.1179905 ],\n",
       "       [0.27351652, 0.5745441 , 0.15193937],\n",
       "       [0.24558977, 0.59183201, 0.16257822],\n",
       "       [0.00806166, 0.20166935, 0.790269  ],\n",
       "       [0.3052496 , 0.63781594, 0.05693445],\n",
       "       [0.19274216, 0.59536201, 0.21189583],\n",
       "       [0.24805047, 0.39855535, 0.35339418],\n",
       "       [0.25943927, 0.64617741, 0.09438332],\n",
       "       [0.0143117 , 0.49193642, 0.49375187],\n",
       "       [0.39468178, 0.48063254, 0.12468568],\n",
       "       [0.13083132, 0.82891926, 0.04024942],\n",
       "       [0.21253421, 0.62863394, 0.15883185],\n",
       "       [0.26594818, 0.54470894, 0.18934288],\n",
       "       [0.26078264, 0.24892634, 0.49029102],\n",
       "       [0.22757138, 0.51769568, 0.25473295],\n",
       "       [0.23491693, 0.72451931, 0.04056377],\n",
       "       [0.01313616, 0.76214743, 0.22471642],\n",
       "       [0.33062724, 0.46424873, 0.20512403],\n",
       "       [0.65567277, 0.21387234, 0.1304549 ],\n",
       "       [0.23349675, 0.60765231, 0.15885094],\n",
       "       [0.28151073, 0.63340834, 0.08508093],\n",
       "       [0.16225989, 0.63037243, 0.20736768],\n",
       "       [0.03196397, 0.46165852, 0.50637751]])"
      ]
     },
     "execution_count": 95,
     "metadata": {},
     "output_type": "execute_result"
    }
   ],
   "source": [
    "#menentukan probabilitas hasil prediksi \n",
    "naive_algorit.predict_proba(x_test)"
   ]
  },
  {
   "cell_type": "code",
   "execution_count": 96,
   "metadata": {},
   "outputs": [],
   "source": [
    "# # import model confusion matrix\n",
    "# from sklearn.metrics import confusion_matrix\n",
    "# confusion_matrix(y_test, naiveb_prediksi)"
   ]
  },
  {
   "cell_type": "code",
   "execution_count": 97,
   "metadata": {},
   "outputs": [
    {
     "name": "stdout",
     "output_type": "stream",
     "text": [
      "akurasi algoritma naive bayes(dalam %): 63.04347826086957\n"
     ]
    }
   ],
   "source": [
    "print(\"akurasi algoritma naive bayes(dalam %):\",\n",
    "metrics.accuracy_score(y_test, naiveb_prediksi)*100)"
   ]
  },
  {
   "cell_type": "code",
   "execution_count": null,
   "metadata": {},
   "outputs": [],
   "source": []
  }
 ],
 "metadata": {
  "kernelspec": {
   "display_name": "Python 3 (ipykernel)",
   "language": "python",
   "name": "python3"
  },
  "language_info": {
   "codemirror_mode": {
    "name": "ipython",
    "version": 3
   },
   "file_extension": ".py",
   "mimetype": "text/x-python",
   "name": "python",
   "nbconvert_exporter": "python",
   "pygments_lexer": "ipython3",
   "version": "3.10.7"
  },
  "vscode": {
   "interpreter": {
    "hash": "027efd7095115064582efab50921964d678032cf36f1ec215c675cf4ffc5e6b9"
   }
  }
 },
 "nbformat": 4,
 "nbformat_minor": 2
}
